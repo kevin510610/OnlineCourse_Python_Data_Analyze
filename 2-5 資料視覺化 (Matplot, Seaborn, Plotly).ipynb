{
 "cells": [
  {
   "cell_type": "code",
   "execution_count": 1,
   "id": "collaborative-situation",
   "metadata": {},
   "outputs": [],
   "source": [
    "from sklearn import datasets\n",
    "import pandas as pd\n",
    "import numpy as np"
   ]
  },
  {
   "cell_type": "code",
   "execution_count": 2,
   "id": "protecting-mambo",
   "metadata": {},
   "outputs": [
    {
     "name": "stdout",
     "output_type": "stream",
     "text": [
      "target_names: ['setosa' 'versicolor' 'virginica']\n"
     ]
    },
    {
     "data": {
      "text/html": [
       "<div>\n",
       "<style scoped>\n",
       "    .dataframe tbody tr th:only-of-type {\n",
       "        vertical-align: middle;\n",
       "    }\n",
       "\n",
       "    .dataframe tbody tr th {\n",
       "        vertical-align: top;\n",
       "    }\n",
       "\n",
       "    .dataframe thead th {\n",
       "        text-align: right;\n",
       "    }\n",
       "</style>\n",
       "<table border=\"1\" class=\"dataframe\">\n",
       "  <thead>\n",
       "    <tr style=\"text-align: right;\">\n",
       "      <th></th>\n",
       "      <th>sepal length (cm)</th>\n",
       "      <th>sepal width (cm)</th>\n",
       "      <th>petal length (cm)</th>\n",
       "      <th>petal width (cm)</th>\n",
       "      <th>target</th>\n",
       "    </tr>\n",
       "  </thead>\n",
       "  <tbody>\n",
       "    <tr>\n",
       "      <th>0</th>\n",
       "      <td>5.1</td>\n",
       "      <td>3.5</td>\n",
       "      <td>1.4</td>\n",
       "      <td>0.2</td>\n",
       "      <td>0</td>\n",
       "    </tr>\n",
       "    <tr>\n",
       "      <th>1</th>\n",
       "      <td>4.9</td>\n",
       "      <td>3.0</td>\n",
       "      <td>1.4</td>\n",
       "      <td>0.2</td>\n",
       "      <td>0</td>\n",
       "    </tr>\n",
       "    <tr>\n",
       "      <th>2</th>\n",
       "      <td>4.7</td>\n",
       "      <td>3.2</td>\n",
       "      <td>1.3</td>\n",
       "      <td>0.2</td>\n",
       "      <td>0</td>\n",
       "    </tr>\n",
       "  </tbody>\n",
       "</table>\n",
       "</div>"
      ],
      "text/plain": [
       "   sepal length (cm)  sepal width (cm)  petal length (cm)  petal width (cm)  \\\n",
       "0                5.1               3.5                1.4               0.2   \n",
       "1                4.9               3.0                1.4               0.2   \n",
       "2                4.7               3.2                1.3               0.2   \n",
       "\n",
       "   target  \n",
       "0       0  \n",
       "1       0  \n",
       "2       0  "
      ]
     },
     "execution_count": 2,
     "metadata": {},
     "output_type": "execute_result"
    }
   ],
   "source": [
    "iris = datasets.load_iris()\n",
    "x = pd.DataFrame(iris['data'], columns=iris['feature_names'])\n",
    "print('target_names: '+str(iris['target_names']))\n",
    "y = pd.DataFrame(iris['target'],columns=['target'])\n",
    "iris_data = pd.concat([x,y],axis=1)\n",
    "iris_data.head(3)"
   ]
  },
  {
   "cell_type": "code",
   "execution_count": 3,
   "id": "warming-swiss",
   "metadata": {},
   "outputs": [],
   "source": [
    "import matplotlib.pyplot as plt"
   ]
  },
  {
   "cell_type": "markdown",
   "id": "blessed-prayer",
   "metadata": {},
   "source": [
    "# Matplotlib"
   ]
  },
  {
   "cell_type": "code",
   "execution_count": 4,
   "id": "packed-neighborhood",
   "metadata": {},
   "outputs": [
    {
     "data": {
      "text/plain": [
       "[<matplotlib.lines.Line2D at 0x7fea74b90a60>]"
      ]
     },
     "execution_count": 4,
     "metadata": {},
     "output_type": "execute_result"
    },
    {
     "data": {
      "image/png": "[encoded data removed]",
      "text/plain": [
       "<Figure size 432x288 with 1 Axes>"
      ]
     },
     "metadata": {
      "needs_background": "light"
     },
     "output_type": "display_data"
    }
   ],
   "source": [
    "plt.plot([1,2,3,4])"
   ]
  },
  {
   "cell_type": "code",
   "execution_count": 5,
   "id": "functioning-sweden",
   "metadata": {},
   "outputs": [
    {
     "data": {
      "text/plain": [
       "Text(0.5, 0, 'x label')"
      ]
     },
     "execution_count": 5,
     "metadata": {},
     "output_type": "execute_result"
    },
    {
     "data": {
      "image/png": "[encoded data removed]",
      "text/plain": [
       "<Figure size 432x288 with 1 Axes>"
      ]
     },
     "metadata": {
      "needs_background": "light"
     },
     "output_type": "display_data"
    }
   ],
   "source": [
    "#第一個參數是 x 第二個是 y\n",
    "plt.plot([1,2,3,4],[1,4,9,16])\n",
    "\n",
    "#命名 x, y 軸的名稱\n",
    "plt.ylabel('y label')\n",
    "plt.xlabel('x label')"
   ]
  },
  {
   "cell_type": "code",
   "execution_count": 6,
   "id": "suitable-fighter",
   "metadata": {},
   "outputs": [
    {
     "data": {
      "text/plain": [
       "[<matplotlib.lines.Line2D at 0x7fea74dc7fa0>]"
      ]
     },
     "execution_count": 6,
     "metadata": {},
     "output_type": "execute_result"
    },
    {
     "data": {
      "image/png": "[encoded data removed]",
      "text/plain": [
       "<Figure size 432x288 with 1 Axes>"
      ]
     },
     "metadata": {
      "needs_background": "light"
     },
     "output_type": "display_data"
    }
   ],
   "source": [
    "#第三個參數可以改變線的形狀和顏色，可以用 shift+tab 查有哪些可以用\n",
    "plt.plot([1,2,3,4],[1,4,9,16], 'g--')"
   ]
  },
  {
   "cell_type": "code",
   "execution_count": 7,
   "id": "unlimited-soldier",
   "metadata": {},
   "outputs": [
    {
     "data": {
      "text/plain": [
       "(0.0, 6.0, 0.0, 20.0)"
      ]
     },
     "execution_count": 7,
     "metadata": {},
     "output_type": "execute_result"
    },
    {
     "data": {
      "image/png": "[encoded data removed]",
      "text/plain": [
       "<Figure size 432x288 with 1 Axes>"
      ]
     },
     "metadata": {
      "needs_background": "light"
     },
     "output_type": "display_data"
    }
   ],
   "source": [
    "plt.plot([1,2,3,4],[1,4,9,16], 'ro')\n",
    "\n",
    "#指定軸的範圍 前兩個是 x 的範圍、後兩個是 y 的範圍\n",
    "plt.axis([0,6,0,20])"
   ]
  },
  {
   "cell_type": "code",
   "execution_count": 8,
   "id": "herbal-pavilion",
   "metadata": {},
   "outputs": [
    {
     "name": "stdout",
     "output_type": "stream",
     "text": [
      "t: [0.  0.2 0.4 0.6 0.8 1.  1.2 1.4 1.6 1.8 2.  2.2 2.4 2.6 2.8 3.  3.2 3.4\n",
      " 3.6 3.8 4.  4.2 4.4 4.6 4.8]\n"
     ]
    },
    {
     "data": {
      "text/plain": [
       "[<matplotlib.lines.Line2D at 0x7fea74f9b7f0>,\n",
       " <matplotlib.lines.Line2D at 0x7fea74f9b6a0>,\n",
       " <matplotlib.lines.Line2D at 0x7fea74f9b8e0>]"
      ]
     },
     "execution_count": 8,
     "metadata": {},
     "output_type": "execute_result"
    },
    {
     "data": {
      "image/png": "[encoded data removed]",
      "text/plain": [
       "<Figure size 432x288 with 1 Axes>"
      ]
     },
     "metadata": {
      "needs_background": "light"
     },
     "output_type": "display_data"
    }
   ],
   "source": [
    "#生成 0 ~ 5 間隔是 0.2 的數值\n",
    "t = np.arange(0., 5., 0.2)\n",
    "print(\"t: \"+str(t))\n",
    "\n",
    "#一次畫三個方程式，可以直接依照你要放多少條就一直放參數\n",
    "plt.plot(t, t, 'r--', t, t**2, 'bs', t, t**3, 'g^')"
   ]
  },
  {
   "cell_type": "code",
   "execution_count": 9,
   "id": "arbitrary-transmission",
   "metadata": {},
   "outputs": [
    {
     "data": {
      "text/plain": [
       "<BarContainer object of 29 artists>"
      ]
     },
     "execution_count": 9,
     "metadata": {},
     "output_type": "execute_result"
    },
    {
     "data": {
      "image/png": "[encoded data removed]",
      "text/plain": [
       "<Figure size 432x288 with 1 Axes>"
      ]
     },
     "metadata": {
      "needs_background": "light"
     },
     "output_type": "display_data"
    }
   ],
   "source": [
    "#直方圖\n",
    "x = [4, 4, 7, 7, 8, 9,10,10,10,11,11,12,12,12,12,13,13,13,13,14,14,14,14,15,15,15,16,16,17]\n",
    "y = [2,10, 4,22,16,10,18,26,34,17,28,14,20,24,28,26,34,34,46,26,36,60,80,20,26,54,32,40,32]\n",
    "\n",
    "plt.bar(x,y)"
   ]
  },
  {
   "cell_type": "code",
   "execution_count": 10,
   "id": "beneficial-device",
   "metadata": {},
   "outputs": [
    {
     "data": {
      "text/plain": [
       "<matplotlib.collections.PathCollection at 0x7fea75169340>"
      ]
     },
     "execution_count": 10,
     "metadata": {},
     "output_type": "execute_result"
    },
    {
     "data": {
      "image/png": "[encoded data removed]",
      "text/plain": [
       "<Figure size 432x288 with 1 Axes>"
      ]
     },
     "metadata": {
      "needs_background": "light"
     },
     "output_type": "display_data"
    }
   ],
   "source": [
    "#散步圖\n",
    "x = [4, 4, 7, 7, 8, 9,10,10,10,11,11,12,12,12,12,13,13,13,13,14,14,14,14,15,15,15,16,16,17]\n",
    "y = [2,10, 4,22,16,10,18,26,34,17,28,14,20,24,28,26,34,34,46,26,36,60,80,20,26,54,32,40,32]\n",
    "\n",
    "plt.scatter(x,y)"
   ]
  },
  {
   "cell_type": "markdown",
   "id": "metric-latvia",
   "metadata": {},
   "source": [
    "## Pandas plot"
   ]
  },
  {
   "cell_type": "code",
   "execution_count": 11,
   "id": "narrow-senate",
   "metadata": {},
   "outputs": [
    {
     "data": {
      "text/plain": [
       "<AxesSubplot:xlabel='sepal length (cm)', ylabel='sepal width (cm)'>"
      ]
     },
     "execution_count": 11,
     "metadata": {},
     "output_type": "execute_result"
    },
    {
     "data": {
      "image/png": "[encoded data removed]",
      "text/plain": [
       "<Figure size 432x288 with 2 Axes>"
      ]
     },
     "metadata": {
      "needs_background": "light"
     },
     "output_type": "display_data"
    }
   ],
   "source": [
    "iris_data.plot.scatter(x='sepal length (cm)',y='sepal width (cm)', c='target')"
   ]
  },
  {
   "cell_type": "code",
   "execution_count": 14,
   "id": "inside-buffer",
   "metadata": {},
   "outputs": [],
   "source": [
    "color = {\n",
    "    0: 'r',\n",
    "    1: 'g',\n",
    "    2: 'b'\n",
    "}"
   ]
  },
  {
   "cell_type": "code",
   "execution_count": 19,
   "id": "duplicate-dallas",
   "metadata": {},
   "outputs": [
    {
     "data": {
      "text/html": [
       "<div>\n",
       "<style scoped>\n",
       "    .dataframe tbody tr th:only-of-type {\n",
       "        vertical-align: middle;\n",
       "    }\n",
       "\n",
       "    .dataframe tbody tr th {\n",
       "        vertical-align: top;\n",
       "    }\n",
       "\n",
       "    .dataframe thead th {\n",
       "        text-align: right;\n",
       "    }\n",
       "</style>\n",
       "<table border=\"1\" class=\"dataframe\">\n",
       "  <thead>\n",
       "    <tr style=\"text-align: right;\">\n",
       "      <th></th>\n",
       "      <th>sepal length (cm)</th>\n",
       "      <th>sepal width (cm)</th>\n",
       "      <th>petal length (cm)</th>\n",
       "      <th>petal width (cm)</th>\n",
       "      <th>target</th>\n",
       "      <th>colors</th>\n",
       "    </tr>\n",
       "  </thead>\n",
       "  <tbody>\n",
       "    <tr>\n",
       "      <th>0</th>\n",
       "      <td>5.1</td>\n",
       "      <td>3.5</td>\n",
       "      <td>1.4</td>\n",
       "      <td>0.2</td>\n",
       "      <td>0</td>\n",
       "      <td>r</td>\n",
       "    </tr>\n",
       "    <tr>\n",
       "      <th>1</th>\n",
       "      <td>4.9</td>\n",
       "      <td>3.0</td>\n",
       "      <td>1.4</td>\n",
       "      <td>0.2</td>\n",
       "      <td>0</td>\n",
       "      <td>r</td>\n",
       "    </tr>\n",
       "    <tr>\n",
       "      <th>2</th>\n",
       "      <td>4.7</td>\n",
       "      <td>3.2</td>\n",
       "      <td>1.3</td>\n",
       "      <td>0.2</td>\n",
       "      <td>0</td>\n",
       "      <td>r</td>\n",
       "    </tr>\n",
       "    <tr>\n",
       "      <th>3</th>\n",
       "      <td>4.6</td>\n",
       "      <td>3.1</td>\n",
       "      <td>1.5</td>\n",
       "      <td>0.2</td>\n",
       "      <td>0</td>\n",
       "      <td>r</td>\n",
       "    </tr>\n",
       "    <tr>\n",
       "      <th>4</th>\n",
       "      <td>5.0</td>\n",
       "      <td>3.6</td>\n",
       "      <td>1.4</td>\n",
       "      <td>0.2</td>\n",
       "      <td>0</td>\n",
       "      <td>r</td>\n",
       "    </tr>\n",
       "  </tbody>\n",
       "</table>\n",
       "</div>"
      ],
      "text/plain": [
       "   sepal length (cm)  sepal width (cm)  petal length (cm)  petal width (cm)  \\\n",
       "0                5.1               3.5                1.4               0.2   \n",
       "1                4.9               3.0                1.4               0.2   \n",
       "2                4.7               3.2                1.3               0.2   \n",
       "3                4.6               3.1                1.5               0.2   \n",
       "4                5.0               3.6                1.4               0.2   \n",
       "\n",
       "   target colors  \n",
       "0       0      r  \n",
       "1       0      r  \n",
       "2       0      r  \n",
       "3       0      r  \n",
       "4       0      r  "
      ]
     },
     "execution_count": 19,
     "metadata": {},
     "output_type": "execute_result"
    }
   ],
   "source": [
    "#使用 map 作轉換，將target裡的數值根據color轉換到新的colors欄位\n",
    "iris_data['colors'] = iris_data['target'].map(color)\n",
    "\n",
    "iris_data.head(5)"
   ]
  },
  {
   "cell_type": "code",
   "execution_count": 21,
   "id": "separated-reference",
   "metadata": {},
   "outputs": [
    {
     "data": {
      "text/plain": [
       "<AxesSubplot:xlabel='sepal length (cm)', ylabel='sepal width (cm)'>"
      ]
     },
     "execution_count": 21,
     "metadata": {},
     "output_type": "execute_result"
    },
    {
     "data": {
      "image/png": "[encoded data removed]",
      "text/plain": [
       "<Figure size 432x288 with 1 Axes>"
      ]
     },
     "metadata": {
      "needs_background": "light"
     },
     "output_type": "display_data"
    }
   ],
   "source": [
    "#第一個參數是 x 要用哪欄，第二個參數是 y 要用哪欄，第三個是顏色要用哪欄\n",
    "iris_data.plot.scatter(x='sepal length (cm)',y='sepal width (cm)', c=iris_data['colors'])"
   ]
  },
  {
   "cell_type": "markdown",
   "id": "smooth-salmon",
   "metadata": {},
   "source": [
    "## Add Label"
   ]
  },
  {
   "cell_type": "code",
   "execution_count": 28,
   "id": "imposed-converter",
   "metadata": {
    "scrolled": true
   },
   "outputs": [
    {
     "data": {
      "text/plain": [
       "<AxesSubplot:xlabel='sepal length (cm)', ylabel='sepal width (cm)'>"
      ]
     },
     "execution_count": 28,
     "metadata": {},
     "output_type": "execute_result"
    },
    {
     "data": {
      "image/png": "[encoded data removed]",
      "text/plain": [
       "<Figure size 432x288 with 1 Axes>"
      ]
     },
     "metadata": {
      "needs_background": "light"
     },
     "output_type": "display_data"
    },
    {
     "data": {
      "image/png": "[encoded data removed]",
      "text/plain": [
       "<Figure size 432x288 with 1 Axes>"
      ]
     },
     "metadata": {
      "needs_background": "light"
     },
     "output_type": "display_data"
    },
    {
     "data": {
      "image/png": "[encoded data removed]",
      "text/plain": [
       "<Figure size 432x288 with 1 Axes>"
      ]
     },
     "metadata": {
      "needs_background": "light"
     },
     "output_type": "display_data"
    }
   ],
   "source": [
    "#多加描述欄 Label\n",
    "iris_data[iris_data['target']==0].plot.scatter(x='sepal length (cm)',y='sepal width (cm)', c='r',label='setosa')\n",
    "iris_data[iris_data['target']==1].plot.scatter(x='sepal length (cm)',y='sepal width (cm)', c='g',label='versicolor')\n",
    "iris_data[iris_data['target']==2].plot.scatter(x='sepal length (cm)',y='sepal width (cm)', c='b',label='virginica')"
   ]
  },
  {
   "cell_type": "code",
   "execution_count": 29,
   "id": "flying-continuity",
   "metadata": {},
   "outputs": [
    {
     "data": {
      "text/plain": [
       "<AxesSubplot:xlabel='sepal length (cm)', ylabel='sepal width (cm)'>"
      ]
     },
     "execution_count": 29,
     "metadata": {},
     "output_type": "execute_result"
    },
    {
     "data": {
      "image/png": "[encoded data removed]",
      "text/plain": [
       "<Figure size 432x288 with 1 Axes>"
      ]
     },
     "metadata": {
      "needs_background": "light"
     },
     "output_type": "display_data"
    }
   ],
   "source": [
    "#(最後面) 利用ax將全部加在一起\n",
    "ax = iris_data[iris_data['target']==0].plot.scatter(x='sepal length (cm)',y='sepal width (cm)', c='r',label='setosa')\n",
    "ax = iris_data[iris_data['target']==1].plot.scatter(x='sepal length (cm)',y='sepal width (cm)', c='g',label='versicolor', ax=ax)\n",
    "iris_data[iris_data['target']==2].plot.scatter(x='sepal length (cm)',y='sepal width (cm)', c='b',label='virginica', ax=ax)"
   ]
  },
  {
   "cell_type": "code",
   "execution_count": 32,
   "id": "weighted-precipitation",
   "metadata": {},
   "outputs": [
    {
     "data": {
      "text/plain": [
       "<matplotlib.collections.PathCollection at 0x7fea762a0880>"
      ]
     },
     "execution_count": 32,
     "metadata": {},
     "output_type": "execute_result"
    },
    {
     "data": {
      "image/png": "[encoded data removed]",
      "text/plain": [
       "<Figure size 432x288 with 1 Axes>"
      ]
     },
     "metadata": {
      "needs_background": "light"
     },
     "output_type": "display_data"
    }
   ],
   "source": [
    "N = 50\n",
    "x = np.random.rand(N)\n",
    "y = np.random.rand(N)\n",
    "colors = np.random.rand(N)\n",
    "area = np.pi * (15 * np.random.rand(N))**2 \n",
    "\n",
    "#s 是圓的大小，alpha 是透明度\n",
    "plt.scatter(x,y, s = area , c=colors , alpha = 0.5)"
   ]
  },
  {
   "cell_type": "markdown",
   "id": "coordinated-terminal",
   "metadata": {},
   "source": [
    "## 利用 Style 畫圖"
   ]
  },
  {
   "cell_type": "code",
   "execution_count": 33,
   "id": "committed-mother",
   "metadata": {},
   "outputs": [
    {
     "data": {
      "text/plain": [
       "['Solarize_Light2',\n",
       " '_classic_test_patch',\n",
       " 'bmh',\n",
       " 'classic',\n",
       " 'dark_background',\n",
       " 'fast',\n",
       " 'fivethirtyeight',\n",
       " 'ggplot',\n",
       " 'grayscale',\n",
       " 'seaborn',\n",
       " 'seaborn-bright',\n",
       " 'seaborn-colorblind',\n",
       " 'seaborn-dark',\n",
       " 'seaborn-dark-palette',\n",
       " 'seaborn-darkgrid',\n",
       " 'seaborn-deep',\n",
       " 'seaborn-muted',\n",
       " 'seaborn-notebook',\n",
       " 'seaborn-paper',\n",
       " 'seaborn-pastel',\n",
       " 'seaborn-poster',\n",
       " 'seaborn-talk',\n",
       " 'seaborn-ticks',\n",
       " 'seaborn-white',\n",
       " 'seaborn-whitegrid',\n",
       " 'tableau-colorblind10']"
      ]
     },
     "execution_count": 33,
     "metadata": {},
     "output_type": "execute_result"
    }
   ],
   "source": [
    "#可用的style\n",
    "plt.style.available"
   ]
  },
  {
   "cell_type": "code",
   "execution_count": 40,
   "id": "careful-sailing",
   "metadata": {},
   "outputs": [],
   "source": [
    "#使用style\n",
    "plt.style.use('classic')"
   ]
  },
  {
   "cell_type": "code",
   "execution_count": 53,
   "id": "spare-entertainment",
   "metadata": {},
   "outputs": [
    {
     "name": "stdout",
     "output_type": "stream",
     "text": [
      "[0.13113902 0.47107831 0.60960654 0.83918485 0.05423988 0.96490637\n",
      " 0.55159126 0.78156504 0.7292582  0.43071317 0.32749957 0.21636643\n",
      " 0.71431009 0.61303267 0.52332439 0.08756436 0.78401365 0.85630025\n",
      " 0.34635692 0.55945315 0.68763253 0.89478968 0.24962595 0.33672753\n",
      " 0.18936215 0.5966887  0.91652163 0.17042103 0.35339327 0.65960316\n",
      " 0.86755441 0.60896161 0.19121805 0.02668063 0.83276801 0.73297422\n",
      " 0.34193386 0.00491774 0.38551379 0.32363965 0.20810772 0.7777882\n",
      " 0.44396942 0.6494767  0.39811128 0.22808946 0.40055125 0.16481423\n",
      " 0.12405199 0.74013387]\n"
     ]
    },
    {
     "data": {
      "text/plain": [
       "<matplotlib.collections.PathCollection at 0x7fea5a88f310>"
      ]
     },
     "execution_count": 53,
     "metadata": {},
     "output_type": "execute_result"
    },
    {
     "data": {
      "image/png": "[encoded data removed]",
      "text/plain": [
       "<Figure size 640x480 with 1 Axes>"
      ]
     },
     "metadata": {},
     "output_type": "display_data"
    }
   ],
   "source": [
    "#使用style後畫圖的樣子\n",
    "\n",
    "N = 50\n",
    "#創造50個[0,1)之間的值，[0,1)意思是 =0 & <1\n",
    "x = np.random.rand(N)\n",
    "y = np.random.rand(N)\n",
    "colors = np.random.rand(N)\n",
    "area = np.pi * (15 * np.random.rand(N))**2 \n",
    "\n",
    "#s 是圓的大小，alpha 是透明度\n",
    "plt.scatter(x,y, s = area , c=colors , alpha = 0.5)"
   ]
  },
  {
   "cell_type": "markdown",
   "id": "italic-trademark",
   "metadata": {},
   "source": [
    "# Seaborn"
   ]
  },
  {
   "cell_type": "code",
   "execution_count": 43,
   "id": "accomplished-albania",
   "metadata": {},
   "outputs": [],
   "source": [
    "import seaborn as sns"
   ]
  },
  {
   "cell_type": "markdown",
   "id": "reserved-australia",
   "metadata": {},
   "source": [
    "## 以下範例實作iris_data"
   ]
  },
  {
   "cell_type": "code",
   "execution_count": 45,
   "id": "optional-wheel",
   "metadata": {},
   "outputs": [
    {
     "data": {
      "text/plain": [
       "<seaborn.axisgrid.FacetGrid at 0x7fea77bf14c0>"
      ]
     },
     "execution_count": 45,
     "metadata": {},
     "output_type": "execute_result"
    },
    {
     "data": {
      "image/png": "[encoded data removed]",
      "text/plain": [
       "<Figure size 467.85x400 with 1 Axes>"
      ]
     },
     "metadata": {},
     "output_type": "display_data"
    }
   ],
   "source": [
    "sns.lmplot('sepal length (cm)','petal width (cm)',data=iris_data, fit_reg=False, hue='target')"
   ]
  },
  {
   "cell_type": "markdown",
   "id": "blind-brooks",
   "metadata": {},
   "source": [
    "### 將target換成花種名稱"
   ]
  },
  {
   "cell_type": "code",
   "execution_count": 47,
   "id": "special-separation",
   "metadata": {},
   "outputs": [],
   "source": [
    "target_name={\n",
    "    0:'setosa' ,\n",
    "    1:'versicolor' ,\n",
    "    2:'virginica'\n",
    "}"
   ]
  },
  {
   "cell_type": "code",
   "execution_count": 48,
   "id": "athletic-hotel",
   "metadata": {},
   "outputs": [],
   "source": [
    "iris_data['target_name'] = iris_data['target'].map(target_name)"
   ]
  },
  {
   "cell_type": "code",
   "execution_count": 50,
   "id": "random-bridal",
   "metadata": {},
   "outputs": [
    {
     "name": "stderr",
     "output_type": "stream",
     "text": [
      "/Users/yukaizhuo/opt/anaconda3/envs/datasci/lib/python3.8/site-packages/seaborn/_decorators.py:36: FutureWarning: Pass the following variables as keyword args: x, y. From version 0.12, the only valid positional argument will be `data`, and passing other arguments without an explicit keyword will result in an error or misinterpretation.\n",
      "  warnings.warn(\n"
     ]
    },
    {
     "data": {
      "text/plain": [
       "<seaborn.axisgrid.FacetGrid at 0x7fea792d4b50>"
      ]
     },
     "execution_count": 50,
     "metadata": {},
     "output_type": "execute_result"
    },
    {
     "data": {
      "image/png": "[encoded data removed]",
      "text/plain": [
       "<Figure size 535.975x400 with 1 Axes>"
      ]
     },
     "metadata": {},
     "output_type": "display_data"
    }
   ],
   "source": [
    "#fit_reg是回歸線\n",
    "sns.lmplot('sepal length (cm)','petal width (cm)',data=iris_data, fit_reg=False, hue='target_name')"
   ]
  },
  {
   "cell_type": "markdown",
   "id": "defined-johnson",
   "metadata": {},
   "source": [
    "更多seaborn的圖案用法<br>\n",
    "https://seaborn.pydata.org/examples/index.html"
   ]
  },
  {
   "cell_type": "markdown",
   "id": "vulnerable-barcelona",
   "metadata": {},
   "source": [
    "# Plotly"
   ]
  },
  {
   "cell_type": "code",
   "execution_count": 52,
   "id": "typical-christianity",
   "metadata": {},
   "outputs": [
    {
     "data": {
      "text/html": [
       "        <script type=\"text/javascript\">\n",
       "        window.PlotlyConfig = {MathJaxConfig: 'local'};\n",
       "        if (window.MathJax) {MathJax.Hub.Config({SVG: {font: \"STIX-Web\"}});}\n",
       "        if (typeof require !== 'undefined') {\n",
       "        require.undef(\"plotly\");\n",
       "        requirejs.config({\n",
       "            paths: {\n",
       "                'plotly': ['https://cdn.plot.ly/plotly-2.2.0.min']\n",
       "            }\n",
       "        });\n",
       "        require(['plotly'], function(Plotly) {\n",
       "            window._Plotly = Plotly;\n",
       "        });\n",
       "        }\n",
       "        </script>\n",
       "        "
      ]
     },
     "metadata": {},
     "output_type": "display_data"
    },
    {
     "data": {
      "application/vnd.plotly.v1+json": {
       "config": {
        "linkText": "Export to plot.ly",
        "plotlyServerURL": "https://plot.ly",
        "showLink": false
       },
       "data": [
        {
         "type": "scatter",
         "x": [
          1,
          2,
          3,
          4
         ],
         "y": [
          4,
          3,
          2,
          1
         ]
        }
       ],
       "layout": {
        "template": {
         "data": {
          "bar": [
           {
            "error_x": {
             "color": "#2a3f5f"
            },
            "error_y": {
             "color": "#2a3f5f"
            },
            "marker": {
             "line": {
              "color": "#E5ECF6",
              "width": 0.5
             },
             "pattern": {
              "fillmode": "overlay",
              "size": 10,
              "solidity": 0.2
             }
            },
            "type": "bar"
           }
          ],
          "barpolar": [
           {
            "marker": {
             "line": {
              "color": "#E5ECF6",
              "width": 0.5
             },
             "pattern": {
              "fillmode": "overlay",
              "size": 10,
              "solidity": 0.2
             }
            },
            "type": "barpolar"
           }
          ],
          "carpet": [
           {
            "aaxis": {
             "endlinecolor": "#2a3f5f",
             "gridcolor": "white",
             "linecolor": "white",
             "minorgridcolor": "white",
             "startlinecolor": "#2a3f5f"
            },
            "baxis": {
             "endlinecolor": "#2a3f5f",
             "gridcolor": "white",
             "linecolor": "white",
             "minorgridcolor": "white",
             "startlinecolor": "#2a3f5f"
            },
            "type": "carpet"
           }
          ],
          "choropleth": [
           {
            "colorbar": {
             "outlinewidth": 0,
             "ticks": ""
            },
            "type": "choropleth"
           }
          ],
          "contour": [
           {
            "colorbar": {
             "outlinewidth": 0,
             "ticks": ""
            },
            "colorscale": [
             [
              0,
              "#0d0887"
             ],
             [
              0.1111111111111111,
              "#46039f"
             ],
             [
              0.2222222222222222,
              "#7201a8"
             ],
             [
              0.3333333333333333,
              "#9c179e"
             ],
             [
              0.4444444444444444,
              "#bd3786"
             ],
             [
              0.5555555555555556,
              "#d8576b"
             ],
             [
              0.6666666666666666,
              "#ed7953"
             ],
             [
              0.7777777777777778,
              "#fb9f3a"
             ],
             [
              0.8888888888888888,
              "#fdca26"
             ],
             [
              1,
              "#f0f921"
             ]
            ],
            "type": "contour"
           }
          ],
          "contourcarpet": [
           {
            "colorbar": {
             "outlinewidth": 0,
             "ticks": ""
            },
            "type": "contourcarpet"
           }
          ],
          "heatmap": [
           {
            "colorbar": {
             "outlinewidth": 0,
             "ticks": ""
            },
            "colorscale": [
             [
              0,
              "#0d0887"
             ],
             [
              0.1111111111111111,
              "#46039f"
             ],
             [
              0.2222222222222222,
              "#7201a8"
             ],
             [
              0.3333333333333333,
              "#9c179e"
             ],
             [
              0.4444444444444444,
              "#bd3786"
             ],
             [
              0.5555555555555556,
              "#d8576b"
             ],
             [
              0.6666666666666666,
              "#ed7953"
             ],
             [
              0.7777777777777778,
              "#fb9f3a"
             ],
             [
              0.8888888888888888,
              "#fdca26"
             ],
             [
              1,
              "#f0f921"
             ]
            ],
            "type": "heatmap"
           }
          ],
          "heatmapgl": [
           {
            "colorbar": {
             "outlinewidth": 0,
             "ticks": ""
            },
            "colorscale": [
             [
              0,
              "#0d0887"
             ],
             [
              0.1111111111111111,
              "#46039f"
             ],
             [
              0.2222222222222222,
              "#7201a8"
             ],
             [
              0.3333333333333333,
              "#9c179e"
             ],
             [
              0.4444444444444444,
              "#bd3786"
             ],
             [
              0.5555555555555556,
              "#d8576b"
             ],
             [
              0.6666666666666666,
              "#ed7953"
             ],
             [
              0.7777777777777778,
              "#fb9f3a"
             ],
             [
              0.8888888888888888,
              "#fdca26"
             ],
             [
              1,
              "#f0f921"
             ]
            ],
            "type": "heatmapgl"
           }
          ],
          "histogram": [
           {
            "marker": {
             "pattern": {
              "fillmode": "overlay",
              "size": 10,
              "solidity": 0.2
             }
            },
            "type": "histogram"
           }
          ],
          "histogram2d": [
           {
            "colorbar": {
             "outlinewidth": 0,
             "ticks": ""
            },
            "colorscale": [
             [
              0,
              "#0d0887"
             ],
             [
              0.1111111111111111,
              "#46039f"
             ],
             [
              0.2222222222222222,
              "#7201a8"
             ],
             [
              0.3333333333333333,
              "#9c179e"
             ],
             [
              0.4444444444444444,
              "#bd3786"
             ],
             [
              0.5555555555555556,
              "#d8576b"
             ],
             [
              0.6666666666666666,
              "#ed7953"
             ],
             [
              0.7777777777777778,
              "#fb9f3a"
             ],
             [
              0.8888888888888888,
              "#fdca26"
             ],
             [
              1,
              "#f0f921"
             ]
            ],
            "type": "histogram2d"
           }
          ],
          "histogram2dcontour": [
           {
            "colorbar": {
             "outlinewidth": 0,
             "ticks": ""
            },
            "colorscale": [
             [
              0,
              "#0d0887"
             ],
             [
              0.1111111111111111,
              "#46039f"
             ],
             [
              0.2222222222222222,
              "#7201a8"
             ],
             [
              0.3333333333333333,
              "#9c179e"
             ],
             [
              0.4444444444444444,
              "#bd3786"
             ],
             [
              0.5555555555555556,
              "#d8576b"
             ],
             [
              0.6666666666666666,
              "#ed7953"
             ],
             [
              0.7777777777777778,
              "#fb9f3a"
             ],
             [
              0.8888888888888888,
              "#fdca26"
             ],
             [
              1,
              "#f0f921"
             ]
            ],
            "type": "histogram2dcontour"
           }
          ],
          "mesh3d": [
           {
            "colorbar": {
             "outlinewidth": 0,
             "ticks": ""
            },
            "type": "mesh3d"
           }
          ],
          "parcoords": [
           {
            "line": {
             "colorbar": {
              "outlinewidth": 0,
              "ticks": ""
             }
            },
            "type": "parcoords"
           }
          ],
          "pie": [
           {
            "automargin": true,
            "type": "pie"
           }
          ],
          "scatter": [
           {
            "marker": {
             "colorbar": {
              "outlinewidth": 0,
              "ticks": ""
             }
            },
            "type": "scatter"
           }
          ],
          "scatter3d": [
           {
            "line": {
             "colorbar": {
              "outlinewidth": 0,
              "ticks": ""
             }
            },
            "marker": {
             "colorbar": {
              "outlinewidth": 0,
              "ticks": ""
             }
            },
            "type": "scatter3d"
           }
          ],
          "scattercarpet": [
           {
            "marker": {
             "colorbar": {
              "outlinewidth": 0,
              "ticks": ""
             }
            },
            "type": "scattercarpet"
           }
          ],
          "scattergeo": [
           {
            "marker": {
             "colorbar": {
              "outlinewidth": 0,
              "ticks": ""
             }
            },
            "type": "scattergeo"
           }
          ],
          "scattergl": [
           {
            "marker": {
             "colorbar": {
              "outlinewidth": 0,
              "ticks": ""
             }
            },
            "type": "scattergl"
           }
          ],
          "scattermapbox": [
           {
            "marker": {
             "colorbar": {
              "outlinewidth": 0,
              "ticks": ""
             }
            },
            "type": "scattermapbox"
           }
          ],
          "scatterpolar": [
           {
            "marker": {
             "colorbar": {
              "outlinewidth": 0,
              "ticks": ""
             }
            },
            "type": "scatterpolar"
           }
          ],
          "scatterpolargl": [
           {
            "marker": {
             "colorbar": {
              "outlinewidth": 0,
              "ticks": ""
             }
            },
            "type": "scatterpolargl"
           }
          ],
          "scatterternary": [
           {
            "marker": {
             "colorbar": {
              "outlinewidth": 0,
              "ticks": ""
             }
            },
            "type": "scatterternary"
           }
          ],
          "surface": [
           {
            "colorbar": {
             "outlinewidth": 0,
             "ticks": ""
            },
            "colorscale": [
             [
              0,
              "#0d0887"
             ],
             [
              0.1111111111111111,
              "#46039f"
             ],
             [
              0.2222222222222222,
              "#7201a8"
             ],
             [
              0.3333333333333333,
              "#9c179e"
             ],
             [
              0.4444444444444444,
              "#bd3786"
             ],
             [
              0.5555555555555556,
              "#d8576b"
             ],
             [
              0.6666666666666666,
              "#ed7953"
             ],
             [
              0.7777777777777778,
              "#fb9f3a"
             ],
             [
              0.8888888888888888,
              "#fdca26"
             ],
             [
              1,
              "#f0f921"
             ]
            ],
            "type": "surface"
           }
          ],
          "table": [
           {
            "cells": {
             "fill": {
              "color": "#EBF0F8"
             },
             "line": {
              "color": "white"
             }
            },
            "header": {
             "fill": {
              "color": "#C8D4E3"
             },
             "line": {
              "color": "white"
             }
            },
            "type": "table"
           }
          ]
         },
         "layout": {
          "annotationdefaults": {
           "arrowcolor": "#2a3f5f",
           "arrowhead": 0,
           "arrowwidth": 1
          },
          "autotypenumbers": "strict",
          "coloraxis": {
           "colorbar": {
            "outlinewidth": 0,
            "ticks": ""
           }
          },
          "colorscale": {
           "diverging": [
            [
             0,
             "#8e0152"
            ],
            [
             0.1,
             "#c51b7d"
            ],
            [
             0.2,
             "#de77ae"
            ],
            [
             0.3,
             "#f1b6da"
            ],
            [
             0.4,
             "#fde0ef"
            ],
            [
             0.5,
             "#f7f7f7"
            ],
            [
             0.6,
             "#e6f5d0"
            ],
            [
             0.7,
             "#b8e186"
            ],
            [
             0.8,
             "#7fbc41"
            ],
            [
             0.9,
             "#4d9221"
            ],
            [
             1,
             "#276419"
            ]
           ],
           "sequential": [
            [
             0,
             "#0d0887"
            ],
            [
             0.1111111111111111,
             "#46039f"
            ],
            [
             0.2222222222222222,
             "#7201a8"
            ],
            [
             0.3333333333333333,
             "#9c179e"
            ],
            [
             0.4444444444444444,
             "#bd3786"
            ],
            [
             0.5555555555555556,
             "#d8576b"
            ],
            [
             0.6666666666666666,
             "#ed7953"
            ],
            [
             0.7777777777777778,
             "#fb9f3a"
            ],
            [
             0.8888888888888888,
             "#fdca26"
            ],
            [
             1,
             "#f0f921"
            ]
           ],
           "sequentialminus": [
            [
             0,
             "#0d0887"
            ],
            [
             0.1111111111111111,
             "#46039f"
            ],
            [
             0.2222222222222222,
             "#7201a8"
            ],
            [
             0.3333333333333333,
             "#9c179e"
            ],
            [
             0.4444444444444444,
             "#bd3786"
            ],
            [
             0.5555555555555556,
             "#d8576b"
            ],
            [
             0.6666666666666666,
             "#ed7953"
            ],
            [
             0.7777777777777778,
             "#fb9f3a"
            ],
            [
             0.8888888888888888,
             "#fdca26"
            ],
            [
             1,
             "#f0f921"
            ]
           ]
          },
          "colorway": [
           "#636efa",
           "#EF553B",
           "#00cc96",
           "#ab63fa",
           "#FFA15A",
           "#19d3f3",
           "#FF6692",
           "#B6E880",
           "#FF97FF",
           "#FECB52"
          ],
          "font": {
           "color": "#2a3f5f"
          },
          "geo": {
           "bgcolor": "white",
           "lakecolor": "white",
           "landcolor": "#E5ECF6",
           "showlakes": true,
           "showland": true,
           "subunitcolor": "white"
          },
          "hoverlabel": {
           "align": "left"
          },
          "hovermode": "closest",
          "mapbox": {
           "style": "light"
          },
          "paper_bgcolor": "white",
          "plot_bgcolor": "#E5ECF6",
          "polar": {
           "angularaxis": {
            "gridcolor": "white",
            "linecolor": "white",
            "ticks": ""
           },
           "bgcolor": "#E5ECF6",
           "radialaxis": {
            "gridcolor": "white",
            "linecolor": "white",
            "ticks": ""
           }
          },
          "scene": {
           "xaxis": {
            "backgroundcolor": "#E5ECF6",
            "gridcolor": "white",
            "gridwidth": 2,
            "linecolor": "white",
            "showbackground": true,
            "ticks": "",
            "zerolinecolor": "white"
           },
           "yaxis": {
            "backgroundcolor": "#E5ECF6",
            "gridcolor": "white",
            "gridwidth": 2,
            "linecolor": "white",
            "showbackground": true,
            "ticks": "",
            "zerolinecolor": "white"
           },
           "zaxis": {
            "backgroundcolor": "#E5ECF6",
            "gridcolor": "white",
            "gridwidth": 2,
            "linecolor": "white",
            "showbackground": true,
            "ticks": "",
            "zerolinecolor": "white"
           }
          },
          "shapedefaults": {
           "line": {
            "color": "#2a3f5f"
           }
          },
          "ternary": {
           "aaxis": {
            "gridcolor": "white",
            "linecolor": "white",
            "ticks": ""
           },
           "baxis": {
            "gridcolor": "white",
            "linecolor": "white",
            "ticks": ""
           },
           "bgcolor": "#E5ECF6",
           "caxis": {
            "gridcolor": "white",
            "linecolor": "white",
            "ticks": ""
           }
          },
          "title": {
           "x": 0.05
          },
          "xaxis": {
           "automargin": true,
           "gridcolor": "white",
           "linecolor": "white",
           "ticks": "",
           "title": {
            "standoff": 15
           },
           "zerolinecolor": "white",
           "zerolinewidth": 2
          },
          "yaxis": {
           "automargin": true,
           "gridcolor": "white",
           "linecolor": "white",
           "ticks": "",
           "title": {
            "standoff": 15
           },
           "zerolinecolor": "white",
           "zerolinewidth": 2
          }
         }
        },
        "title": {
         "text": "Hello World"
        }
       }
      },
      "text/html": [
       "<div>                            <div id=\"0cfda424-7fa3-4242-8828-46506a625a46\" class=\"plotly-graph-div\" style=\"height:525px; width:100%;\"></div>            <script type=\"text/javascript\">                require([\"plotly\"], function(Plotly) {                    window.PLOTLYENV=window.PLOTLYENV || {};                                    if (document.getElementById(\"0cfda424-7fa3-4242-8828-46506a625a46\")) {                    Plotly.newPlot(                        \"0cfda424-7fa3-4242-8828-46506a625a46\",                        [{\"type\":\"scatter\",\"x\":[1,2,3,4],\"y\":[4,3,2,1]}],                        {\"template\":{\"data\":{\"bar\":[{\"error_x\":{\"color\":\"#2a3f5f\"},\"error_y\":{\"color\":\"#2a3f5f\"},\"marker\":{\"line\":{\"color\":\"#E5ECF6\",\"width\":0.5},\"pattern\":{\"fillmode\":\"overlay\",\"size\":10,\"solidity\":0.2}},\"type\":\"bar\"}],\"barpolar\":[{\"marker\":{\"line\":{\"color\":\"#E5ECF6\",\"width\":0.5},\"pattern\":{\"fillmode\":\"overlay\",\"size\":10,\"solidity\":0.2}},\"type\":\"barpolar\"}],\"carpet\":[{\"aaxis\":{\"endlinecolor\":\"#2a3f5f\",\"gridcolor\":\"white\",\"linecolor\":\"white\",\"minorgridcolor\":\"white\",\"startlinecolor\":\"#2a3f5f\"},\"baxis\":{\"endlinecolor\":\"#2a3f5f\",\"gridcolor\":\"white\",\"linecolor\":\"white\",\"minorgridcolor\":\"white\",\"startlinecolor\":\"#2a3f5f\"},\"type\":\"carpet\"}],\"choropleth\":[{\"colorbar\":{\"outlinewidth\":0,\"ticks\":\"\"},\"type\":\"choropleth\"}],\"contour\":[{\"colorbar\":{\"outlinewidth\":0,\"ticks\":\"\"},\"colorscale\":[[0.0,\"#0d0887\"],[0.1111111111111111,\"#46039f\"],[0.2222222222222222,\"#7201a8\"],[0.3333333333333333,\"#9c179e\"],[0.4444444444444444,\"#bd3786\"],[0.5555555555555556,\"#d8576b\"],[0.6666666666666666,\"#ed7953\"],[0.7777777777777778,\"#fb9f3a\"],[0.8888888888888888,\"#fdca26\"],[1.0,\"#f0f921\"]],\"type\":\"contour\"}],\"contourcarpet\":[{\"colorbar\":{\"outlinewidth\":0,\"ticks\":\"\"},\"type\":\"contourcarpet\"}],\"heatmap\":[{\"colorbar\":{\"outlinewidth\":0,\"ticks\":\"\"},\"colorscale\":[[0.0,\"#0d0887\"],[0.1111111111111111,\"#46039f\"],[0.2222222222222222,\"#7201a8\"],[0.3333333333333333,\"#9c179e\"],[0.4444444444444444,\"#bd3786\"],[0.5555555555555556,\"#d8576b\"],[0.6666666666666666,\"#ed7953\"],[0.7777777777777778,\"#fb9f3a\"],[0.8888888888888888,\"#fdca26\"],[1.0,\"#f0f921\"]],\"type\":\"heatmap\"}],\"heatmapgl\":[{\"colorbar\":{\"outlinewidth\":0,\"ticks\":\"\"},\"colorscale\":[[0.0,\"#0d0887\"],[0.1111111111111111,\"#46039f\"],[0.2222222222222222,\"#7201a8\"],[0.3333333333333333,\"#9c179e\"],[0.4444444444444444,\"#bd3786\"],[0.5555555555555556,\"#d8576b\"],[0.6666666666666666,\"#ed7953\"],[0.7777777777777778,\"#fb9f3a\"],[0.8888888888888888,\"#fdca26\"],[1.0,\"#f0f921\"]],\"type\":\"heatmapgl\"}],\"histogram\":[{\"marker\":{\"pattern\":{\"fillmode\":\"overlay\",\"size\":10,\"solidity\":0.2}},\"type\":\"histogram\"}],\"histogram2d\":[{\"colorbar\":{\"outlinewidth\":0,\"ticks\":\"\"},\"colorscale\":[[0.0,\"#0d0887\"],[0.1111111111111111,\"#46039f\"],[0.2222222222222222,\"#7201a8\"],[0.3333333333333333,\"#9c179e\"],[0.4444444444444444,\"#bd3786\"],[0.5555555555555556,\"#d8576b\"],[0.6666666666666666,\"#ed7953\"],[0.7777777777777778,\"#fb9f3a\"],[0.8888888888888888,\"#fdca26\"],[1.0,\"#f0f921\"]],\"type\":\"histogram2d\"}],\"histogram2dcontour\":[{\"colorbar\":{\"outlinewidth\":0,\"ticks\":\"\"},\"colorscale\":[[0.0,\"#0d0887\"],[0.1111111111111111,\"#46039f\"],[0.2222222222222222,\"#7201a8\"],[0.3333333333333333,\"#9c179e\"],[0.4444444444444444,\"#bd3786\"],[0.5555555555555556,\"#d8576b\"],[0.6666666666666666,\"#ed7953\"],[0.7777777777777778,\"#fb9f3a\"],[0.8888888888888888,\"#fdca26\"],[1.0,\"#f0f921\"]],\"type\":\"histogram2dcontour\"}],\"mesh3d\":[{\"colorbar\":{\"outlinewidth\":0,\"ticks\":\"\"},\"type\":\"mesh3d\"}],\"parcoords\":[{\"line\":{\"colorbar\":{\"outlinewidth\":0,\"ticks\":\"\"}},\"type\":\"parcoords\"}],\"pie\":[{\"automargin\":true,\"type\":\"pie\"}],\"scatter\":[{\"marker\":{\"colorbar\":{\"outlinewidth\":0,\"ticks\":\"\"}},\"type\":\"scatter\"}],\"scatter3d\":[{\"line\":{\"colorbar\":{\"outlinewidth\":0,\"ticks\":\"\"}},\"marker\":{\"colorbar\":{\"outlinewidth\":0,\"ticks\":\"\"}},\"type\":\"scatter3d\"}],\"scattercarpet\":[{\"marker\":{\"colorbar\":{\"outlinewidth\":0,\"ticks\":\"\"}},\"type\":\"scattercarpet\"}],\"scattergeo\":[{\"marker\":{\"colorbar\":{\"outlinewidth\":0,\"ticks\":\"\"}},\"type\":\"scattergeo\"}],\"scattergl\":[{\"marker\":{\"colorbar\":{\"outlinewidth\":0,\"ticks\":\"\"}},\"type\":\"scattergl\"}],\"scattermapbox\":[{\"marker\":{\"colorbar\":{\"outlinewidth\":0,\"ticks\":\"\"}},\"type\":\"scattermapbox\"}],\"scatterpolar\":[{\"marker\":{\"colorbar\":{\"outlinewidth\":0,\"ticks\":\"\"}},\"type\":\"scatterpolar\"}],\"scatterpolargl\":[{\"marker\":{\"colorbar\":{\"outlinewidth\":0,\"ticks\":\"\"}},\"type\":\"scatterpolargl\"}],\"scatterternary\":[{\"marker\":{\"colorbar\":{\"outlinewidth\":0,\"ticks\":\"\"}},\"type\":\"scatterternary\"}],\"surface\":[{\"colorbar\":{\"outlinewidth\":0,\"ticks\":\"\"},\"colorscale\":[[0.0,\"#0d0887\"],[0.1111111111111111,\"#46039f\"],[0.2222222222222222,\"#7201a8\"],[0.3333333333333333,\"#9c179e\"],[0.4444444444444444,\"#bd3786\"],[0.5555555555555556,\"#d8576b\"],[0.6666666666666666,\"#ed7953\"],[0.7777777777777778,\"#fb9f3a\"],[0.8888888888888888,\"#fdca26\"],[1.0,\"#f0f921\"]],\"type\":\"surface\"}],\"table\":[{\"cells\":{\"fill\":{\"color\":\"#EBF0F8\"},\"line\":{\"color\":\"white\"}},\"header\":{\"fill\":{\"color\":\"#C8D4E3\"},\"line\":{\"color\":\"white\"}},\"type\":\"table\"}]},\"layout\":{\"annotationdefaults\":{\"arrowcolor\":\"#2a3f5f\",\"arrowhead\":0,\"arrowwidth\":1},\"autotypenumbers\":\"strict\",\"coloraxis\":{\"colorbar\":{\"outlinewidth\":0,\"ticks\":\"\"}},\"colorscale\":{\"diverging\":[[0,\"#8e0152\"],[0.1,\"#c51b7d\"],[0.2,\"#de77ae\"],[0.3,\"#f1b6da\"],[0.4,\"#fde0ef\"],[0.5,\"#f7f7f7\"],[0.6,\"#e6f5d0\"],[0.7,\"#b8e186\"],[0.8,\"#7fbc41\"],[0.9,\"#4d9221\"],[1,\"#276419\"]],\"sequential\":[[0.0,\"#0d0887\"],[0.1111111111111111,\"#46039f\"],[0.2222222222222222,\"#7201a8\"],[0.3333333333333333,\"#9c179e\"],[0.4444444444444444,\"#bd3786\"],[0.5555555555555556,\"#d8576b\"],[0.6666666666666666,\"#ed7953\"],[0.7777777777777778,\"#fb9f3a\"],[0.8888888888888888,\"#fdca26\"],[1.0,\"#f0f921\"]],\"sequentialminus\":[[0.0,\"#0d0887\"],[0.1111111111111111,\"#46039f\"],[0.2222222222222222,\"#7201a8\"],[0.3333333333333333,\"#9c179e\"],[0.4444444444444444,\"#bd3786\"],[0.5555555555555556,\"#d8576b\"],[0.6666666666666666,\"#ed7953\"],[0.7777777777777778,\"#fb9f3a\"],[0.8888888888888888,\"#fdca26\"],[1.0,\"#f0f921\"]]},\"colorway\":[\"#636efa\",\"#EF553B\",\"#00cc96\",\"#ab63fa\",\"#FFA15A\",\"#19d3f3\",\"#FF6692\",\"#B6E880\",\"#FF97FF\",\"#FECB52\"],\"font\":{\"color\":\"#2a3f5f\"},\"geo\":{\"bgcolor\":\"white\",\"lakecolor\":\"white\",\"landcolor\":\"#E5ECF6\",\"showlakes\":true,\"showland\":true,\"subunitcolor\":\"white\"},\"hoverlabel\":{\"align\":\"left\"},\"hovermode\":\"closest\",\"mapbox\":{\"style\":\"light\"},\"paper_bgcolor\":\"white\",\"plot_bgcolor\":\"#E5ECF6\",\"polar\":{\"angularaxis\":{\"gridcolor\":\"white\",\"linecolor\":\"white\",\"ticks\":\"\"},\"bgcolor\":\"#E5ECF6\",\"radialaxis\":{\"gridcolor\":\"white\",\"linecolor\":\"white\",\"ticks\":\"\"}},\"scene\":{\"xaxis\":{\"backgroundcolor\":\"#E5ECF6\",\"gridcolor\":\"white\",\"gridwidth\":2,\"linecolor\":\"white\",\"showbackground\":true,\"ticks\":\"\",\"zerolinecolor\":\"white\"},\"yaxis\":{\"backgroundcolor\":\"#E5ECF6\",\"gridcolor\":\"white\",\"gridwidth\":2,\"linecolor\":\"white\",\"showbackground\":true,\"ticks\":\"\",\"zerolinecolor\":\"white\"},\"zaxis\":{\"backgroundcolor\":\"#E5ECF6\",\"gridcolor\":\"white\",\"gridwidth\":2,\"linecolor\":\"white\",\"showbackground\":true,\"ticks\":\"\",\"zerolinecolor\":\"white\"}},\"shapedefaults\":{\"line\":{\"color\":\"#2a3f5f\"}},\"ternary\":{\"aaxis\":{\"gridcolor\":\"white\",\"linecolor\":\"white\",\"ticks\":\"\"},\"baxis\":{\"gridcolor\":\"white\",\"linecolor\":\"white\",\"ticks\":\"\"},\"bgcolor\":\"#E5ECF6\",\"caxis\":{\"gridcolor\":\"white\",\"linecolor\":\"white\",\"ticks\":\"\"}},\"title\":{\"x\":0.05},\"xaxis\":{\"automargin\":true,\"gridcolor\":\"white\",\"linecolor\":\"white\",\"ticks\":\"\",\"title\":{\"standoff\":15},\"zerolinecolor\":\"white\",\"zerolinewidth\":2},\"yaxis\":{\"automargin\":true,\"gridcolor\":\"white\",\"linecolor\":\"white\",\"ticks\":\"\",\"title\":{\"standoff\":15},\"zerolinecolor\":\"white\",\"zerolinewidth\":2}}},\"title\":{\"text\":\"Hello World\"}},                        {\"responsive\": true}                    ).then(function(){\n",
       "                            \n",
       "var gd = document.getElementById('0cfda424-7fa3-4242-8828-46506a625a46');\n",
       "var x = new MutationObserver(function (mutations, observer) {{\n",
       "        var display = window.getComputedStyle(gd).display;\n",
       "        if (!display || display === 'none') {{\n",
       "            console.log([gd, 'removed!']);\n",
       "            Plotly.purge(gd);\n",
       "            observer.disconnect();\n",
       "        }}\n",
       "}});\n",
       "\n",
       "// Listen for the removal of the full notebook cells\n",
       "var notebookContainer = gd.closest('#notebook-container');\n",
       "if (notebookContainer) {{\n",
       "    x.observe(notebookContainer, {childList: true});\n",
       "}}\n",
       "\n",
       "// Listen for the clearing of the current output cell\n",
       "var outputEl = gd.closest('.output');\n",
       "if (outputEl) {{\n",
       "    x.observe(outputEl, {childList: true});\n",
       "}}\n",
       "\n",
       "                        })                };                });            </script>        </div>"
      ]
     },
     "metadata": {},
     "output_type": "display_data"
    }
   ],
   "source": [
    "import plotly\n",
    "from plotly.graph_objs import Scatter, Layout\n",
    "plotly.offline.init_notebook_mode(connected=True)\n",
    "plotly.offline.iplot({\n",
    "    \"data\": [Scatter(x=[1,2,3,4], y=[4,3,2,1])],\n",
    "    \"layout\": Layout(title=\"Hello World\")\n",
    "})"
   ]
  },
  {
   "cell_type": "code",
   "execution_count": 56,
   "id": "electric-basket",
   "metadata": {},
   "outputs": [
    {
     "data": {
      "application/vnd.plotly.v1+json": {
       "config": {
        "linkText": "Export to plot.ly",
        "plotlyServerURL": "https://plot.ly",
        "showLink": false
       },
       "data": [
        {
         "mode": "markers",
         "type": "scatter",
         "x": [
          0.524279165206652,
          -0.07985816532967253,
          -0.7702811834025636,
          0.3109947183500396,
          0.1329471499699096,
          0.6731183810648531,
          -0.4627662716024927,
          -0.6936966111645001,
          0.04496699869379119,
          0.014437552939211165,
          0.9717693308933548,
          0.9132955211422221,
          0.541041636135895,
          -1.4726312041226122,
          0.0395243735797289,
          -1.349004092377462,
          0.9595426631607881,
          -1.235193730176933,
          -0.2330320081962257,
          -0.5390208494061083,
          0.09673304070885193,
          -1.9291229802734753,
          -0.42875328764481957,
          1.3082551918274228,
          -0.7391874748670574,
          -1.4329714716450597,
          0.2516014410193414,
          -0.054972912487023455,
          -1.5281191218731758,
          0.029470287383301822,
          -1.3243284529773407,
          -1.9805571331954535,
          -0.5361708060738617,
          0.1691874992538416,
          0.256301972860807,
          2.056142274713965,
          -0.4921656014759661,
          1.1277574499408363,
          -1.544633740582661,
          1.041152649084737,
          0.8958524390103134,
          -1.0680611227775894,
          1.1815178558288002,
          0.4377000714640382,
          -1.4955874482565361,
          -0.010170846516496692,
          0.4986095022368706,
          1.3113653039612911,
          1.5381704228893562,
          -3.1303704766433564,
          -0.6696509921367793,
          1.9142282755800806,
          -0.9573783699607894,
          -1.3915607174880242,
          -0.5555242450694515,
          0.9464193188319554,
          -0.5571547504685676,
          0.21202719034681372,
          0.36832958456779447,
          0.8904760685240575,
          0.027970767000527388,
          -0.6929854757382587,
          -0.0973411053179708,
          0.3945029064424939,
          -0.2317113953259838,
          1.2351260334844005,
          1.6664314552484307,
          0.8110181561914651,
          1.2963506084465615,
          -1.5785279363055307,
          -0.2033391819417678,
          0.6926151881487808,
          0.15817841419424766,
          0.44021632272788774,
          -0.06096886456545507,
          -0.223002588802603,
          1.4778946592995463,
          0.7997433058223876,
          2.2498010164585844,
          -0.4834514830122939,
          -1.0472378664951523,
          -0.22660026062658417,
          1.281873090528983,
          -0.9603459566348954,
          0.8480331778517343,
          0.5737336761865617,
          -0.7702003713517299,
          0.4823071019055024,
          0.053025169934567504,
          0.02469779139807841,
          0.2285400210257651,
          -1.1187102800611102,
          1.0653038853104342,
          -0.0678361575241379,
          0.3551213297923229,
          -0.07993592030302471,
          0.44636208142016687,
          1.2688008902659274,
          1.0564902018537412,
          0.18570003983674604,
          0.6750347608768029,
          1.181030704952519,
          0.870616733360332,
          -0.6654660088397293,
          1.220179429400087,
          -2.3926845413264863,
          -0.7698845785018517,
          -1.916735611331813,
          -0.11693227385838724,
          -1.4562891554654553,
          -0.22363168244062642,
          -1.3182829130595388,
          1.153618135976787,
          0.8341035014886045,
          -0.799161275117193,
          0.029678745389555717,
          -0.5873116046900988,
          -1.7817828218330571,
          -0.1604408162793275,
          -0.9167843927346621,
          1.1763454841591856,
          -0.06725831563725192,
          0.33228554944825406,
          1.4992806451194245,
          0.6021183045261588,
          1.3383874479930344,
          -1.1226558513004006,
          -1.392776381590839,
          -0.8673300658818353,
          0.7306765397852041,
          1.2581085820361266,
          0.2585589997733217,
          0.14435895190846262,
          2.0890652196087776,
          -0.794237026315184,
          0.36781927307803397,
          1.2881437821139967,
          0.9109577464207603,
          -0.8944706988311439,
          2.0241867237957716,
          -1.1899091897837175,
          3.4822503029819334,
          1.032404746883405,
          0.8651716349078821,
          -0.34355211015131737,
          -0.9143801633302082,
          0.9639365073708518,
          1.0466819657044053,
          1.6239039178388917,
          0.7985492034036068,
          -0.867052906993757,
          0.3245454468354169,
          0.030363214680248458,
          -0.39819753880738973,
          -0.026975103977996184,
          0.7894887225313729,
          -1.9570617902248997,
          -1.0214656431402167,
          1.136619372512741,
          0.004369756227976861,
          0.9285374630361812,
          -0.9426415812631188,
          0.21687799948116881,
          0.03153608315017259,
          -1.6967126590338162,
          -1.600289684848903,
          -0.27543682833917255,
          -0.99509934750294,
          -0.8730350765946652,
          -1.3216852894138211,
          1.1193615689437266,
          0.5533654146843232,
          1.9557344923298132,
          -0.20951811070029222,
          -2.4873954076611042,
          0.014121376975546135,
          1.2597126045101383,
          0.2651249702534922,
          0.0017864951621629679,
          -0.7612757613004635,
          0.3948763294482803,
          0.11743273447077014,
          -0.6232821351728234,
          0.5852593705652298,
          -0.44082095968625595,
          -0.6322575617395879,
          -1.116642792293983,
          0.7001610329071717,
          0.0040708483313105425,
          -0.16459687409555906,
          -0.15039431674232326,
          1.033343133028934,
          -1.267986063016377,
          -1.489761313106755,
          -0.6190083052873355,
          0.3099993433233161,
          -0.330332303535632,
          0.9512743765082038,
          -1.3713661565801407,
          0.11135087196251879,
          0.4425463460496744,
          -1.5265817056097355,
          2.0372139192830674,
          -1.0081855993631306,
          -0.3980696650327021,
          0.9270128040378204,
          -2.1222366651217066,
          0.7451660105883824,
          0.45439648016255446,
          0.5806931362420218,
          0.5862171562556708,
          1.0273847707437602,
          -0.7221247010635504,
          0.8448736940151063,
          -1.0264107794733168,
          0.08929042363738132,
          1.516949675319367,
          -0.24656013193729795,
          -0.11578385810769318,
          -0.5000350584164619,
          1.2322860748334261,
          -1.1410023964235316,
          -1.6268339988417948,
          0.08946196261941176,
          1.2372065498143305,
          -0.9668373863029281,
          0.9505164489054103,
          -2.371912906595522,
          -1.0629906726439278,
          -0.44445617681223487,
          -1.8442602251560996,
          -0.9396101682585166,
          -0.7047200717499965,
          -1.2410088098952632,
          -1.2513377540453432,
          0.34565717927845463,
          -0.2936026135744408,
          0.009538561069244606,
          0.41058936179586186,
          1.6135992236276293,
          0.4651607580408314,
          0.6880309162682003,
          -0.5558208063178509,
          -1.7027502974813316,
          -0.05606440779923568,
          -0.5493409455290839,
          -0.36822407012502995,
          0.5455945240241034,
          0.4253515519974053,
          1.3469743982389775,
          -1.5043601833755296,
          -0.14051030507786066,
          0.6711566309802384,
          -0.7449125888586539,
          0.21776883044412174,
          -0.8113455767957806,
          -0.20316944534521703,
          -1.309224344930472,
          0.38656544602350734,
          -0.06458124374996638,
          1.0847612931628237,
          0.5582828940984924,
          -0.002419368821179844,
          -0.2868947543559313,
          -0.23085442085678684,
          0.9206729841168774,
          -0.4915808695503914,
          1.6473762717517866,
          1.6510604851530888,
          0.563001499776998,
          -0.03560387687745309,
          1.5586832585487942,
          0.5564698797780612,
          -2.5683457020480733,
          -0.398107922154847,
          1.6373676533354224,
          0.5718470775401222,
          -0.07646845887438458,
          -0.38217531941792465,
          0.6599815901258115,
          3.082979087750218,
          -1.4816426355516854,
          -0.11770266152796167,
          0.4908372060474978,
          0.7909595071053476,
          1.1087263608991749,
          -0.8692796691501471,
          -0.2904179642543477,
          -0.038257096458901206,
          -1.4426947560991283,
          0.05344198801481527,
          1.7717553847501828,
          1.1043579269807051,
          1.208994542136712,
          0.6148797029909728,
          -0.5414979031875725,
          -1.351153821224573,
          2.199541873638141,
          -0.1323986329864661,
          -1.7630015519380102,
          0.26457373484962643,
          0.3454000344637114,
          0.7115814901364862,
          -1.2355912019293362,
          0.19918300486699683,
          -0.0471279304317181,
          0.5379788505467425,
          -0.26745899836766734,
          -0.5877580676037416,
          -0.04203439523802087,
          -0.07152408924499493,
          -0.6345821353754636,
          0.747610231865831,
          -1.7293002038464678,
          0.20161738271174642,
          0.8294113116684545,
          1.9538066007745554,
          -1.2697519434451834,
          0.17402704424595886,
          -0.011360482091153779,
          -1.8497001949865135,
          0.1742014347102622,
          -0.36149355294088303,
          0.40284141414904745,
          -0.5312531832694459,
          1.1199140240540224,
          -0.8228870735038851,
          -0.2469672416336154,
          0.5395565896892993,
          -1.0875273922554338,
          -0.13160342805207953,
          -2.401746627143261,
          -1.4782203769396103,
          -0.5095178331491007,
          -0.02789236731984932,
          1.5414844696108718,
          -0.9548003198489086,
          2.609995876407474,
          2.519084605944932,
          0.705996552463448,
          2.1038836485300183,
          -0.3594479354119286,
          0.5618398685847472,
          -0.35057002823125305,
          -2.339373498856309,
          0.7014307197218338,
          0.10315449527708623,
          0.6542849062465281,
          0.5682893303931723,
          -0.6198408910378366,
          1.497777437942417,
          0.4647047253800762,
          -0.17210466055535364,
          -0.12897420022977632,
          2.520789880747531,
          -1.6339364791094935,
          0.011488419507332289,
          -0.69602132974309,
          0.16338433059592633,
          -1.087820271372365,
          -1.8098241289576957,
          -0.22037381596406977,
          2.0772274534980353,
          -1.478467912357673,
          -0.7412679826849583,
          0.7107021424620908,
          0.012436716459317989,
          -0.840476677842021,
          0.3079697583089648,
          1.2763942183575736,
          -0.32809427602398117,
          0.12327221424650114,
          0.43172283805423406,
          -0.5336430198613217,
          0.07270302057287607,
          -2.1180096911583464,
          -0.5753623688571393,
          1.813904165688201,
          -1.360205064863232,
          1.318062681726422,
          0.27924646195671227,
          -0.5635683086546214,
          -2.033475539358784,
          0.10541110797687528,
          -0.47748865752883235,
          1.3313568540933618,
          -0.11446205267361269,
          -0.7681549022470603,
          -0.953359762485962,
          -0.5568336395445762,
          -0.7472167552240319,
          0.4493575844715936,
          -0.48888802130446807,
          1.753154149105714,
          0.4099633693458642,
          -0.6860330950755349,
          0.5363907374125241,
          0.19779775439024921,
          1.0480025835212434,
          -0.7356316184436719,
          0.6143208850607346,
          -0.7488843714669781,
          -1.0168908296117827,
          -0.6872248349275185,
          -1.3891828529008958,
          1.882916186136137,
          -0.3709348919278312,
          0.6029518633416395,
          0.8519497394579859,
          -0.2199728786588299,
          0.14609017381129408,
          -0.4336158666377093,
          0.27247561931224057,
          0.40123240352244954,
          0.8239196527323889,
          0.8790802515926943,
          0.9896408396373858,
          -1.9884727824517276,
          -0.8926319372432088,
          -2.318769840115488,
          -1.2408631156968501,
          0.2699856654588601,
          0.09021662995235279,
          -0.8473511993583429,
          1.1389075728887905,
          -2.742814039589909,
          -0.03524790272446847,
          1.061927879664911,
          -1.1776230046039335,
          2.0462388652388177,
          0.2865725502715638,
          -0.7680968341854716,
          1.2073864144513784,
          0.6945307117672417,
          0.8957465948164933,
          0.6842880392115331,
          1.7768479593372346,
          0.25768250212371663,
          1.1745212567390981,
          -0.04410930450254311,
          -1.0005652300863848,
          -1.3939324601706564,
          0.07475630048615924,
          0.3005081317550637,
          -1.762956350269603,
          1.116427459561468,
          0.5393973905799111,
          -0.2843646847059211,
          1.00049851773051,
          -1.191114019685085,
          -0.44079981331616447,
          -1.0313254132600982,
          -0.9819036060664651,
          0.5427052540449604,
          -0.6752441377921524,
          -1.1043366792462948,
          -0.5733124487421026,
          -0.6030455471927725,
          -0.9299717607090772,
          0.8737862051826378,
          -1.3373645412838486,
          -0.7773211605092746,
          -0.023275440299137733,
          0.8739517300659041,
          -1.817025038494217,
          0.6279781715794347,
          -1.909220130495893,
          0.4947885224697661,
          0.21809062247170788,
          0.5987615000028438,
          -1.0514475099120988,
          -0.5841302785255748,
          1.019739753703201,
          1.0218260344754804,
          1.260065143656083,
          2.4574233764552873,
          -0.22502859316115614,
          -0.3910427347351214,
          -0.27980666916736857,
          -0.7296574608224919,
          0.31682699866553204,
          -0.6266999921034423,
          0.4347816828654756,
          0.5278659681841351,
          0.12176910617535885,
          1.5845744055498303,
          1.0959550537726275,
          0.4215948816929064,
          0.2818282507733036,
          -1.6765434270084627,
          -0.2597238678459175,
          -0.10154276642890012,
          1.2218993709895434,
          -0.6240182588457531,
          -0.895223178452758,
          0.9379911148127197,
          0.34727539925288414,
          -0.049559358987851396,
          0.8624687244827797,
          1.3654623981138028,
          -1.2298914132798988,
          1.172503166658906,
          0.7329192409838393,
          1.0488653968978698,
          0.23179254303011418,
          0.7087213115834787,
          -1.696198072254265,
          0.7533304930674093,
          0.6592360566461498,
          -0.4960149507517613,
          -0.6696294255799531,
          0.4985725131403875,
          -1.074287186522655,
          -0.16446590776564787,
          -0.06441282318757721,
          -0.2092535518521832,
          -0.7557433467030122,
          -2.3829797460762125,
          1.1202679788481076,
          0.7708187419049287,
          -0.5703686191082538,
          -1.3809739988237046,
          1.4186803322419332,
          -0.24966861148466188,
          -0.5696207078902112,
          -0.709037009968018,
          -0.36481611416162363,
          1.8869112369590757,
          0.7315606442625916,
          -2.111071495126962,
          -0.4733333115535418,
          0.9370295268766166,
          0.7415350612470949,
          0.8203884526439666,
          0.8513283439951944,
          -0.5370038914835936,
          -0.8682723017552144,
          0.5465819902526098,
          -2.303685802347817,
          -0.39578497009674096,
          -1.6316286090473557,
          0.6265119543956275,
          0.661924113450136,
          -0.579892797309144,
          -0.6052473947335155,
          -1.4777617324855115,
          -0.6742013407141532,
          0.031081284390928738,
          -0.03421878411690463,
          -1.8195189258067423,
          0.09636273118362114,
          -1.4585607215231233,
          -0.45649157929440504,
          1.5306157086783634,
          1.1923948153643733,
          0.892608084515877,
          0.9398233795452823,
          0.345450003365598,
          0.0983232226081871,
          1.8555948173063423,
          -0.3228832333212543,
          0.6671707836417731,
          -1.6074079516225044,
          0.07369570277996855,
          2.075908003867017,
          0.6416153051432791,
          0.6551204394100736,
          1.7397744500065198,
          -1.2166623389406104,
          -0.3957338507954698,
          -0.42673786317574275,
          -0.6806784062019017,
          -0.1734938817930426,
          -0.21807831468807104,
          -1.400697593466904,
          -0.20226624602970567,
          0.3375318796575721,
          -2.313462403186213,
          -1.0660627678017112,
          1.2200718227553167,
          0.2794142060997403,
          0.1643128365829479,
          -0.8394033623825007,
          -2.2809725249995574,
          -0.5569309797028777,
          -1.3701719022156003,
          0.21473959817699975,
          -1.5650463305934679,
          0.5814828835856541,
          -1.4421701519441963,
          0.15133269823607565,
          -0.07329737601645502,
          0.9701200927191679,
          -0.6420285926071216,
          -1.8591506052077662,
          0.6808232322378104,
          1.7125320666089419,
          -0.808679386652059,
          0.15353653660635366,
          2.243943565186375,
          -0.2714117665519281,
          -0.324723795045721,
          -0.3274306338424328,
          0.1533616492746143,
          -1.3090893879757775,
          2.2332760759635546,
          -0.3732048860200866,
          -0.12122625618320941,
          -0.312832907750243,
          -1.039486836809328,
          1.3435219981554585,
          -0.3876154885309238,
          -0.34873546291387275,
          -0.36394397719805827,
          0.39957790946135874,
          0.8488617259026469,
          1.8391513400265165,
          0.6050739528914423,
          -0.4376998536004381,
          -0.2677765962955339,
          -0.48027389565528794,
          0.30229739959389823,
          1.4854146612611767,
          1.049645775521772,
          0.24393803676707398,
          0.004906473232311436,
          1.4766304557067602,
          -1.0008139611695799,
          -0.10260104218616979,
          -0.5689100275368661,
          0.2822363926455185,
          -0.4286371067268467,
          -0.14485844485871016,
          -1.18232931381817,
          -0.2581308374325831,
          -0.1576155935404377,
          0.4032967204189816,
          0.9194391641085818,
          -0.30129871266153085,
          0.14233119198284472,
          -0.29844402739545906,
          1.9661190229762213,
          -0.3026832785882891,
          -1.1839778630210622,
          -0.6669080165384358,
          0.17645827204218734,
          2.4924539188879247,
          0.20835708569072522,
          -0.866139170932855,
          -0.20027396281729679,
          -0.9522039308063014,
          -1.0259971644085126,
          -0.8333078783764496,
          -0.23817601188466372,
          0.3623263974801491,
          1.6396695267129249,
          -0.6545104653005694,
          0.8404338159136602,
          -0.7798124400308044,
          0.5413265342059176,
          -0.8128379674302062,
          0.11263936066689215,
          0.7097464875808709,
          -0.22023395170917803,
          0.6973658502829261,
          1.0717016564642796,
          1.3329202706504943,
          -0.20363284032147033,
          -0.8688433651570153,
          -1.5364582479388014,
          -2.3692375165902297,
          1.1096040981569986,
          -0.25185440748062776,
          -0.8838692992567635,
          -0.004223515524269453,
          0.007108226290426238,
          0.4700468587336834,
          0.9200309457072013,
          -1.2713989985170104,
          1.2335269249582301,
          1.1245753879372942,
          1.893381674090169,
          -0.6956624821305457,
          -0.02416078629661423,
          -0.1111531173631211,
          0.24329793565187757,
          -0.2881769486431328,
          -0.7764429092480912,
          -1.147239076763951,
          -2.269725256954482,
          -0.6013171289138405,
          -0.8214567489786214,
          -1.443437250635692,
          -0.7702951760591322,
          -0.3938302037932007,
          -0.2083395528812676,
          -0.749158232802084,
          -1.306175961707151,
          -1.8697785971034346,
          0.34354273984331307,
          1.5180699033197078,
          -0.9757277247329642,
          0.2040346281498806,
          -0.6520137500562565,
          0.32620551810865583,
          0.4300379326947645,
          -1.0705268716258192,
          -1.0705064521490515,
          -0.09603288941905064,
          0.8941031627313336,
          1.0185967923538164,
          0.9714749902831388,
          -2.3533523494096427,
          -0.6055324993417673,
          1.6764931684116948,
          1.3850466486950526,
          1.2879337753860753,
          -0.28909173402445265,
          0.07220263471732437,
          0.3465213987009511,
          -1.8690314412896374,
          -0.8249178011323527,
          1.10225887880012,
          -0.34938356948546584,
          -1.1208115188155223,
          -2.637388039548778,
          -0.8186686513926731,
          -0.5360080778082832,
          -0.5448066352354142,
          1.1813310518196436,
          -0.14315359089892346,
          -1.0678644583186852,
          1.4995205816950479,
          0.11968121755747203,
          -0.5174217738592988,
          -1.1152549076540375,
          0.27654153397288156,
          1.3265409908645727,
          1.3503537192081636,
          -0.5022635772031171,
          -0.42059855238772226,
          -0.24325946625005557,
          -0.44076526868481625,
          0.2288567835997887,
          -0.4082808766152,
          2.1209649706032367,
          0.9777972028063334,
          1.0723538647427413,
          0.5344771591569617,
          -0.6120756906411733,
          -0.7652058239749264,
          -0.30376096525484986,
          0.039431362859882156,
          1.0837466885705749,
          -0.48300358272326943,
          2.365324061447268,
          0.12802159939752628,
          0.6228316566065231,
          0.36804572792717577,
          -0.8214776954548428,
          0.7305286797989677,
          -0.7759658203058823,
          0.8925990899939079,
          0.08216391134773302,
          -0.7008601952471506,
          0.6849830389764986,
          -0.9899398123800438,
          -0.9531068327096045,
          -0.0298634668738399,
          0.0882911229962137,
          -0.7675231093517564,
          -0.9554866530511589,
          0.6533712477463847,
          0.26105576776131306,
          -0.9354715778327181,
          0.7810302995975813,
          -0.7779633068029372,
          -1.1354511052522092,
          1.420596371687845,
          0.36815332090662195,
          -0.7851566607616254,
          0.2588390402963686,
          -1.5311791436376916,
          2.234757288440803,
          -0.6342294498355383,
          -1.093268036468013,
          1.0471619402790724,
          -0.7116752904943311,
          -1.419115046919685,
          -0.2872776887921139,
          0.8604258082809554,
          1.8613305570768828,
          -1.8424900052000706,
          -1.405576522437862,
          -1.870058621893325,
          -0.3742319535700587,
          0.832105964690954,
          -1.769335129857958,
          -0.2119667902510071,
          -1.2084261030260122,
          1.0833903591357865,
          0.9261368255009608,
          -0.2609739711101597,
          -1.2743911844904081,
          0.42231330956119867,
          0.08877636007415439,
          -1.681093650215682,
          1.245335050456231,
          -0.008990602081805842,
          0.5021682242853104,
          0.2548342709066709,
          -1.8637087097912348,
          -0.2898333705959898,
          2.3417406967989107,
          0.3335959992640241,
          0.5348323617421702,
          0.7337207648086832,
          0.9122865520701786,
          0.6043110291067988,
          -0.4169481534591784,
          -0.15360510577614184,
          -0.2110476484996785,
          0.4023104364756032,
          0.6663631481312073,
          1.1677221770580264,
          0.18171854541798296,
          0.28990675501138735,
          0.5015125675206641,
          -1.0517209166679344,
          -0.306281136515185,
          0.9360151076586213,
          -1.6513103863175789,
          -0.6446883401298882,
          -0.25158601427172805,
          0.8620314862979767,
          0.33239209072763354,
          -1.4508541726350694,
          0.12756125305812338,
          -0.054205171685582504,
          2.006268260610305,
          1.9776120360308305,
          -1.075256454322612,
          -0.4401300248922689,
          -0.6735568534526907,
          0.5745942630115337,
          1.6633034208770472,
          1.3631613453413722,
          1.7948183524086596,
          0.9100796281507136,
          -0.9784725218957985,
          1.076030528498722,
          0.32047362302799626,
          -1.102398646924833,
          1.3093847592104044,
          0.19753505176226616,
          -0.33081166047935,
          -0.5964999735673735,
          0.03449837303557501,
          -0.040920809167361336,
          0.770081732070417,
          0.576775018683036,
          -0.377818516445405,
          -1.048332935647767,
          2.553554333605787,
          1.0210454375658526,
          0.276369464595779,
          0.18580542905615186,
          -0.39451553989724225,
          0.02836819940384733,
          -0.09494102426515114,
          0.4939749896776757,
          1.0372407552708656,
          -1.2196757537271317,
          -1.4063114305783353,
          -0.7329742926485281,
          -1.3383296785506336,
          0.9375472978606176,
          0.48376696114515216,
          -0.32783931970275887,
          -0.016521778426303306,
          -1.051683735455335,
          0.9684685756381788,
          -0.9529802404834076,
          -0.26602162407403335,
          0.8066482095854901,
          -0.21882245077185727,
          -1.2134657165988272,
          1.6600771029981798,
          1.222468604858958,
          -1.2744437820306123,
          -0.041102400654867935,
          0.17685571486471388,
          -0.23421693811125824,
          -0.8203424579919525,
          -2.1145178815585264,
          0.7161311977930426,
          -0.0806873159820048,
          0.8112321973346416,
          -0.7701208169834767,
          -0.5962850566126713,
          0.23603746191760416,
          0.26428234137082984,
          1.0964294211502055,
          0.4653659511087925,
          0.40229014474949265,
          -1.6923442265621236,
          -1.4148280856489237,
          -0.4947328988580281,
          -0.6019082948361792,
          -0.21277661471839018,
          1.0314224487974946,
          -0.8958248986795301,
          -0.4091487923272909,
          -0.7749293097236639,
          -0.16652302340984615,
          -0.9984403184283522,
          2.0076473426437693,
          1.4282999540526833,
          -0.14154805980118823,
          -0.794570582460068,
          -1.1757557363670406,
          -1.7518123539311155,
          -0.9327332561964086,
          -0.6132649205978333,
          0.24890921470198482,
          0.13732458801331823,
          0.6991701028699618,
          -0.4594021138735888,
          -1.4040857738993175,
          0.3673942639324614,
          -0.4344243459640429,
          0.3066752164752017,
          -0.5129582595359945,
          -1.5912646498187544,
          -0.594978262257164,
          -0.1358700672924681,
          0.9537610605864072,
          -1.0392275076253075,
          -0.250428264573772,
          0.13330684622381586,
          1.825756821044909,
          0.24620354237433992,
          -0.3886702900786829,
          -1.1531590515044348,
          1.1033560653165357,
          0.477022898523924,
          0.8664091858310764,
          1.0437520032201582,
          0.09296799801390257,
          -1.34190544347761,
          -1.349345303767531,
          -0.4313347461414088,
          -0.4759926388369459,
          -1.5931890621178206,
          -0.24806691999513067,
          2.1577145756973235,
          0.637591175603612,
          1.1548157117085953,
          -0.9192342138966422,
          -0.1888695375464071,
          -0.16456937411953662,
          -1.0501769571599358,
          -0.9389729789244499,
          -1.9180725264111398,
          1.8686905667454945,
          -0.07942335795273209,
          -0.09555547801368794,
          -1.2127472349519623,
          -0.9465693435148393,
          -0.8618035367170984,
          1.0307717135254495,
          -0.8389563631124699,
          0.031018587832656312,
          -0.4691682130148968,
          -1.600448854003994,
          -0.18617996927556685,
          0.7841529640333373,
          -0.4164753009684141,
          0.791537509680193,
          0.014334979485851674,
          0.38732592121830983,
          -0.8568529951646944,
          -0.4572970459514802,
          0.9225351968176867,
          -0.6740033158027757,
          0.924503572040836,
          0.6454789462857355,
          -0.9707406718735478,
          -0.46577480473281746,
          -0.0922999609202836,
          -0.3269476781343593,
          0.7329393977259998,
          -1.4370569303603455,
          -0.062493113004591705,
          1.7808128936657108,
          0.41290271703103304,
          0.7856104539889265,
          0.3329975426622143,
          0.6768166695745832,
          0.4721262603145792
         ],
         "y": [
          -0.16413706239320383,
          1.3894273846849918,
          -2.3721644129546364,
          0.16017804680125275,
          2.057285341204339,
          -0.5105417687522896,
          -0.9172741408741,
          -1.0379918261556826,
          -1.8811665879567905,
          0.02814603106131857,
          -0.713237722534518,
          0.2366743887218963,
          -0.906525901960684,
          2.3826773489696187,
          -0.9231498111836653,
          -0.5086283144388601,
          -0.25604388679291695,
          0.5285411312644105,
          -1.030023318972884,
          -0.007367523337009445,
          1.304549596162329,
          -0.02651610799808754,
          -2.308598190161707,
          -1.2401461504181843,
          0.5957361608786675,
          -0.40072895751343707,
          0.019765262797033344,
          -0.3058250867757044,
          1.0458845789865898,
          0.09714941444874071,
          0.17905827057111226,
          -0.8287318270381614,
          -0.08811577362161033,
          -1.1104641121478485,
          0.6909635160933032,
          -0.3568903097444967,
          -1.7593391250079904,
          0.3439538066534072,
          -0.74177094699911,
          0.9072124031800579,
          -0.12106656298532578,
          -1.1217458513259821,
          1.0354545250875071,
          0.464970405094879,
          -1.8174463186834995,
          -0.9904137024628152,
          1.2489798131420176,
          0.685165475908824,
          -1.1959420189067433,
          0.28850629778446285,
          -1.4878898718038274,
          -0.24816411606078298,
          1.4418161659141284,
          0.20684808515594494,
          1.6760154460433767,
          0.23093011829266677,
          -0.22719582894789528,
          -1.799334485514421,
          0.3523513480294435,
          0.16812818588135242,
          0.3536137223775956,
          -1.1841507557160302,
          -0.653108423608425,
          -0.7044714893819776,
          0.18055767832569913,
          -0.23655382486702906,
          -2.4901352337931226,
          -0.27164293272641005,
          1.8313643436070473,
          0.07137486469684609,
          -1.470457942382873,
          -1.0361293792469375,
          0.5144284029713468,
          0.23982067356852688,
          0.8642522513461253,
          0.28357087902126643,
          -1.4578715231372652,
          -2.0658546965226745,
          -0.5114770655245655,
          0.008856317042920166,
          -0.5147780279136862,
          -0.7542526543060258,
          0.5325359823002971,
          -2.230798289784278,
          0.09566508868834492,
          -1.4936815425525323,
          1.070453109065961,
          -1.11928694319637,
          0.7926258434071918,
          1.7014678882882526,
          0.9123354845216379,
          1.1631870379455462,
          1.3340045666905485,
          -1.0964327431811036,
          -1.2505734472166692,
          0.2413975796048888,
          -0.3628526098682875,
          -0.48064544108685564,
          0.3748024154733557,
          -0.0025406886094900254,
          -0.06749522380571345,
          0.8269835796325409,
          -1.2069601311492675,
          -0.8494699300926302,
          -0.010177086153052321,
          -1.1243427780582484,
          0.903303450922669,
          1.279577499294575,
          1.561266156906085,
          -0.3108673919516816,
          1.174338678176378,
          -0.5986412317921589,
          0.30318970473237744,
          0.23102807405348671,
          1.7605031640483493,
          0.8905863223493484,
          1.0446102645247137,
          -0.7561596139685144,
          0.47775938021772985,
          -0.7073565158170179,
          2.573712525294652,
          0.644953704683011,
          1.878858274061104,
          3.4027901486961913,
          1.1901299212788088,
          0.10183292654322304,
          -0.7307844047121852,
          1.0295891278435496,
          1.3702455019479116,
          -2.843008361317168,
          0.2402461861426717,
          0.3017273525845065,
          -0.9776186963923996,
          0.596166648373314,
          1.6013996847379735,
          1.2680971389682492,
          1.4380657462092352,
          0.6191326082854295,
          -0.9859949364938331,
          -0.6502129383456343,
          -1.2690485447595847,
          -0.1965588270360896,
          0.6577139410848806,
          1.5227669776422876,
          -0.12024007228633844,
          -0.8393261872573046,
          -2.2012289138665557,
          1.600287407624034,
          2.0566162886375206,
          -0.6983007488980776,
          1.2915906785391253,
          -0.8557540274547522,
          1.987065931272365,
          -0.27595801597246844,
          0.7567425558185382,
          -0.5340012729046243,
          -1.2415344080277804,
          -0.009015193857068582,
          0.581572178021735,
          -1.1347912188867406,
          -0.056606730643967464,
          -0.6652489806492495,
          -0.41849820377497715,
          -0.9838952652740963,
          -0.12806466909451958,
          0.9522376242249694,
          -0.13357726112433274,
          -0.22418070962910627,
          0.20350363903075144,
          -0.71760282655815,
          0.128791275060658,
          1.0317905744067524,
          -0.9535250892347932,
          -0.8080070181274435,
          1.3549925990533624,
          -1.6733300802059414,
          0.6130741590908964,
          1.6849748010731092,
          -0.4947274594053285,
          -0.2818794097657671,
          0.21569966904003324,
          -0.6301183591758636,
          -1.2543445622436937,
          -0.34387550551740215,
          -0.18296562573424988,
          1.2637119852861705,
          0.7764806782054431,
          0.8956426963003175,
          0.1874202609063845,
          -1.7518644559193453,
          -1.4987310371490505,
          -0.020671520037808568,
          -0.008562584381255874,
          -0.8549386851953806,
          -0.29791076616308043,
          0.5111587724087522,
          -0.5629310906464168,
          -0.33593196507674467,
          -0.874217519443719,
          0.008711343216855275,
          -0.7165012389223343,
          0.12762993752932417,
          0.04741898573111915,
          -0.11980129490743908,
          -1.0972772752797775,
          -0.0990153140858812,
          0.4155017963401002,
          -0.7322898678102223,
          1.5448104113370553,
          0.5330217950950425,
          -1.7103480637096784,
          -0.8848280017466027,
          0.12496259741472966,
          -1.0643521163630987,
          1.3775880152998843,
          -0.24820100614783838,
          -0.19102535819502206,
          -1.545324693238494,
          -1.458058648549077,
          0.7261504825104294,
          -0.5931184563929442,
          -0.31676724934046024,
          0.6280198524753171,
          1.8705070480249906,
          0.03784722614801454,
          -0.7016594568230307,
          -0.5072434778012773,
          0.04105312105167965,
          -0.8153090861546769,
          -0.5600588816375588,
          -0.1808106935361097,
          0.014117877791055148,
          -0.13924277807714433,
          -0.6659562283120625,
          -0.29555318439676487,
          -0.9410896131554247,
          0.6595280868778666,
          -0.3351978248066292,
          -0.45445362812566986,
          -1.2136110042993784,
          1.0467159984556398,
          -1.0536075805630025,
          0.23068638468450586,
          -0.21901904675847525,
          0.5354614723060669,
          0.6417908433634838,
          0.17404292995952286,
          0.4660850884764713,
          -1.658437080059177,
          -1.2365640944675127,
          1.4155803628420378,
          1.5214450178772774,
          -0.6597573194328232,
          -0.8075952640873701,
          1.5859089145165257,
          -2.111225448516837,
          0.8365382107136488,
          -0.8181212335878423,
          -1.3728508372423285,
          1.5180531718443335,
          -0.3672609014853612,
          0.7428400095034884,
          -0.9313029173602321,
          -0.3214435295164817,
          0.6491594386215838,
          1.7293821055187957,
          0.6434986506844534,
          -0.8820772368297978,
          -0.6947687431944723,
          0.07913944355432942,
          0.38505772635361735,
          1.1463712043176326,
          -1.3091879883318378,
          -1.510945679860293,
          1.5728509223400637,
          -1.8945755358895515,
          0.458025503728392,
          -0.08941543806958735,
          -1.056729934859198,
          -0.4268591674043946,
          -0.16261768757067196,
          0.4727588363451192,
          0.571842650137279,
          -2.581551623253,
          -0.5437139412113557,
          1.4138778212703715,
          -0.8740735279176695,
          1.0666950329993776,
          1.5004491680688847,
          0.9919022806994577,
          0.2862302727370972,
          -0.37478950451237036,
          0.704397454222556,
          0.4205481859462993,
          -1.360319897713331,
          -3.0184553458582872,
          -0.17122405279202307,
          0.7866781880646547,
          -0.7296594583397839,
          0.636483945503813,
          -0.32173996271015304,
          -0.825772926218414,
          -0.5978131678146311,
          -0.30780662541395176,
          0.0015939013047639454,
          0.007788913768474034,
          1.5027648566497487,
          0.031112779675852482,
          0.4468135885179933,
          0.5975432244580601,
          -1.272806753856421,
          0.34688110841029346,
          -1.1242195543066569,
          1.1140069838813673,
          0.316361078438306,
          -1.953276735585763,
          -0.5957847659911277,
          -0.9545004477860168,
          0.5190203071320885,
          0.7451757031770258,
          -1.0969955386579735,
          -0.6062577350068732,
          0.9465342489396491,
          -0.7132109798089795,
          0.33465694229317816,
          -0.30331521706056136,
          0.11412591315492679,
          -0.16943040976579765,
          0.9038206940086709,
          0.8008156075808445,
          0.1941269090577534,
          -0.011939980680073722,
          0.8540750456329806,
          0.5164703965168793,
          0.40928972585257245,
          -0.5833766001992134,
          1.3148172912102167,
          -0.5559057420060362,
          -1.1834253198063949,
          0.795848481448595,
          1.7388711232280731,
          -0.14552045770822816,
          0.2529807526524677,
          0.8197427721456282,
          -1.3107196257894904,
          0.2124927722661521,
          -0.47428978579006736,
          1.0763178735986576,
          -1.6268545901696863,
          1.333642071299531,
          -0.020311338312907358,
          -1.189413731401291,
          -0.20494672442942913,
          0.7900698606020006,
          1.0058142727657573,
          0.29626803534378904,
          0.5619607116645119,
          -1.0778166602578678,
          -0.46602752146281,
          0.8347032280027133,
          0.14455444994540462,
          -1.1599394013189976,
          1.7791802263871077,
          -0.4213628059902879,
          -0.6043797782499671,
          2.064570920802806,
          0.3056839642242427,
          -1.7471439886900801,
          1.2731705698216012,
          1.7412444082450231,
          -0.5312443673261934,
          0.18692630705948066,
          0.9510739641577678,
          0.8901040592725173,
          -0.5235322478551802,
          -0.17910801540306465,
          0.3421742458274999,
          -0.6331024560992643,
          0.08597804293098492,
          -1.0401701613390375,
          0.3729940881358886,
          -0.42810979023799955,
          0.472067865839314,
          2.6814441339803996,
          -0.3240867554100638,
          1.0957606242773454,
          1.1280435443962022,
          0.647011968919892,
          -0.4208628835180482,
          0.4779071249723139,
          -1.2086339841336387,
          -0.1405135570323779,
          -0.1395147637097102,
          -0.40080858832160315,
          1.5085536535321826,
          0.7701409158528905,
          0.27395661658143733,
          1.9769620701313941,
          0.3882532583336288,
          0.4908745693119886,
          -0.6713515683301063,
          -1.402838180738247,
          0.44003896552773714,
          1.4367748928221014,
          -0.383831797207474,
          0.1733275196778778,
          -0.9539752477781009,
          -0.08655260987762742,
          0.7162556614299231,
          0.41650560235576345,
          2.0338346251320756,
          -1.1932294544076119,
          -1.070412044627587,
          0.48640998507510985,
          -0.5719418762823297,
          -1.5112810032091026,
          -0.8516428649334822,
          0.32285746874465376,
          -2.388552850235006,
          -0.6881490865597563,
          1.2845956337986444,
          1.461677417109546,
          0.15256216915566237,
          -2.1810028306220532,
          -0.35764389952240905,
          1.2348461386011527,
          0.12956129139428266,
          -0.05352852875773513,
          -2.2347133114014923,
          1.416212274206527,
          -0.7264537508875764,
          0.5745919318739676,
          0.5084004637695385,
          -1.8089628184948126,
          0.7603390014257511,
          -0.3579740050060815,
          -0.016464922982768016,
          2.173785995265835,
          -1.8665721027688935,
          0.026467875850963368,
          -0.8083458313738706,
          -1.213364949646252,
          -0.9287413091179805,
          -0.07138833846532476,
          -0.3915361505222056,
          -2.135745742938483,
          -0.14064012064306158,
          -1.2919165937020871,
          0.042834643008546634,
          -1.4761143389751537,
          1.8652417188061938,
          -0.5320549695675533,
          0.4457313927119541,
          -0.11487946824463482,
          -0.8743396430976461,
          1.6324214246250048,
          -0.9126001633817387,
          -0.38379396874591326,
          -0.562688469653645,
          2.359985400932606,
          0.6523946245213663,
          -0.9241619899207127,
          0.523774138557881,
          -0.8666325137929454,
          -1.6596892683313345,
          0.259175128956702,
          -0.4259230067648845,
          -0.17480567750149573,
          -2.0573490671979253,
          2.1139658902027074,
          0.5102070370348681,
          -1.4406615672151188,
          -1.3407535918383844,
          -0.11908758704201375,
          0.5832722700537535,
          -0.7787295054505784,
          -0.3110071008328977,
          -0.7024033425539249,
          -0.6156342657016293,
          -0.15558210548658294,
          0.29714945278270566,
          -0.1517136847957264,
          -0.0775957101110145,
          0.27231204586357866,
          -0.052957095358422836,
          -0.7774017348146096,
          0.15455590873829428,
          1.0325330746456123,
          -0.18436927858761243,
          -0.5308735859637911,
          1.0983733988977058,
          0.7418927726074577,
          0.36416292695444563,
          -0.6021728731686488,
          1.1488741234365447,
          0.25189004086641814,
          1.7766635806146531,
          -0.38791802104230033,
          -0.3725989696023741,
          0.3520609054947041,
          -0.6799662514226743,
          -0.34801626860362805,
          -0.8397090554715226,
          0.7972434107482187,
          1.3089974231843717,
          -0.4346365966005053,
          1.2574607671907436,
          -0.13832900783004085,
          -0.04351658339977578,
          -0.9165461851709453,
          0.9616111208748906,
          -0.42230394607059984,
          -0.19847178531922172,
          0.3202786831245216,
          -0.7138182552557106,
          -0.23152827816644875,
          -2.4952818301612356,
          0.6032745043040061,
          -1.8632782717830334,
          0.7207938335226154,
          0.5303306276710329,
          -0.2987565390835923,
          1.2510701635555248,
          -0.9253916582603718,
          -1.3452292755340418,
          1.3939451518413153,
          -0.556663530044965,
          1.1333417670655355,
          1.0643036035258546,
          0.4264623774055474,
          1.2566646170873976,
          -1.081427251207316,
          0.1939977649780713,
          0.9726987297867169,
          -0.4601042550064584,
          -0.27551698583337764,
          -1.4059103229061012,
          0.592438944602958,
          0.4076751885237225,
          2.1710852890336505,
          0.5234803702009274,
          0.9808848568984176,
          0.6484411350041023,
          0.2382066229613783,
          -1.0000817143386325,
          -0.2581600469097025,
          0.22682558448424078,
          -0.6037465903357763,
          0.25255502190279044,
          0.9164263422897228,
          -0.008551023336418568,
          -0.07228701511832772,
          -0.6586284860987544,
          -0.575384414328245,
          0.373788602982648,
          -1.4866164005090836,
          -1.4225800283450514,
          -0.18977864954329274,
          -0.5018631222949185,
          1.4977174954599168,
          -0.8688225832326756,
          1.458952909454835,
          -0.4528879355372398,
          -0.4817068253418775,
          -1.4207013179509338,
          -0.07346104944360389,
          -0.19363085937512894,
          0.11971927142867309,
          1.264008360368488,
          0.4380444612810164,
          -0.9099851473039517,
          0.5308348770717917,
          0.1693401731162429,
          -0.7551334467668098,
          -0.18598112361378058,
          -0.02636404818489057,
          0.1679990868525862,
          -0.5205276255299791,
          0.966644184064963,
          -1.2853207894107324,
          0.8568779502703475,
          0.1986083390743531,
          0.6887771065346359,
          0.2442466371102431,
          0.06800160184117642,
          0.29312443315589093,
          1.0954823869217272,
          1.0852091473157446,
          -1.3786084006707484,
          -0.5746563216932742,
          -0.8497150751129937,
          -0.8045200932846525,
          -0.14063461780992895,
          0.1271085631796774,
          -0.04592375128064867,
          2.123753694399299,
          0.9597708893241242,
          0.11833386418926856,
          -0.24571780067301693,
          1.5013930069043249,
          -1.652128477015403,
          -0.4499094387767422,
          -0.8302079605313617,
          0.5590676957716199,
          0.18732232131362647,
          1.4691466875457349,
          -0.0010892855838320074,
          -1.1789520740546404,
          -0.5835833202074355,
          -1.8516818251421168,
          0.151762957920222,
          -0.34548120138287625,
          -0.7280886160114508,
          -0.398655914348599,
          -2.1704568348228057,
          -0.2255307791695523,
          1.4285494491779014,
          0.7647750514069845,
          2.4613435879458696,
          -0.7722119878337387,
          -0.5364365406501754,
          -1.593285866678371,
          0.27158201178527513,
          0.6302573479585301,
          -1.8521942134197957,
          0.36605223081846006,
          0.3268379636273632,
          -0.743769132911157,
          0.15631484400890286,
          2.1529522800134924,
          -1.241428446962447,
          0.18205256430641337,
          1.2417467679984358,
          1.8236154245683047,
          -1.067289218569763,
          -0.35813367188972073,
          -0.18341256395839842,
          -0.0778924273093163,
          0.3971122934474403,
          1.7739037007670264,
          0.8073573806992105,
          1.5736099749952386,
          1.0785418212469267,
          -0.6918723047022003,
          0.0061443957939744265,
          0.28565973613150064,
          0.048482191377027584,
          0.3624319642902897,
          0.41134093045696735,
          -1.663627488610362,
          -0.08611805193817247,
          0.5228465425050439,
          0.38725234092410493,
          -1.5359437056060274,
          0.014898328135500296,
          0.7268094071751156,
          -1.6580317808208063,
          -0.3220642050238346,
          0.5716067127309601,
          -0.7863292480420555,
          0.3455886659679395,
          -0.23020005862099038,
          -0.8273939771146348,
          -1.3295516655196804,
          -0.46465051511800853,
          -0.19638756619676273,
          -0.7817084707730507,
          -2.0405452397301245,
          -0.5619911524191744,
          -1.1446763236617397,
          0.17663332735730203,
          -0.06418696432651373,
          0.06842499672883731,
          1.1971593649537717,
          -0.21680935350547953,
          -0.7778393745774077,
          0.9482529581604783,
          -0.1734384233805533,
          1.1379268649729604,
          -1.096338351090527,
          -0.1340373484268677,
          1.7060412267724963,
          1.1520780699973163,
          -1.2470033471611315,
          -1.1041521548712805,
          1.0845214890302388,
          -0.9612557987959582,
          0.5490557801457913,
          0.729571593341005,
          3.0708979480229974,
          -1.568072397635611,
          0.9131607764188068,
          1.6404841108536425,
          -0.12482677857916856,
          -0.3009722577491467,
          0.5020320243655544,
          0.4574673532670615,
          -0.438820281407391,
          1.1156871775107708,
          -0.04603287279205457,
          3.1353763320467154,
          -0.7101077351318215,
          -1.1048770591604073,
          -0.1219869300319117,
          -0.9862507324554076,
          0.8231968277501512,
          0.09344371932780321,
          -1.5227814670253632,
          0.08483043153095206,
          -0.1410667474024611,
          0.8926131755867066,
          -0.8781744995085642,
          -0.8844686016360994,
          0.10678368477107257,
          -0.09235026506571481,
          -0.03814764798834601,
          0.5688455032611393,
          -0.919144692358058,
          -1.2815864887177508,
          -0.03029952582530436,
          -0.6218937141954882,
          -1.856658060771783,
          -0.5348687248687756,
          1.9408018034595258,
          0.5746997613903088,
          -0.11927894730818743,
          -0.9029716033595215,
          -0.8396212339239388,
          -1.1050283982136937,
          -1.8926769839877633,
          -1.0064099524058043,
          0.6624075511193913,
          0.1348625068149416,
          1.722695378817208,
          0.6692242204908679,
          -0.7646615631177412,
          -0.7738740408099012,
          1.4085489990009248,
          -0.6008575868083809,
          0.42990997540514975,
          0.2581212964021412,
          1.7020663852647981,
          0.911551933824636,
          1.0931906031564984,
          -0.34877127244219613,
          -2.0843781326190056,
          0.7318763143325612,
          -1.7396557684542557,
          0.013773153784952362,
          -0.5542505035268358,
          1.1996263865225976,
          0.639055883199306,
          -0.221513071664769,
          -0.9698863204896586,
          -0.8564654129222883,
          -0.736005771047047,
          -1.1707028929568941,
          0.08118864204817385,
          -0.36384250722246175,
          -0.4910552645237005,
          -0.6551231893882354,
          0.5245113257689515,
          -0.4550847881026167,
          0.7462278287963335,
          -1.68488146281186,
          -0.6897453520592994,
          -0.07524781245178083,
          -0.7497308840407186,
          -1.2505169851473321,
          1.3592801077596637,
          1.9377336758040022,
          -0.8700765653024979,
          0.2711518735146606,
          1.9556819842854138,
          -1.2640099075996105,
          0.888314072032237,
          0.40902627573226824,
          -0.07999521993246865,
          0.6321727691842662,
          0.37774244091033893,
          -0.26914297462284476,
          -0.4124524646455952,
          0.692115499821588,
          3.818153522831028,
          -0.36920390391700525,
          -0.23473120274140935,
          0.8392120178759256,
          0.4139262030555922,
          1.746548366245302,
          0.676068538363276,
          -0.9357357006925051,
          0.14378690186637555,
          0.7307365515632159,
          1.9636046644943361,
          -0.5735819378236027,
          0.15749277213318932,
          -0.03592122839235335,
          0.17157666780795167,
          -2.364735625485913,
          0.9477947131537116,
          -1.4229714648159801,
          -0.7305611138858102,
          0.20702530358399718,
          0.6104302569973834,
          0.9469992154735802,
          -0.1004238956712853,
          -0.4988360790424325,
          -0.14996915908914424,
          -1.3175270539531598,
          -0.4076871797706349,
          -0.9232320080828501,
          -0.4449526807899866,
          0.7533883110251366,
          -0.5960333981556757,
          0.006760417356058594,
          0.11960428856251466,
          -0.03877153499201961,
          0.7671637555703017,
          -1.6042790391102593,
          -0.8728545904950682,
          -1.6380729345213538,
          -0.15132205788978376,
          -0.687855496407854,
          -0.7487683705710458,
          1.419736250957134,
          -0.30636760910239336,
          -0.7570412262155788,
          1.0210426054934152,
          0.30388991492079037,
          -0.0015513137786436787,
          0.6674382996635859,
          -1.416698223369451,
          0.8118323225195987,
          -0.3932822042170216,
          0.6966992375520028,
          0.1207416716040454,
          0.37654008808365036,
          0.6460193312292665,
          0.3497539506869869,
          -1.5554260156928632,
          0.7112383451564458,
          -0.10513211593674524,
          -1.45160197363825,
          0.2449620097693601,
          0.705047640192878,
          -0.22394367522228767,
          0.2579073777877819,
          0.022966531059789023,
          0.8962959443310887,
          0.24969752319264196,
          0.5544781795425422,
          0.5813834595419695,
          -0.0995039708440488,
          -1.4568603398833115,
          -1.2271375334542935,
          -0.6783682201584718,
          1.453822880394009,
          1.0579170180051314,
          -0.636399236323148,
          -0.12729952554791563,
          -0.8918149295342862,
          0.7152238317491995,
          -0.520739122030893,
          -1.7871782250002415,
          0.4711596263986088,
          -0.4450282872187494,
          0.6051903945879075,
          2.0622262962487286,
          0.5382196806498782,
          -0.2674041210789724,
          1.9299739157552425,
          1.0538561365321228,
          0.6263849161541798,
          -0.4143441225424904,
          0.13023747679158307,
          -1.3813959323810503,
          -0.6457718438173653,
          -0.01340200600521392,
          -1.5982563251677853,
          0.7494608302444508,
          0.24834319764552365,
          -0.35673770871296995,
          -0.6796183330669724,
          0.8782686066437575,
          -0.33898293322248474,
          0.8754283296245895,
          -1.2402731655287489,
          0.7417126321534719,
          -1.0119052179726293,
          -0.6463058769157931,
          -1.94717624286024,
          1.1043659846278717,
          0.5478764898101802,
          2.220296205701288,
          -0.33957488207689507,
          0.15423340353664863,
          0.7331729596089643,
          0.31487686087034084,
          -1.4729627220164434,
          1.0241921349939829,
          0.17070559980714167,
          0.8318187389245271,
          -0.8931268091556526,
          0.6581351214992848,
          -0.29060168462924313,
          -0.7451080298457019,
          -1.6309736800240002,
          -0.39755717073008573,
          0.2293304104164975,
          0.3639050699572715,
          -0.01543428168892488,
          0.1259407343596498,
          -1.0068071054967715,
          -1.3646393090647977,
          -0.25323764450365055,
          -0.17516552988681403,
          -1.5384952268281389,
          2.3263606335694917,
          -0.4908911541479607,
          -1.2298984314301276,
          -1.2398620810203338,
          0.9207508386244382,
          0.7984745182597733,
          -0.0038228476256520383,
          1.128281499649742,
          -2.860598834578153,
          -0.42896355258353125,
          -0.4925367856714615,
          -0.4859216395207879,
          -0.6374111073783677,
          -0.7398450409813626,
          0.8028861657191707,
          1.453020814929453,
          -0.8079911753023602,
          2.100900481344454,
          0.8532191794021992,
          1.4597929435583463,
          0.5546946843499974,
          0.40360266482426876,
          -0.627649967545893,
          -0.21974734959521505,
          -0.36745119417167776,
          1.0615954870791622,
          1.7197038013669868,
          -0.8035358501119899,
          0.14947126679371667,
          -0.15509574303929016,
          -0.6354676120462933,
          0.2326799437723996,
          -1.0670243654014324,
          0.2257639929977805,
          0.2147371338174817,
          0.03456105260444044,
          -1.371345783857724,
          -1.1543987102747557,
          -0.8103056850328592,
          -0.5045439991813159,
          -0.5778494247045679,
          -0.0281508151804902,
          -1.6545036784871108,
          -0.4637563129944886,
          -1.9307712666927086,
          -0.12888244526444495,
          -0.5143775782130762,
          0.8761109318746885,
          1.3569600609698025,
          1.0349434949968603,
          0.3568278558678369,
          -0.5775446495362658,
          -0.126837916797755,
          2.250852524970699,
          -0.556378737876961,
          1.2904569894882199,
          -1.5906654495636794,
          -0.16968908268519695,
          -1.3895190491720004,
          0.7830525102256293,
          -0.7339801795370882,
          2.0337300716259112,
          2.5703175923615147,
          1.2687556947136818,
          -1.386733874457755,
          1.5305477921409205,
          0.2018380287422823,
          -0.2661481245459103,
          0.4834784137116493,
          0.43215573354905623,
          0.13942655734520312,
          1.1420441184177124,
          0.6758791006325379,
          0.4293109541640208,
          -0.5882359192551311,
          -0.4815094655983007,
          0.23719593826819463,
          -1.0924119112777848,
          0.3720037775282143,
          -0.42210722123425604,
          -0.2756464607156597,
          -0.625661034579217,
          1.3367194064190122
         ]
        }
       ],
       "layout": {
        "template": {
         "data": {
          "bar": [
           {
            "error_x": {
             "color": "#2a3f5f"
            },
            "error_y": {
             "color": "#2a3f5f"
            },
            "marker": {
             "line": {
              "color": "#E5ECF6",
              "width": 0.5
             },
             "pattern": {
              "fillmode": "overlay",
              "size": 10,
              "solidity": 0.2
             }
            },
            "type": "bar"
           }
          ],
          "barpolar": [
           {
            "marker": {
             "line": {
              "color": "#E5ECF6",
              "width": 0.5
             },
             "pattern": {
              "fillmode": "overlay",
              "size": 10,
              "solidity": 0.2
             }
            },
            "type": "barpolar"
           }
          ],
          "carpet": [
           {
            "aaxis": {
             "endlinecolor": "#2a3f5f",
             "gridcolor": "white",
             "linecolor": "white",
             "minorgridcolor": "white",
             "startlinecolor": "#2a3f5f"
            },
            "baxis": {
             "endlinecolor": "#2a3f5f",
             "gridcolor": "white",
             "linecolor": "white",
             "minorgridcolor": "white",
             "startlinecolor": "#2a3f5f"
            },
            "type": "carpet"
           }
          ],
          "choropleth": [
           {
            "colorbar": {
             "outlinewidth": 0,
             "ticks": ""
            },
            "type": "choropleth"
           }
          ],
          "contour": [
           {
            "colorbar": {
             "outlinewidth": 0,
             "ticks": ""
            },
            "colorscale": [
             [
              0,
              "#0d0887"
             ],
             [
              0.1111111111111111,
              "#46039f"
             ],
             [
              0.2222222222222222,
              "#7201a8"
             ],
             [
              0.3333333333333333,
              "#9c179e"
             ],
             [
              0.4444444444444444,
              "#bd3786"
             ],
             [
              0.5555555555555556,
              "#d8576b"
             ],
             [
              0.6666666666666666,
              "#ed7953"
             ],
             [
              0.7777777777777778,
              "#fb9f3a"
             ],
             [
              0.8888888888888888,
              "#fdca26"
             ],
             [
              1,
              "#f0f921"
             ]
            ],
            "type": "contour"
           }
          ],
          "contourcarpet": [
           {
            "colorbar": {
             "outlinewidth": 0,
             "ticks": ""
            },
            "type": "contourcarpet"
           }
          ],
          "heatmap": [
           {
            "colorbar": {
             "outlinewidth": 0,
             "ticks": ""
            },
            "colorscale": [
             [
              0,
              "#0d0887"
             ],
             [
              0.1111111111111111,
              "#46039f"
             ],
             [
              0.2222222222222222,
              "#7201a8"
             ],
             [
              0.3333333333333333,
              "#9c179e"
             ],
             [
              0.4444444444444444,
              "#bd3786"
             ],
             [
              0.5555555555555556,
              "#d8576b"
             ],
             [
              0.6666666666666666,
              "#ed7953"
             ],
             [
              0.7777777777777778,
              "#fb9f3a"
             ],
             [
              0.8888888888888888,
              "#fdca26"
             ],
             [
              1,
              "#f0f921"
             ]
            ],
            "type": "heatmap"
           }
          ],
          "heatmapgl": [
           {
            "colorbar": {
             "outlinewidth": 0,
             "ticks": ""
            },
            "colorscale": [
             [
              0,
              "#0d0887"
             ],
             [
              0.1111111111111111,
              "#46039f"
             ],
             [
              0.2222222222222222,
              "#7201a8"
             ],
             [
              0.3333333333333333,
              "#9c179e"
             ],
             [
              0.4444444444444444,
              "#bd3786"
             ],
             [
              0.5555555555555556,
              "#d8576b"
             ],
             [
              0.6666666666666666,
              "#ed7953"
             ],
             [
              0.7777777777777778,
              "#fb9f3a"
             ],
             [
              0.8888888888888888,
              "#fdca26"
             ],
             [
              1,
              "#f0f921"
             ]
            ],
            "type": "heatmapgl"
           }
          ],
          "histogram": [
           {
            "marker": {
             "pattern": {
              "fillmode": "overlay",
              "size": 10,
              "solidity": 0.2
             }
            },
            "type": "histogram"
           }
          ],
          "histogram2d": [
           {
            "colorbar": {
             "outlinewidth": 0,
             "ticks": ""
            },
            "colorscale": [
             [
              0,
              "#0d0887"
             ],
             [
              0.1111111111111111,
              "#46039f"
             ],
             [
              0.2222222222222222,
              "#7201a8"
             ],
             [
              0.3333333333333333,
              "#9c179e"
             ],
             [
              0.4444444444444444,
              "#bd3786"
             ],
             [
              0.5555555555555556,
              "#d8576b"
             ],
             [
              0.6666666666666666,
              "#ed7953"
             ],
             [
              0.7777777777777778,
              "#fb9f3a"
             ],
             [
              0.8888888888888888,
              "#fdca26"
             ],
             [
              1,
              "#f0f921"
             ]
            ],
            "type": "histogram2d"
           }
          ],
          "histogram2dcontour": [
           {
            "colorbar": {
             "outlinewidth": 0,
             "ticks": ""
            },
            "colorscale": [
             [
              0,
              "#0d0887"
             ],
             [
              0.1111111111111111,
              "#46039f"
             ],
             [
              0.2222222222222222,
              "#7201a8"
             ],
             [
              0.3333333333333333,
              "#9c179e"
             ],
             [
              0.4444444444444444,
              "#bd3786"
             ],
             [
              0.5555555555555556,
              "#d8576b"
             ],
             [
              0.6666666666666666,
              "#ed7953"
             ],
             [
              0.7777777777777778,
              "#fb9f3a"
             ],
             [
              0.8888888888888888,
              "#fdca26"
             ],
             [
              1,
              "#f0f921"
             ]
            ],
            "type": "histogram2dcontour"
           }
          ],
          "mesh3d": [
           {
            "colorbar": {
             "outlinewidth": 0,
             "ticks": ""
            },
            "type": "mesh3d"
           }
          ],
          "parcoords": [
           {
            "line": {
             "colorbar": {
              "outlinewidth": 0,
              "ticks": ""
             }
            },
            "type": "parcoords"
           }
          ],
          "pie": [
           {
            "automargin": true,
            "type": "pie"
           }
          ],
          "scatter": [
           {
            "marker": {
             "colorbar": {
              "outlinewidth": 0,
              "ticks": ""
             }
            },
            "type": "scatter"
           }
          ],
          "scatter3d": [
           {
            "line": {
             "colorbar": {
              "outlinewidth": 0,
              "ticks": ""
             }
            },
            "marker": {
             "colorbar": {
              "outlinewidth": 0,
              "ticks": ""
             }
            },
            "type": "scatter3d"
           }
          ],
          "scattercarpet": [
           {
            "marker": {
             "colorbar": {
              "outlinewidth": 0,
              "ticks": ""
             }
            },
            "type": "scattercarpet"
           }
          ],
          "scattergeo": [
           {
            "marker": {
             "colorbar": {
              "outlinewidth": 0,
              "ticks": ""
             }
            },
            "type": "scattergeo"
           }
          ],
          "scattergl": [
           {
            "marker": {
             "colorbar": {
              "outlinewidth": 0,
              "ticks": ""
             }
            },
            "type": "scattergl"
           }
          ],
          "scattermapbox": [
           {
            "marker": {
             "colorbar": {
              "outlinewidth": 0,
              "ticks": ""
             }
            },
            "type": "scattermapbox"
           }
          ],
          "scatterpolar": [
           {
            "marker": {
             "colorbar": {
              "outlinewidth": 0,
              "ticks": ""
             }
            },
            "type": "scatterpolar"
           }
          ],
          "scatterpolargl": [
           {
            "marker": {
             "colorbar": {
              "outlinewidth": 0,
              "ticks": ""
             }
            },
            "type": "scatterpolargl"
           }
          ],
          "scatterternary": [
           {
            "marker": {
             "colorbar": {
              "outlinewidth": 0,
              "ticks": ""
             }
            },
            "type": "scatterternary"
           }
          ],
          "surface": [
           {
            "colorbar": {
             "outlinewidth": 0,
             "ticks": ""
            },
            "colorscale": [
             [
              0,
              "#0d0887"
             ],
             [
              0.1111111111111111,
              "#46039f"
             ],
             [
              0.2222222222222222,
              "#7201a8"
             ],
             [
              0.3333333333333333,
              "#9c179e"
             ],
             [
              0.4444444444444444,
              "#bd3786"
             ],
             [
              0.5555555555555556,
              "#d8576b"
             ],
             [
              0.6666666666666666,
              "#ed7953"
             ],
             [
              0.7777777777777778,
              "#fb9f3a"
             ],
             [
              0.8888888888888888,
              "#fdca26"
             ],
             [
              1,
              "#f0f921"
             ]
            ],
            "type": "surface"
           }
          ],
          "table": [
           {
            "cells": {
             "fill": {
              "color": "#EBF0F8"
             },
             "line": {
              "color": "white"
             }
            },
            "header": {
             "fill": {
              "color": "#C8D4E3"
             },
             "line": {
              "color": "white"
             }
            },
            "type": "table"
           }
          ]
         },
         "layout": {
          "annotationdefaults": {
           "arrowcolor": "#2a3f5f",
           "arrowhead": 0,
           "arrowwidth": 1
          },
          "autotypenumbers": "strict",
          "coloraxis": {
           "colorbar": {
            "outlinewidth": 0,
            "ticks": ""
           }
          },
          "colorscale": {
           "diverging": [
            [
             0,
             "#8e0152"
            ],
            [
             0.1,
             "#c51b7d"
            ],
            [
             0.2,
             "#de77ae"
            ],
            [
             0.3,
             "#f1b6da"
            ],
            [
             0.4,
             "#fde0ef"
            ],
            [
             0.5,
             "#f7f7f7"
            ],
            [
             0.6,
             "#e6f5d0"
            ],
            [
             0.7,
             "#b8e186"
            ],
            [
             0.8,
             "#7fbc41"
            ],
            [
             0.9,
             "#4d9221"
            ],
            [
             1,
             "#276419"
            ]
           ],
           "sequential": [
            [
             0,
             "#0d0887"
            ],
            [
             0.1111111111111111,
             "#46039f"
            ],
            [
             0.2222222222222222,
             "#7201a8"
            ],
            [
             0.3333333333333333,
             "#9c179e"
            ],
            [
             0.4444444444444444,
             "#bd3786"
            ],
            [
             0.5555555555555556,
             "#d8576b"
            ],
            [
             0.6666666666666666,
             "#ed7953"
            ],
            [
             0.7777777777777778,
             "#fb9f3a"
            ],
            [
             0.8888888888888888,
             "#fdca26"
            ],
            [
             1,
             "#f0f921"
            ]
           ],
           "sequentialminus": [
            [
             0,
             "#0d0887"
            ],
            [
             0.1111111111111111,
             "#46039f"
            ],
            [
             0.2222222222222222,
             "#7201a8"
            ],
            [
             0.3333333333333333,
             "#9c179e"
            ],
            [
             0.4444444444444444,
             "#bd3786"
            ],
            [
             0.5555555555555556,
             "#d8576b"
            ],
            [
             0.6666666666666666,
             "#ed7953"
            ],
            [
             0.7777777777777778,
             "#fb9f3a"
            ],
            [
             0.8888888888888888,
             "#fdca26"
            ],
            [
             1,
             "#f0f921"
            ]
           ]
          },
          "colorway": [
           "#636efa",
           "#EF553B",
           "#00cc96",
           "#ab63fa",
           "#FFA15A",
           "#19d3f3",
           "#FF6692",
           "#B6E880",
           "#FF97FF",
           "#FECB52"
          ],
          "font": {
           "color": "#2a3f5f"
          },
          "geo": {
           "bgcolor": "white",
           "lakecolor": "white",
           "landcolor": "#E5ECF6",
           "showlakes": true,
           "showland": true,
           "subunitcolor": "white"
          },
          "hoverlabel": {
           "align": "left"
          },
          "hovermode": "closest",
          "mapbox": {
           "style": "light"
          },
          "paper_bgcolor": "white",
          "plot_bgcolor": "#E5ECF6",
          "polar": {
           "angularaxis": {
            "gridcolor": "white",
            "linecolor": "white",
            "ticks": ""
           },
           "bgcolor": "#E5ECF6",
           "radialaxis": {
            "gridcolor": "white",
            "linecolor": "white",
            "ticks": ""
           }
          },
          "scene": {
           "xaxis": {
            "backgroundcolor": "#E5ECF6",
            "gridcolor": "white",
            "gridwidth": 2,
            "linecolor": "white",
            "showbackground": true,
            "ticks": "",
            "zerolinecolor": "white"
           },
           "yaxis": {
            "backgroundcolor": "#E5ECF6",
            "gridcolor": "white",
            "gridwidth": 2,
            "linecolor": "white",
            "showbackground": true,
            "ticks": "",
            "zerolinecolor": "white"
           },
           "zaxis": {
            "backgroundcolor": "#E5ECF6",
            "gridcolor": "white",
            "gridwidth": 2,
            "linecolor": "white",
            "showbackground": true,
            "ticks": "",
            "zerolinecolor": "white"
           }
          },
          "shapedefaults": {
           "line": {
            "color": "#2a3f5f"
           }
          },
          "ternary": {
           "aaxis": {
            "gridcolor": "white",
            "linecolor": "white",
            "ticks": ""
           },
           "baxis": {
            "gridcolor": "white",
            "linecolor": "white",
            "ticks": ""
           },
           "bgcolor": "#E5ECF6",
           "caxis": {
            "gridcolor": "white",
            "linecolor": "white",
            "ticks": ""
           }
          },
          "title": {
           "x": 0.05
          },
          "xaxis": {
           "automargin": true,
           "gridcolor": "white",
           "linecolor": "white",
           "ticks": "",
           "title": {
            "standoff": 15
           },
           "zerolinecolor": "white",
           "zerolinewidth": 2
          },
          "yaxis": {
           "automargin": true,
           "gridcolor": "white",
           "linecolor": "white",
           "ticks": "",
           "title": {
            "standoff": 15
           },
           "zerolinecolor": "white",
           "zerolinewidth": 2
          }
         }
        }
       }
      },
      "text/html": [
       "<div>                            <div id=\"edd3a603-ba27-415b-a80e-7c01d7438997\" class=\"plotly-graph-div\" style=\"height:525px; width:100%;\"></div>            <script type=\"text/javascript\">                require([\"plotly\"], function(Plotly) {                    window.PLOTLYENV=window.PLOTLYENV || {};                                    if (document.getElementById(\"edd3a603-ba27-415b-a80e-7c01d7438997\")) {                    Plotly.newPlot(                        \"edd3a603-ba27-415b-a80e-7c01d7438997\",                        [{\"mode\":\"markers\",\"type\":\"scatter\",\"x\":[0.524279165206652,-0.07985816532967253,-0.7702811834025636,0.3109947183500396,0.1329471499699096,0.6731183810648531,-0.4627662716024927,-0.6936966111645001,0.04496699869379119,0.014437552939211165,0.9717693308933548,0.9132955211422221,0.541041636135895,-1.4726312041226122,0.0395243735797289,-1.349004092377462,0.9595426631607881,-1.235193730176933,-0.2330320081962257,-0.5390208494061083,0.09673304070885193,-1.9291229802734753,-0.42875328764481957,1.3082551918274228,-0.7391874748670574,-1.4329714716450597,0.2516014410193414,-0.054972912487023455,-1.5281191218731758,0.029470287383301822,-1.3243284529773407,-1.9805571331954535,-0.5361708060738617,0.1691874992538416,0.256301972860807,2.056142274713965,-0.4921656014759661,1.1277574499408363,-1.544633740582661,1.041152649084737,0.8958524390103134,-1.0680611227775894,1.1815178558288002,0.4377000714640382,-1.4955874482565361,-0.010170846516496692,0.4986095022368706,1.3113653039612911,1.5381704228893562,-3.1303704766433564,-0.6696509921367793,1.9142282755800806,-0.9573783699607894,-1.3915607174880242,-0.5555242450694515,0.9464193188319554,-0.5571547504685676,0.21202719034681372,0.36832958456779447,0.8904760685240575,0.027970767000527388,-0.6929854757382587,-0.0973411053179708,0.3945029064424939,-0.2317113953259838,1.2351260334844005,1.6664314552484307,0.8110181561914651,1.2963506084465615,-1.5785279363055307,-0.2033391819417678,0.6926151881487808,0.15817841419424766,0.44021632272788774,-0.06096886456545507,-0.223002588802603,1.4778946592995463,0.7997433058223876,2.2498010164585844,-0.4834514830122939,-1.0472378664951523,-0.22660026062658417,1.281873090528983,-0.9603459566348954,0.8480331778517343,0.5737336761865617,-0.7702003713517299,0.4823071019055024,0.053025169934567504,0.02469779139807841,0.2285400210257651,-1.1187102800611102,1.0653038853104342,-0.0678361575241379,0.3551213297923229,-0.07993592030302471,0.44636208142016687,1.2688008902659274,1.0564902018537412,0.18570003983674604,0.6750347608768029,1.181030704952519,0.870616733360332,-0.6654660088397293,1.220179429400087,-2.3926845413264863,-0.7698845785018517,-1.916735611331813,-0.11693227385838724,-1.4562891554654553,-0.22363168244062642,-1.3182829130595388,1.153618135976787,0.8341035014886045,-0.799161275117193,0.029678745389555717,-0.5873116046900988,-1.7817828218330571,-0.1604408162793275,-0.9167843927346621,1.1763454841591856,-0.06725831563725192,0.33228554944825406,1.4992806451194245,0.6021183045261588,1.3383874479930344,-1.1226558513004006,-1.392776381590839,-0.8673300658818353,0.7306765397852041,1.2581085820361266,0.2585589997733217,0.14435895190846262,2.0890652196087776,-0.794237026315184,0.36781927307803397,1.2881437821139967,0.9109577464207603,-0.8944706988311439,2.0241867237957716,-1.1899091897837175,3.4822503029819334,1.032404746883405,0.8651716349078821,-0.34355211015131737,-0.9143801633302082,0.9639365073708518,1.0466819657044053,1.6239039178388917,0.7985492034036068,-0.867052906993757,0.3245454468354169,0.030363214680248458,-0.39819753880738973,-0.026975103977996184,0.7894887225313729,-1.9570617902248997,-1.0214656431402167,1.136619372512741,0.004369756227976861,0.9285374630361812,-0.9426415812631188,0.21687799948116881,0.03153608315017259,-1.6967126590338162,-1.600289684848903,-0.27543682833917255,-0.99509934750294,-0.8730350765946652,-1.3216852894138211,1.1193615689437266,0.5533654146843232,1.9557344923298132,-0.20951811070029222,-2.4873954076611042,0.014121376975546135,1.2597126045101383,0.2651249702534922,0.0017864951621629679,-0.7612757613004635,0.3948763294482803,0.11743273447077014,-0.6232821351728234,0.5852593705652298,-0.44082095968625595,-0.6322575617395879,-1.116642792293983,0.7001610329071717,0.0040708483313105425,-0.16459687409555906,-0.15039431674232326,1.033343133028934,-1.267986063016377,-1.489761313106755,-0.6190083052873355,0.3099993433233161,-0.330332303535632,0.9512743765082038,-1.3713661565801407,0.11135087196251879,0.4425463460496744,-1.5265817056097355,2.0372139192830674,-1.0081855993631306,-0.3980696650327021,0.9270128040378204,-2.1222366651217066,0.7451660105883824,0.45439648016255446,0.5806931362420218,0.5862171562556708,1.0273847707437602,-0.7221247010635504,0.8448736940151063,-1.0264107794733168,0.08929042363738132,1.516949675319367,-0.24656013193729795,-0.11578385810769318,-0.5000350584164619,1.2322860748334261,-1.1410023964235316,-1.6268339988417948,0.08946196261941176,1.2372065498143305,-0.9668373863029281,0.9505164489054103,-2.371912906595522,-1.0629906726439278,-0.44445617681223487,-1.8442602251560996,-0.9396101682585166,-0.7047200717499965,-1.2410088098952632,-1.2513377540453432,0.34565717927845463,-0.2936026135744408,0.009538561069244606,0.41058936179586186,1.6135992236276293,0.4651607580408314,0.6880309162682003,-0.5558208063178509,-1.7027502974813316,-0.05606440779923568,-0.5493409455290839,-0.36822407012502995,0.5455945240241034,0.4253515519974053,1.3469743982389775,-1.5043601833755296,-0.14051030507786066,0.6711566309802384,-0.7449125888586539,0.21776883044412174,-0.8113455767957806,-0.20316944534521703,-1.309224344930472,0.38656544602350734,-0.06458124374996638,1.0847612931628237,0.5582828940984924,-0.002419368821179844,-0.2868947543559313,-0.23085442085678684,0.9206729841168774,-0.4915808695503914,1.6473762717517866,1.6510604851530888,0.563001499776998,-0.03560387687745309,1.5586832585487942,0.5564698797780612,-2.5683457020480733,-0.398107922154847,1.6373676533354224,0.5718470775401222,-0.07646845887438458,-0.38217531941792465,0.6599815901258115,3.082979087750218,-1.4816426355516854,-0.11770266152796167,0.4908372060474978,0.7909595071053476,1.1087263608991749,-0.8692796691501471,-0.2904179642543477,-0.038257096458901206,-1.4426947560991283,0.05344198801481527,1.7717553847501828,1.1043579269807051,1.208994542136712,0.6148797029909728,-0.5414979031875725,-1.351153821224573,2.199541873638141,-0.1323986329864661,-1.7630015519380102,0.26457373484962643,0.3454000344637114,0.7115814901364862,-1.2355912019293362,0.19918300486699683,-0.0471279304317181,0.5379788505467425,-0.26745899836766734,-0.5877580676037416,-0.04203439523802087,-0.07152408924499493,-0.6345821353754636,0.747610231865831,-1.7293002038464678,0.20161738271174642,0.8294113116684545,1.9538066007745554,-1.2697519434451834,0.17402704424595886,-0.011360482091153779,-1.8497001949865135,0.1742014347102622,-0.36149355294088303,0.40284141414904745,-0.5312531832694459,1.1199140240540224,-0.8228870735038851,-0.2469672416336154,0.5395565896892993,-1.0875273922554338,-0.13160342805207953,-2.401746627143261,-1.4782203769396103,-0.5095178331491007,-0.02789236731984932,1.5414844696108718,-0.9548003198489086,2.609995876407474,2.519084605944932,0.705996552463448,2.1038836485300183,-0.3594479354119286,0.5618398685847472,-0.35057002823125305,-2.339373498856309,0.7014307197218338,0.10315449527708623,0.6542849062465281,0.5682893303931723,-0.6198408910378366,1.497777437942417,0.4647047253800762,-0.17210466055535364,-0.12897420022977632,2.520789880747531,-1.6339364791094935,0.011488419507332289,-0.69602132974309,0.16338433059592633,-1.087820271372365,-1.8098241289576957,-0.22037381596406977,2.0772274534980353,-1.478467912357673,-0.7412679826849583,0.7107021424620908,0.012436716459317989,-0.840476677842021,0.3079697583089648,1.2763942183575736,-0.32809427602398117,0.12327221424650114,0.43172283805423406,-0.5336430198613217,0.07270302057287607,-2.1180096911583464,-0.5753623688571393,1.813904165688201,-1.360205064863232,1.318062681726422,0.27924646195671227,-0.5635683086546214,-2.033475539358784,0.10541110797687528,-0.47748865752883235,1.3313568540933618,-0.11446205267361269,-0.7681549022470603,-0.953359762485962,-0.5568336395445762,-0.7472167552240319,0.4493575844715936,-0.48888802130446807,1.753154149105714,0.4099633693458642,-0.6860330950755349,0.5363907374125241,0.19779775439024921,1.0480025835212434,-0.7356316184436719,0.6143208850607346,-0.7488843714669781,-1.0168908296117827,-0.6872248349275185,-1.3891828529008958,1.882916186136137,-0.3709348919278312,0.6029518633416395,0.8519497394579859,-0.2199728786588299,0.14609017381129408,-0.4336158666377093,0.27247561931224057,0.40123240352244954,0.8239196527323889,0.8790802515926943,0.9896408396373858,-1.9884727824517276,-0.8926319372432088,-2.318769840115488,-1.2408631156968501,0.2699856654588601,0.09021662995235279,-0.8473511993583429,1.1389075728887905,-2.742814039589909,-0.03524790272446847,1.061927879664911,-1.1776230046039335,2.0462388652388177,0.2865725502715638,-0.7680968341854716,1.2073864144513784,0.6945307117672417,0.8957465948164933,0.6842880392115331,1.7768479593372346,0.25768250212371663,1.1745212567390981,-0.04410930450254311,-1.0005652300863848,-1.3939324601706564,0.07475630048615924,0.3005081317550637,-1.762956350269603,1.116427459561468,0.5393973905799111,-0.2843646847059211,1.00049851773051,-1.191114019685085,-0.44079981331616447,-1.0313254132600982,-0.9819036060664651,0.5427052540449604,-0.6752441377921524,-1.1043366792462948,-0.5733124487421026,-0.6030455471927725,-0.9299717607090772,0.8737862051826378,-1.3373645412838486,-0.7773211605092746,-0.023275440299137733,0.8739517300659041,-1.817025038494217,0.6279781715794347,-1.909220130495893,0.4947885224697661,0.21809062247170788,0.5987615000028438,-1.0514475099120988,-0.5841302785255748,1.019739753703201,1.0218260344754804,1.260065143656083,2.4574233764552873,-0.22502859316115614,-0.3910427347351214,-0.27980666916736857,-0.7296574608224919,0.31682699866553204,-0.6266999921034423,0.4347816828654756,0.5278659681841351,0.12176910617535885,1.5845744055498303,1.0959550537726275,0.4215948816929064,0.2818282507733036,-1.6765434270084627,-0.2597238678459175,-0.10154276642890012,1.2218993709895434,-0.6240182588457531,-0.895223178452758,0.9379911148127197,0.34727539925288414,-0.049559358987851396,0.8624687244827797,1.3654623981138028,-1.2298914132798988,1.172503166658906,0.7329192409838393,1.0488653968978698,0.23179254303011418,0.7087213115834787,-1.696198072254265,0.7533304930674093,0.6592360566461498,-0.4960149507517613,-0.6696294255799531,0.4985725131403875,-1.074287186522655,-0.16446590776564787,-0.06441282318757721,-0.2092535518521832,-0.7557433467030122,-2.3829797460762125,1.1202679788481076,0.7708187419049287,-0.5703686191082538,-1.3809739988237046,1.4186803322419332,-0.24966861148466188,-0.5696207078902112,-0.709037009968018,-0.36481611416162363,1.8869112369590757,0.7315606442625916,-2.111071495126962,-0.4733333115535418,0.9370295268766166,0.7415350612470949,0.8203884526439666,0.8513283439951944,-0.5370038914835936,-0.8682723017552144,0.5465819902526098,-2.303685802347817,-0.39578497009674096,-1.6316286090473557,0.6265119543956275,0.661924113450136,-0.579892797309144,-0.6052473947335155,-1.4777617324855115,-0.6742013407141532,0.031081284390928738,-0.03421878411690463,-1.8195189258067423,0.09636273118362114,-1.4585607215231233,-0.45649157929440504,1.5306157086783634,1.1923948153643733,0.892608084515877,0.9398233795452823,0.345450003365598,0.0983232226081871,1.8555948173063423,-0.3228832333212543,0.6671707836417731,-1.6074079516225044,0.07369570277996855,2.075908003867017,0.6416153051432791,0.6551204394100736,1.7397744500065198,-1.2166623389406104,-0.3957338507954698,-0.42673786317574275,-0.6806784062019017,-0.1734938817930426,-0.21807831468807104,-1.400697593466904,-0.20226624602970567,0.3375318796575721,-2.313462403186213,-1.0660627678017112,1.2200718227553167,0.2794142060997403,0.1643128365829479,-0.8394033623825007,-2.2809725249995574,-0.5569309797028777,-1.3701719022156003,0.21473959817699975,-1.5650463305934679,0.5814828835856541,-1.4421701519441963,0.15133269823607565,-0.07329737601645502,0.9701200927191679,-0.6420285926071216,-1.8591506052077662,0.6808232322378104,1.7125320666089419,-0.808679386652059,0.15353653660635366,2.243943565186375,-0.2714117665519281,-0.324723795045721,-0.3274306338424328,0.1533616492746143,-1.3090893879757775,2.2332760759635546,-0.3732048860200866,-0.12122625618320941,-0.312832907750243,-1.039486836809328,1.3435219981554585,-0.3876154885309238,-0.34873546291387275,-0.36394397719805827,0.39957790946135874,0.8488617259026469,1.8391513400265165,0.6050739528914423,-0.4376998536004381,-0.2677765962955339,-0.48027389565528794,0.30229739959389823,1.4854146612611767,1.049645775521772,0.24393803676707398,0.004906473232311436,1.4766304557067602,-1.0008139611695799,-0.10260104218616979,-0.5689100275368661,0.2822363926455185,-0.4286371067268467,-0.14485844485871016,-1.18232931381817,-0.2581308374325831,-0.1576155935404377,0.4032967204189816,0.9194391641085818,-0.30129871266153085,0.14233119198284472,-0.29844402739545906,1.9661190229762213,-0.3026832785882891,-1.1839778630210622,-0.6669080165384358,0.17645827204218734,2.4924539188879247,0.20835708569072522,-0.866139170932855,-0.20027396281729679,-0.9522039308063014,-1.0259971644085126,-0.8333078783764496,-0.23817601188466372,0.3623263974801491,1.6396695267129249,-0.6545104653005694,0.8404338159136602,-0.7798124400308044,0.5413265342059176,-0.8128379674302062,0.11263936066689215,0.7097464875808709,-0.22023395170917803,0.6973658502829261,1.0717016564642796,1.3329202706504943,-0.20363284032147033,-0.8688433651570153,-1.5364582479388014,-2.3692375165902297,1.1096040981569986,-0.25185440748062776,-0.8838692992567635,-0.004223515524269453,0.007108226290426238,0.4700468587336834,0.9200309457072013,-1.2713989985170104,1.2335269249582301,1.1245753879372942,1.893381674090169,-0.6956624821305457,-0.02416078629661423,-0.1111531173631211,0.24329793565187757,-0.2881769486431328,-0.7764429092480912,-1.147239076763951,-2.269725256954482,-0.6013171289138405,-0.8214567489786214,-1.443437250635692,-0.7702951760591322,-0.3938302037932007,-0.2083395528812676,-0.749158232802084,-1.306175961707151,-1.8697785971034346,0.34354273984331307,1.5180699033197078,-0.9757277247329642,0.2040346281498806,-0.6520137500562565,0.32620551810865583,0.4300379326947645,-1.0705268716258192,-1.0705064521490515,-0.09603288941905064,0.8941031627313336,1.0185967923538164,0.9714749902831388,-2.3533523494096427,-0.6055324993417673,1.6764931684116948,1.3850466486950526,1.2879337753860753,-0.28909173402445265,0.07220263471732437,0.3465213987009511,-1.8690314412896374,-0.8249178011323527,1.10225887880012,-0.34938356948546584,-1.1208115188155223,-2.637388039548778,-0.8186686513926731,-0.5360080778082832,-0.5448066352354142,1.1813310518196436,-0.14315359089892346,-1.0678644583186852,1.4995205816950479,0.11968121755747203,-0.5174217738592988,-1.1152549076540375,0.27654153397288156,1.3265409908645727,1.3503537192081636,-0.5022635772031171,-0.42059855238772226,-0.24325946625005557,-0.44076526868481625,0.2288567835997887,-0.4082808766152,2.1209649706032367,0.9777972028063334,1.0723538647427413,0.5344771591569617,-0.6120756906411733,-0.7652058239749264,-0.30376096525484986,0.039431362859882156,1.0837466885705749,-0.48300358272326943,2.365324061447268,0.12802159939752628,0.6228316566065231,0.36804572792717577,-0.8214776954548428,0.7305286797989677,-0.7759658203058823,0.8925990899939079,0.08216391134773302,-0.7008601952471506,0.6849830389764986,-0.9899398123800438,-0.9531068327096045,-0.0298634668738399,0.0882911229962137,-0.7675231093517564,-0.9554866530511589,0.6533712477463847,0.26105576776131306,-0.9354715778327181,0.7810302995975813,-0.7779633068029372,-1.1354511052522092,1.420596371687845,0.36815332090662195,-0.7851566607616254,0.2588390402963686,-1.5311791436376916,2.234757288440803,-0.6342294498355383,-1.093268036468013,1.0471619402790724,-0.7116752904943311,-1.419115046919685,-0.2872776887921139,0.8604258082809554,1.8613305570768828,-1.8424900052000706,-1.405576522437862,-1.870058621893325,-0.3742319535700587,0.832105964690954,-1.769335129857958,-0.2119667902510071,-1.2084261030260122,1.0833903591357865,0.9261368255009608,-0.2609739711101597,-1.2743911844904081,0.42231330956119867,0.08877636007415439,-1.681093650215682,1.245335050456231,-0.008990602081805842,0.5021682242853104,0.2548342709066709,-1.8637087097912348,-0.2898333705959898,2.3417406967989107,0.3335959992640241,0.5348323617421702,0.7337207648086832,0.9122865520701786,0.6043110291067988,-0.4169481534591784,-0.15360510577614184,-0.2110476484996785,0.4023104364756032,0.6663631481312073,1.1677221770580264,0.18171854541798296,0.28990675501138735,0.5015125675206641,-1.0517209166679344,-0.306281136515185,0.9360151076586213,-1.6513103863175789,-0.6446883401298882,-0.25158601427172805,0.8620314862979767,0.33239209072763354,-1.4508541726350694,0.12756125305812338,-0.054205171685582504,2.006268260610305,1.9776120360308305,-1.075256454322612,-0.4401300248922689,-0.6735568534526907,0.5745942630115337,1.6633034208770472,1.3631613453413722,1.7948183524086596,0.9100796281507136,-0.9784725218957985,1.076030528498722,0.32047362302799626,-1.102398646924833,1.3093847592104044,0.19753505176226616,-0.33081166047935,-0.5964999735673735,0.03449837303557501,-0.040920809167361336,0.770081732070417,0.576775018683036,-0.377818516445405,-1.048332935647767,2.553554333605787,1.0210454375658526,0.276369464595779,0.18580542905615186,-0.39451553989724225,0.02836819940384733,-0.09494102426515114,0.4939749896776757,1.0372407552708656,-1.2196757537271317,-1.4063114305783353,-0.7329742926485281,-1.3383296785506336,0.9375472978606176,0.48376696114515216,-0.32783931970275887,-0.016521778426303306,-1.051683735455335,0.9684685756381788,-0.9529802404834076,-0.26602162407403335,0.8066482095854901,-0.21882245077185727,-1.2134657165988272,1.6600771029981798,1.222468604858958,-1.2744437820306123,-0.041102400654867935,0.17685571486471388,-0.23421693811125824,-0.8203424579919525,-2.1145178815585264,0.7161311977930426,-0.0806873159820048,0.8112321973346416,-0.7701208169834767,-0.5962850566126713,0.23603746191760416,0.26428234137082984,1.0964294211502055,0.4653659511087925,0.40229014474949265,-1.6923442265621236,-1.4148280856489237,-0.4947328988580281,-0.6019082948361792,-0.21277661471839018,1.0314224487974946,-0.8958248986795301,-0.4091487923272909,-0.7749293097236639,-0.16652302340984615,-0.9984403184283522,2.0076473426437693,1.4282999540526833,-0.14154805980118823,-0.794570582460068,-1.1757557363670406,-1.7518123539311155,-0.9327332561964086,-0.6132649205978333,0.24890921470198482,0.13732458801331823,0.6991701028699618,-0.4594021138735888,-1.4040857738993175,0.3673942639324614,-0.4344243459640429,0.3066752164752017,-0.5129582595359945,-1.5912646498187544,-0.594978262257164,-0.1358700672924681,0.9537610605864072,-1.0392275076253075,-0.250428264573772,0.13330684622381586,1.825756821044909,0.24620354237433992,-0.3886702900786829,-1.1531590515044348,1.1033560653165357,0.477022898523924,0.8664091858310764,1.0437520032201582,0.09296799801390257,-1.34190544347761,-1.349345303767531,-0.4313347461414088,-0.4759926388369459,-1.5931890621178206,-0.24806691999513067,2.1577145756973235,0.637591175603612,1.1548157117085953,-0.9192342138966422,-0.1888695375464071,-0.16456937411953662,-1.0501769571599358,-0.9389729789244499,-1.9180725264111398,1.8686905667454945,-0.07942335795273209,-0.09555547801368794,-1.2127472349519623,-0.9465693435148393,-0.8618035367170984,1.0307717135254495,-0.8389563631124699,0.031018587832656312,-0.4691682130148968,-1.600448854003994,-0.18617996927556685,0.7841529640333373,-0.4164753009684141,0.791537509680193,0.014334979485851674,0.38732592121830983,-0.8568529951646944,-0.4572970459514802,0.9225351968176867,-0.6740033158027757,0.924503572040836,0.6454789462857355,-0.9707406718735478,-0.46577480473281746,-0.0922999609202836,-0.3269476781343593,0.7329393977259998,-1.4370569303603455,-0.062493113004591705,1.7808128936657108,0.41290271703103304,0.7856104539889265,0.3329975426622143,0.6768166695745832,0.4721262603145792],\"y\":[-0.16413706239320383,1.3894273846849918,-2.3721644129546364,0.16017804680125275,2.057285341204339,-0.5105417687522896,-0.9172741408741,-1.0379918261556826,-1.8811665879567905,0.02814603106131857,-0.713237722534518,0.2366743887218963,-0.906525901960684,2.3826773489696187,-0.9231498111836653,-0.5086283144388601,-0.25604388679291695,0.5285411312644105,-1.030023318972884,-0.007367523337009445,1.304549596162329,-0.02651610799808754,-2.308598190161707,-1.2401461504181843,0.5957361608786675,-0.40072895751343707,0.019765262797033344,-0.3058250867757044,1.0458845789865898,0.09714941444874071,0.17905827057111226,-0.8287318270381614,-0.08811577362161033,-1.1104641121478485,0.6909635160933032,-0.3568903097444967,-1.7593391250079904,0.3439538066534072,-0.74177094699911,0.9072124031800579,-0.12106656298532578,-1.1217458513259821,1.0354545250875071,0.464970405094879,-1.8174463186834995,-0.9904137024628152,1.2489798131420176,0.685165475908824,-1.1959420189067433,0.28850629778446285,-1.4878898718038274,-0.24816411606078298,1.4418161659141284,0.20684808515594494,1.6760154460433767,0.23093011829266677,-0.22719582894789528,-1.799334485514421,0.3523513480294435,0.16812818588135242,0.3536137223775956,-1.1841507557160302,-0.653108423608425,-0.7044714893819776,0.18055767832569913,-0.23655382486702906,-2.4901352337931226,-0.27164293272641005,1.8313643436070473,0.07137486469684609,-1.470457942382873,-1.0361293792469375,0.5144284029713468,0.23982067356852688,0.8642522513461253,0.28357087902126643,-1.4578715231372652,-2.0658546965226745,-0.5114770655245655,0.008856317042920166,-0.5147780279136862,-0.7542526543060258,0.5325359823002971,-2.230798289784278,0.09566508868834492,-1.4936815425525323,1.070453109065961,-1.11928694319637,0.7926258434071918,1.7014678882882526,0.9123354845216379,1.1631870379455462,1.3340045666905485,-1.0964327431811036,-1.2505734472166692,0.2413975796048888,-0.3628526098682875,-0.48064544108685564,0.3748024154733557,-0.0025406886094900254,-0.06749522380571345,0.8269835796325409,-1.2069601311492675,-0.8494699300926302,-0.010177086153052321,-1.1243427780582484,0.903303450922669,1.279577499294575,1.561266156906085,-0.3108673919516816,1.174338678176378,-0.5986412317921589,0.30318970473237744,0.23102807405348671,1.7605031640483493,0.8905863223493484,1.0446102645247137,-0.7561596139685144,0.47775938021772985,-0.7073565158170179,2.573712525294652,0.644953704683011,1.878858274061104,3.4027901486961913,1.1901299212788088,0.10183292654322304,-0.7307844047121852,1.0295891278435496,1.3702455019479116,-2.843008361317168,0.2402461861426717,0.3017273525845065,-0.9776186963923996,0.596166648373314,1.6013996847379735,1.2680971389682492,1.4380657462092352,0.6191326082854295,-0.9859949364938331,-0.6502129383456343,-1.2690485447595847,-0.1965588270360896,0.6577139410848806,1.5227669776422876,-0.12024007228633844,-0.8393261872573046,-2.2012289138665557,1.600287407624034,2.0566162886375206,-0.6983007488980776,1.2915906785391253,-0.8557540274547522,1.987065931272365,-0.27595801597246844,0.7567425558185382,-0.5340012729046243,-1.2415344080277804,-0.009015193857068582,0.581572178021735,-1.1347912188867406,-0.056606730643967464,-0.6652489806492495,-0.41849820377497715,-0.9838952652740963,-0.12806466909451958,0.9522376242249694,-0.13357726112433274,-0.22418070962910627,0.20350363903075144,-0.71760282655815,0.128791275060658,1.0317905744067524,-0.9535250892347932,-0.8080070181274435,1.3549925990533624,-1.6733300802059414,0.6130741590908964,1.6849748010731092,-0.4947274594053285,-0.2818794097657671,0.21569966904003324,-0.6301183591758636,-1.2543445622436937,-0.34387550551740215,-0.18296562573424988,1.2637119852861705,0.7764806782054431,0.8956426963003175,0.1874202609063845,-1.7518644559193453,-1.4987310371490505,-0.020671520037808568,-0.008562584381255874,-0.8549386851953806,-0.29791076616308043,0.5111587724087522,-0.5629310906464168,-0.33593196507674467,-0.874217519443719,0.008711343216855275,-0.7165012389223343,0.12762993752932417,0.04741898573111915,-0.11980129490743908,-1.0972772752797775,-0.0990153140858812,0.4155017963401002,-0.7322898678102223,1.5448104113370553,0.5330217950950425,-1.7103480637096784,-0.8848280017466027,0.12496259741472966,-1.0643521163630987,1.3775880152998843,-0.24820100614783838,-0.19102535819502206,-1.545324693238494,-1.458058648549077,0.7261504825104294,-0.5931184563929442,-0.31676724934046024,0.6280198524753171,1.8705070480249906,0.03784722614801454,-0.7016594568230307,-0.5072434778012773,0.04105312105167965,-0.8153090861546769,-0.5600588816375588,-0.1808106935361097,0.014117877791055148,-0.13924277807714433,-0.6659562283120625,-0.29555318439676487,-0.9410896131554247,0.6595280868778666,-0.3351978248066292,-0.45445362812566986,-1.2136110042993784,1.0467159984556398,-1.0536075805630025,0.23068638468450586,-0.21901904675847525,0.5354614723060669,0.6417908433634838,0.17404292995952286,0.4660850884764713,-1.658437080059177,-1.2365640944675127,1.4155803628420378,1.5214450178772774,-0.6597573194328232,-0.8075952640873701,1.5859089145165257,-2.111225448516837,0.8365382107136488,-0.8181212335878423,-1.3728508372423285,1.5180531718443335,-0.3672609014853612,0.7428400095034884,-0.9313029173602321,-0.3214435295164817,0.6491594386215838,1.7293821055187957,0.6434986506844534,-0.8820772368297978,-0.6947687431944723,0.07913944355432942,0.38505772635361735,1.1463712043176326,-1.3091879883318378,-1.510945679860293,1.5728509223400637,-1.8945755358895515,0.458025503728392,-0.08941543806958735,-1.056729934859198,-0.4268591674043946,-0.16261768757067196,0.4727588363451192,0.571842650137279,-2.581551623253,-0.5437139412113557,1.4138778212703715,-0.8740735279176695,1.0666950329993776,1.5004491680688847,0.9919022806994577,0.2862302727370972,-0.37478950451237036,0.704397454222556,0.4205481859462993,-1.360319897713331,-3.0184553458582872,-0.17122405279202307,0.7866781880646547,-0.7296594583397839,0.636483945503813,-0.32173996271015304,-0.825772926218414,-0.5978131678146311,-0.30780662541395176,0.0015939013047639454,0.007788913768474034,1.5027648566497487,0.031112779675852482,0.4468135885179933,0.5975432244580601,-1.272806753856421,0.34688110841029346,-1.1242195543066569,1.1140069838813673,0.316361078438306,-1.953276735585763,-0.5957847659911277,-0.9545004477860168,0.5190203071320885,0.7451757031770258,-1.0969955386579735,-0.6062577350068732,0.9465342489396491,-0.7132109798089795,0.33465694229317816,-0.30331521706056136,0.11412591315492679,-0.16943040976579765,0.9038206940086709,0.8008156075808445,0.1941269090577534,-0.011939980680073722,0.8540750456329806,0.5164703965168793,0.40928972585257245,-0.5833766001992134,1.3148172912102167,-0.5559057420060362,-1.1834253198063949,0.795848481448595,1.7388711232280731,-0.14552045770822816,0.2529807526524677,0.8197427721456282,-1.3107196257894904,0.2124927722661521,-0.47428978579006736,1.0763178735986576,-1.6268545901696863,1.333642071299531,-0.020311338312907358,-1.189413731401291,-0.20494672442942913,0.7900698606020006,1.0058142727657573,0.29626803534378904,0.5619607116645119,-1.0778166602578678,-0.46602752146281,0.8347032280027133,0.14455444994540462,-1.1599394013189976,1.7791802263871077,-0.4213628059902879,-0.6043797782499671,2.064570920802806,0.3056839642242427,-1.7471439886900801,1.2731705698216012,1.7412444082450231,-0.5312443673261934,0.18692630705948066,0.9510739641577678,0.8901040592725173,-0.5235322478551802,-0.17910801540306465,0.3421742458274999,-0.6331024560992643,0.08597804293098492,-1.0401701613390375,0.3729940881358886,-0.42810979023799955,0.472067865839314,2.6814441339803996,-0.3240867554100638,1.0957606242773454,1.1280435443962022,0.647011968919892,-0.4208628835180482,0.4779071249723139,-1.2086339841336387,-0.1405135570323779,-0.1395147637097102,-0.40080858832160315,1.5085536535321826,0.7701409158528905,0.27395661658143733,1.9769620701313941,0.3882532583336288,0.4908745693119886,-0.6713515683301063,-1.402838180738247,0.44003896552773714,1.4367748928221014,-0.383831797207474,0.1733275196778778,-0.9539752477781009,-0.08655260987762742,0.7162556614299231,0.41650560235576345,2.0338346251320756,-1.1932294544076119,-1.070412044627587,0.48640998507510985,-0.5719418762823297,-1.5112810032091026,-0.8516428649334822,0.32285746874465376,-2.388552850235006,-0.6881490865597563,1.2845956337986444,1.461677417109546,0.15256216915566237,-2.1810028306220532,-0.35764389952240905,1.2348461386011527,0.12956129139428266,-0.05352852875773513,-2.2347133114014923,1.416212274206527,-0.7264537508875764,0.5745919318739676,0.5084004637695385,-1.8089628184948126,0.7603390014257511,-0.3579740050060815,-0.016464922982768016,2.173785995265835,-1.8665721027688935,0.026467875850963368,-0.8083458313738706,-1.213364949646252,-0.9287413091179805,-0.07138833846532476,-0.3915361505222056,-2.135745742938483,-0.14064012064306158,-1.2919165937020871,0.042834643008546634,-1.4761143389751537,1.8652417188061938,-0.5320549695675533,0.4457313927119541,-0.11487946824463482,-0.8743396430976461,1.6324214246250048,-0.9126001633817387,-0.38379396874591326,-0.562688469653645,2.359985400932606,0.6523946245213663,-0.9241619899207127,0.523774138557881,-0.8666325137929454,-1.6596892683313345,0.259175128956702,-0.4259230067648845,-0.17480567750149573,-2.0573490671979253,2.1139658902027074,0.5102070370348681,-1.4406615672151188,-1.3407535918383844,-0.11908758704201375,0.5832722700537535,-0.7787295054505784,-0.3110071008328977,-0.7024033425539249,-0.6156342657016293,-0.15558210548658294,0.29714945278270566,-0.1517136847957264,-0.0775957101110145,0.27231204586357866,-0.052957095358422836,-0.7774017348146096,0.15455590873829428,1.0325330746456123,-0.18436927858761243,-0.5308735859637911,1.0983733988977058,0.7418927726074577,0.36416292695444563,-0.6021728731686488,1.1488741234365447,0.25189004086641814,1.7766635806146531,-0.38791802104230033,-0.3725989696023741,0.3520609054947041,-0.6799662514226743,-0.34801626860362805,-0.8397090554715226,0.7972434107482187,1.3089974231843717,-0.4346365966005053,1.2574607671907436,-0.13832900783004085,-0.04351658339977578,-0.9165461851709453,0.9616111208748906,-0.42230394607059984,-0.19847178531922172,0.3202786831245216,-0.7138182552557106,-0.23152827816644875,-2.4952818301612356,0.6032745043040061,-1.8632782717830334,0.7207938335226154,0.5303306276710329,-0.2987565390835923,1.2510701635555248,-0.9253916582603718,-1.3452292755340418,1.3939451518413153,-0.556663530044965,1.1333417670655355,1.0643036035258546,0.4264623774055474,1.2566646170873976,-1.081427251207316,0.1939977649780713,0.9726987297867169,-0.4601042550064584,-0.27551698583337764,-1.4059103229061012,0.592438944602958,0.4076751885237225,2.1710852890336505,0.5234803702009274,0.9808848568984176,0.6484411350041023,0.2382066229613783,-1.0000817143386325,-0.2581600469097025,0.22682558448424078,-0.6037465903357763,0.25255502190279044,0.9164263422897228,-0.008551023336418568,-0.07228701511832772,-0.6586284860987544,-0.575384414328245,0.373788602982648,-1.4866164005090836,-1.4225800283450514,-0.18977864954329274,-0.5018631222949185,1.4977174954599168,-0.8688225832326756,1.458952909454835,-0.4528879355372398,-0.4817068253418775,-1.4207013179509338,-0.07346104944360389,-0.19363085937512894,0.11971927142867309,1.264008360368488,0.4380444612810164,-0.9099851473039517,0.5308348770717917,0.1693401731162429,-0.7551334467668098,-0.18598112361378058,-0.02636404818489057,0.1679990868525862,-0.5205276255299791,0.966644184064963,-1.2853207894107324,0.8568779502703475,0.1986083390743531,0.6887771065346359,0.2442466371102431,0.06800160184117642,0.29312443315589093,1.0954823869217272,1.0852091473157446,-1.3786084006707484,-0.5746563216932742,-0.8497150751129937,-0.8045200932846525,-0.14063461780992895,0.1271085631796774,-0.04592375128064867,2.123753694399299,0.9597708893241242,0.11833386418926856,-0.24571780067301693,1.5013930069043249,-1.652128477015403,-0.4499094387767422,-0.8302079605313617,0.5590676957716199,0.18732232131362647,1.4691466875457349,-0.0010892855838320074,-1.1789520740546404,-0.5835833202074355,-1.8516818251421168,0.151762957920222,-0.34548120138287625,-0.7280886160114508,-0.398655914348599,-2.1704568348228057,-0.2255307791695523,1.4285494491779014,0.7647750514069845,2.4613435879458696,-0.7722119878337387,-0.5364365406501754,-1.593285866678371,0.27158201178527513,0.6302573479585301,-1.8521942134197957,0.36605223081846006,0.3268379636273632,-0.743769132911157,0.15631484400890286,2.1529522800134924,-1.241428446962447,0.18205256430641337,1.2417467679984358,1.8236154245683047,-1.067289218569763,-0.35813367188972073,-0.18341256395839842,-0.0778924273093163,0.3971122934474403,1.7739037007670264,0.8073573806992105,1.5736099749952386,1.0785418212469267,-0.6918723047022003,0.0061443957939744265,0.28565973613150064,0.048482191377027584,0.3624319642902897,0.41134093045696735,-1.663627488610362,-0.08611805193817247,0.5228465425050439,0.38725234092410493,-1.5359437056060274,0.014898328135500296,0.7268094071751156,-1.6580317808208063,-0.3220642050238346,0.5716067127309601,-0.7863292480420555,0.3455886659679395,-0.23020005862099038,-0.8273939771146348,-1.3295516655196804,-0.46465051511800853,-0.19638756619676273,-0.7817084707730507,-2.0405452397301245,-0.5619911524191744,-1.1446763236617397,0.17663332735730203,-0.06418696432651373,0.06842499672883731,1.1971593649537717,-0.21680935350547953,-0.7778393745774077,0.9482529581604783,-0.1734384233805533,1.1379268649729604,-1.096338351090527,-0.1340373484268677,1.7060412267724963,1.1520780699973163,-1.2470033471611315,-1.1041521548712805,1.0845214890302388,-0.9612557987959582,0.5490557801457913,0.729571593341005,3.0708979480229974,-1.568072397635611,0.9131607764188068,1.6404841108536425,-0.12482677857916856,-0.3009722577491467,0.5020320243655544,0.4574673532670615,-0.438820281407391,1.1156871775107708,-0.04603287279205457,3.1353763320467154,-0.7101077351318215,-1.1048770591604073,-0.1219869300319117,-0.9862507324554076,0.8231968277501512,0.09344371932780321,-1.5227814670253632,0.08483043153095206,-0.1410667474024611,0.8926131755867066,-0.8781744995085642,-0.8844686016360994,0.10678368477107257,-0.09235026506571481,-0.03814764798834601,0.5688455032611393,-0.919144692358058,-1.2815864887177508,-0.03029952582530436,-0.6218937141954882,-1.856658060771783,-0.5348687248687756,1.9408018034595258,0.5746997613903088,-0.11927894730818743,-0.9029716033595215,-0.8396212339239388,-1.1050283982136937,-1.8926769839877633,-1.0064099524058043,0.6624075511193913,0.1348625068149416,1.722695378817208,0.6692242204908679,-0.7646615631177412,-0.7738740408099012,1.4085489990009248,-0.6008575868083809,0.42990997540514975,0.2581212964021412,1.7020663852647981,0.911551933824636,1.0931906031564984,-0.34877127244219613,-2.0843781326190056,0.7318763143325612,-1.7396557684542557,0.013773153784952362,-0.5542505035268358,1.1996263865225976,0.639055883199306,-0.221513071664769,-0.9698863204896586,-0.8564654129222883,-0.736005771047047,-1.1707028929568941,0.08118864204817385,-0.36384250722246175,-0.4910552645237005,-0.6551231893882354,0.5245113257689515,-0.4550847881026167,0.7462278287963335,-1.68488146281186,-0.6897453520592994,-0.07524781245178083,-0.7497308840407186,-1.2505169851473321,1.3592801077596637,1.9377336758040022,-0.8700765653024979,0.2711518735146606,1.9556819842854138,-1.2640099075996105,0.888314072032237,0.40902627573226824,-0.07999521993246865,0.6321727691842662,0.37774244091033893,-0.26914297462284476,-0.4124524646455952,0.692115499821588,3.818153522831028,-0.36920390391700525,-0.23473120274140935,0.8392120178759256,0.4139262030555922,1.746548366245302,0.676068538363276,-0.9357357006925051,0.14378690186637555,0.7307365515632159,1.9636046644943361,-0.5735819378236027,0.15749277213318932,-0.03592122839235335,0.17157666780795167,-2.364735625485913,0.9477947131537116,-1.4229714648159801,-0.7305611138858102,0.20702530358399718,0.6104302569973834,0.9469992154735802,-0.1004238956712853,-0.4988360790424325,-0.14996915908914424,-1.3175270539531598,-0.4076871797706349,-0.9232320080828501,-0.4449526807899866,0.7533883110251366,-0.5960333981556757,0.006760417356058594,0.11960428856251466,-0.03877153499201961,0.7671637555703017,-1.6042790391102593,-0.8728545904950682,-1.6380729345213538,-0.15132205788978376,-0.687855496407854,-0.7487683705710458,1.419736250957134,-0.30636760910239336,-0.7570412262155788,1.0210426054934152,0.30388991492079037,-0.0015513137786436787,0.6674382996635859,-1.416698223369451,0.8118323225195987,-0.3932822042170216,0.6966992375520028,0.1207416716040454,0.37654008808365036,0.6460193312292665,0.3497539506869869,-1.5554260156928632,0.7112383451564458,-0.10513211593674524,-1.45160197363825,0.2449620097693601,0.705047640192878,-0.22394367522228767,0.2579073777877819,0.022966531059789023,0.8962959443310887,0.24969752319264196,0.5544781795425422,0.5813834595419695,-0.0995039708440488,-1.4568603398833115,-1.2271375334542935,-0.6783682201584718,1.453822880394009,1.0579170180051314,-0.636399236323148,-0.12729952554791563,-0.8918149295342862,0.7152238317491995,-0.520739122030893,-1.7871782250002415,0.4711596263986088,-0.4450282872187494,0.6051903945879075,2.0622262962487286,0.5382196806498782,-0.2674041210789724,1.9299739157552425,1.0538561365321228,0.6263849161541798,-0.4143441225424904,0.13023747679158307,-1.3813959323810503,-0.6457718438173653,-0.01340200600521392,-1.5982563251677853,0.7494608302444508,0.24834319764552365,-0.35673770871296995,-0.6796183330669724,0.8782686066437575,-0.33898293322248474,0.8754283296245895,-1.2402731655287489,0.7417126321534719,-1.0119052179726293,-0.6463058769157931,-1.94717624286024,1.1043659846278717,0.5478764898101802,2.220296205701288,-0.33957488207689507,0.15423340353664863,0.7331729596089643,0.31487686087034084,-1.4729627220164434,1.0241921349939829,0.17070559980714167,0.8318187389245271,-0.8931268091556526,0.6581351214992848,-0.29060168462924313,-0.7451080298457019,-1.6309736800240002,-0.39755717073008573,0.2293304104164975,0.3639050699572715,-0.01543428168892488,0.1259407343596498,-1.0068071054967715,-1.3646393090647977,-0.25323764450365055,-0.17516552988681403,-1.5384952268281389,2.3263606335694917,-0.4908911541479607,-1.2298984314301276,-1.2398620810203338,0.9207508386244382,0.7984745182597733,-0.0038228476256520383,1.128281499649742,-2.860598834578153,-0.42896355258353125,-0.4925367856714615,-0.4859216395207879,-0.6374111073783677,-0.7398450409813626,0.8028861657191707,1.453020814929453,-0.8079911753023602,2.100900481344454,0.8532191794021992,1.4597929435583463,0.5546946843499974,0.40360266482426876,-0.627649967545893,-0.21974734959521505,-0.36745119417167776,1.0615954870791622,1.7197038013669868,-0.8035358501119899,0.14947126679371667,-0.15509574303929016,-0.6354676120462933,0.2326799437723996,-1.0670243654014324,0.2257639929977805,0.2147371338174817,0.03456105260444044,-1.371345783857724,-1.1543987102747557,-0.8103056850328592,-0.5045439991813159,-0.5778494247045679,-0.0281508151804902,-1.6545036784871108,-0.4637563129944886,-1.9307712666927086,-0.12888244526444495,-0.5143775782130762,0.8761109318746885,1.3569600609698025,1.0349434949968603,0.3568278558678369,-0.5775446495362658,-0.126837916797755,2.250852524970699,-0.556378737876961,1.2904569894882199,-1.5906654495636794,-0.16968908268519695,-1.3895190491720004,0.7830525102256293,-0.7339801795370882,2.0337300716259112,2.5703175923615147,1.2687556947136818,-1.386733874457755,1.5305477921409205,0.2018380287422823,-0.2661481245459103,0.4834784137116493,0.43215573354905623,0.13942655734520312,1.1420441184177124,0.6758791006325379,0.4293109541640208,-0.5882359192551311,-0.4815094655983007,0.23719593826819463,-1.0924119112777848,0.3720037775282143,-0.42210722123425604,-0.2756464607156597,-0.625661034579217,1.3367194064190122]}],                        {\"template\":{\"data\":{\"bar\":[{\"error_x\":{\"color\":\"#2a3f5f\"},\"error_y\":{\"color\":\"#2a3f5f\"},\"marker\":{\"line\":{\"color\":\"#E5ECF6\",\"width\":0.5},\"pattern\":{\"fillmode\":\"overlay\",\"size\":10,\"solidity\":0.2}},\"type\":\"bar\"}],\"barpolar\":[{\"marker\":{\"line\":{\"color\":\"#E5ECF6\",\"width\":0.5},\"pattern\":{\"fillmode\":\"overlay\",\"size\":10,\"solidity\":0.2}},\"type\":\"barpolar\"}],\"carpet\":[{\"aaxis\":{\"endlinecolor\":\"#2a3f5f\",\"gridcolor\":\"white\",\"linecolor\":\"white\",\"minorgridcolor\":\"white\",\"startlinecolor\":\"#2a3f5f\"},\"baxis\":{\"endlinecolor\":\"#2a3f5f\",\"gridcolor\":\"white\",\"linecolor\":\"white\",\"minorgridcolor\":\"white\",\"startlinecolor\":\"#2a3f5f\"},\"type\":\"carpet\"}],\"choropleth\":[{\"colorbar\":{\"outlinewidth\":0,\"ticks\":\"\"},\"type\":\"choropleth\"}],\"contour\":[{\"colorbar\":{\"outlinewidth\":0,\"ticks\":\"\"},\"colorscale\":[[0.0,\"#0d0887\"],[0.1111111111111111,\"#46039f\"],[0.2222222222222222,\"#7201a8\"],[0.3333333333333333,\"#9c179e\"],[0.4444444444444444,\"#bd3786\"],[0.5555555555555556,\"#d8576b\"],[0.6666666666666666,\"#ed7953\"],[0.7777777777777778,\"#fb9f3a\"],[0.8888888888888888,\"#fdca26\"],[1.0,\"#f0f921\"]],\"type\":\"contour\"}],\"contourcarpet\":[{\"colorbar\":{\"outlinewidth\":0,\"ticks\":\"\"},\"type\":\"contourcarpet\"}],\"heatmap\":[{\"colorbar\":{\"outlinewidth\":0,\"ticks\":\"\"},\"colorscale\":[[0.0,\"#0d0887\"],[0.1111111111111111,\"#46039f\"],[0.2222222222222222,\"#7201a8\"],[0.3333333333333333,\"#9c179e\"],[0.4444444444444444,\"#bd3786\"],[0.5555555555555556,\"#d8576b\"],[0.6666666666666666,\"#ed7953\"],[0.7777777777777778,\"#fb9f3a\"],[0.8888888888888888,\"#fdca26\"],[1.0,\"#f0f921\"]],\"type\":\"heatmap\"}],\"heatmapgl\":[{\"colorbar\":{\"outlinewidth\":0,\"ticks\":\"\"},\"colorscale\":[[0.0,\"#0d0887\"],[0.1111111111111111,\"#46039f\"],[0.2222222222222222,\"#7201a8\"],[0.3333333333333333,\"#9c179e\"],[0.4444444444444444,\"#bd3786\"],[0.5555555555555556,\"#d8576b\"],[0.6666666666666666,\"#ed7953\"],[0.7777777777777778,\"#fb9f3a\"],[0.8888888888888888,\"#fdca26\"],[1.0,\"#f0f921\"]],\"type\":\"heatmapgl\"}],\"histogram\":[{\"marker\":{\"pattern\":{\"fillmode\":\"overlay\",\"size\":10,\"solidity\":0.2}},\"type\":\"histogram\"}],\"histogram2d\":[{\"colorbar\":{\"outlinewidth\":0,\"ticks\":\"\"},\"colorscale\":[[0.0,\"#0d0887\"],[0.1111111111111111,\"#46039f\"],[0.2222222222222222,\"#7201a8\"],[0.3333333333333333,\"#9c179e\"],[0.4444444444444444,\"#bd3786\"],[0.5555555555555556,\"#d8576b\"],[0.6666666666666666,\"#ed7953\"],[0.7777777777777778,\"#fb9f3a\"],[0.8888888888888888,\"#fdca26\"],[1.0,\"#f0f921\"]],\"type\":\"histogram2d\"}],\"histogram2dcontour\":[{\"colorbar\":{\"outlinewidth\":0,\"ticks\":\"\"},\"colorscale\":[[0.0,\"#0d0887\"],[0.1111111111111111,\"#46039f\"],[0.2222222222222222,\"#7201a8\"],[0.3333333333333333,\"#9c179e\"],[0.4444444444444444,\"#bd3786\"],[0.5555555555555556,\"#d8576b\"],[0.6666666666666666,\"#ed7953\"],[0.7777777777777778,\"#fb9f3a\"],[0.8888888888888888,\"#fdca26\"],[1.0,\"#f0f921\"]],\"type\":\"histogram2dcontour\"}],\"mesh3d\":[{\"colorbar\":{\"outlinewidth\":0,\"ticks\":\"\"},\"type\":\"mesh3d\"}],\"parcoords\":[{\"line\":{\"colorbar\":{\"outlinewidth\":0,\"ticks\":\"\"}},\"type\":\"parcoords\"}],\"pie\":[{\"automargin\":true,\"type\":\"pie\"}],\"scatter\":[{\"marker\":{\"colorbar\":{\"outlinewidth\":0,\"ticks\":\"\"}},\"type\":\"scatter\"}],\"scatter3d\":[{\"line\":{\"colorbar\":{\"outlinewidth\":0,\"ticks\":\"\"}},\"marker\":{\"colorbar\":{\"outlinewidth\":0,\"ticks\":\"\"}},\"type\":\"scatter3d\"}],\"scattercarpet\":[{\"marker\":{\"colorbar\":{\"outlinewidth\":0,\"ticks\":\"\"}},\"type\":\"scattercarpet\"}],\"scattergeo\":[{\"marker\":{\"colorbar\":{\"outlinewidth\":0,\"ticks\":\"\"}},\"type\":\"scattergeo\"}],\"scattergl\":[{\"marker\":{\"colorbar\":{\"outlinewidth\":0,\"ticks\":\"\"}},\"type\":\"scattergl\"}],\"scattermapbox\":[{\"marker\":{\"colorbar\":{\"outlinewidth\":0,\"ticks\":\"\"}},\"type\":\"scattermapbox\"}],\"scatterpolar\":[{\"marker\":{\"colorbar\":{\"outlinewidth\":0,\"ticks\":\"\"}},\"type\":\"scatterpolar\"}],\"scatterpolargl\":[{\"marker\":{\"colorbar\":{\"outlinewidth\":0,\"ticks\":\"\"}},\"type\":\"scatterpolargl\"}],\"scatterternary\":[{\"marker\":{\"colorbar\":{\"outlinewidth\":0,\"ticks\":\"\"}},\"type\":\"scatterternary\"}],\"surface\":[{\"colorbar\":{\"outlinewidth\":0,\"ticks\":\"\"},\"colorscale\":[[0.0,\"#0d0887\"],[0.1111111111111111,\"#46039f\"],[0.2222222222222222,\"#7201a8\"],[0.3333333333333333,\"#9c179e\"],[0.4444444444444444,\"#bd3786\"],[0.5555555555555556,\"#d8576b\"],[0.6666666666666666,\"#ed7953\"],[0.7777777777777778,\"#fb9f3a\"],[0.8888888888888888,\"#fdca26\"],[1.0,\"#f0f921\"]],\"type\":\"surface\"}],\"table\":[{\"cells\":{\"fill\":{\"color\":\"#EBF0F8\"},\"line\":{\"color\":\"white\"}},\"header\":{\"fill\":{\"color\":\"#C8D4E3\"},\"line\":{\"color\":\"white\"}},\"type\":\"table\"}]},\"layout\":{\"annotationdefaults\":{\"arrowcolor\":\"#2a3f5f\",\"arrowhead\":0,\"arrowwidth\":1},\"autotypenumbers\":\"strict\",\"coloraxis\":{\"colorbar\":{\"outlinewidth\":0,\"ticks\":\"\"}},\"colorscale\":{\"diverging\":[[0,\"#8e0152\"],[0.1,\"#c51b7d\"],[0.2,\"#de77ae\"],[0.3,\"#f1b6da\"],[0.4,\"#fde0ef\"],[0.5,\"#f7f7f7\"],[0.6,\"#e6f5d0\"],[0.7,\"#b8e186\"],[0.8,\"#7fbc41\"],[0.9,\"#4d9221\"],[1,\"#276419\"]],\"sequential\":[[0.0,\"#0d0887\"],[0.1111111111111111,\"#46039f\"],[0.2222222222222222,\"#7201a8\"],[0.3333333333333333,\"#9c179e\"],[0.4444444444444444,\"#bd3786\"],[0.5555555555555556,\"#d8576b\"],[0.6666666666666666,\"#ed7953\"],[0.7777777777777778,\"#fb9f3a\"],[0.8888888888888888,\"#fdca26\"],[1.0,\"#f0f921\"]],\"sequentialminus\":[[0.0,\"#0d0887\"],[0.1111111111111111,\"#46039f\"],[0.2222222222222222,\"#7201a8\"],[0.3333333333333333,\"#9c179e\"],[0.4444444444444444,\"#bd3786\"],[0.5555555555555556,\"#d8576b\"],[0.6666666666666666,\"#ed7953\"],[0.7777777777777778,\"#fb9f3a\"],[0.8888888888888888,\"#fdca26\"],[1.0,\"#f0f921\"]]},\"colorway\":[\"#636efa\",\"#EF553B\",\"#00cc96\",\"#ab63fa\",\"#FFA15A\",\"#19d3f3\",\"#FF6692\",\"#B6E880\",\"#FF97FF\",\"#FECB52\"],\"font\":{\"color\":\"#2a3f5f\"},\"geo\":{\"bgcolor\":\"white\",\"lakecolor\":\"white\",\"landcolor\":\"#E5ECF6\",\"showlakes\":true,\"showland\":true,\"subunitcolor\":\"white\"},\"hoverlabel\":{\"align\":\"left\"},\"hovermode\":\"closest\",\"mapbox\":{\"style\":\"light\"},\"paper_bgcolor\":\"white\",\"plot_bgcolor\":\"#E5ECF6\",\"polar\":{\"angularaxis\":{\"gridcolor\":\"white\",\"linecolor\":\"white\",\"ticks\":\"\"},\"bgcolor\":\"#E5ECF6\",\"radialaxis\":{\"gridcolor\":\"white\",\"linecolor\":\"white\",\"ticks\":\"\"}},\"scene\":{\"xaxis\":{\"backgroundcolor\":\"#E5ECF6\",\"gridcolor\":\"white\",\"gridwidth\":2,\"linecolor\":\"white\",\"showbackground\":true,\"ticks\":\"\",\"zerolinecolor\":\"white\"},\"yaxis\":{\"backgroundcolor\":\"#E5ECF6\",\"gridcolor\":\"white\",\"gridwidth\":2,\"linecolor\":\"white\",\"showbackground\":true,\"ticks\":\"\",\"zerolinecolor\":\"white\"},\"zaxis\":{\"backgroundcolor\":\"#E5ECF6\",\"gridcolor\":\"white\",\"gridwidth\":2,\"linecolor\":\"white\",\"showbackground\":true,\"ticks\":\"\",\"zerolinecolor\":\"white\"}},\"shapedefaults\":{\"line\":{\"color\":\"#2a3f5f\"}},\"ternary\":{\"aaxis\":{\"gridcolor\":\"white\",\"linecolor\":\"white\",\"ticks\":\"\"},\"baxis\":{\"gridcolor\":\"white\",\"linecolor\":\"white\",\"ticks\":\"\"},\"bgcolor\":\"#E5ECF6\",\"caxis\":{\"gridcolor\":\"white\",\"linecolor\":\"white\",\"ticks\":\"\"}},\"title\":{\"x\":0.05},\"xaxis\":{\"automargin\":true,\"gridcolor\":\"white\",\"linecolor\":\"white\",\"ticks\":\"\",\"title\":{\"standoff\":15},\"zerolinecolor\":\"white\",\"zerolinewidth\":2},\"yaxis\":{\"automargin\":true,\"gridcolor\":\"white\",\"linecolor\":\"white\",\"ticks\":\"\",\"title\":{\"standoff\":15},\"zerolinecolor\":\"white\",\"zerolinewidth\":2}}}},                        {\"responsive\": true}                    ).then(function(){\n",
       "                            \n",
       "var gd = document.getElementById('edd3a603-ba27-415b-a80e-7c01d7438997');\n",
       "var x = new MutationObserver(function (mutations, observer) {{\n",
       "        var display = window.getComputedStyle(gd).display;\n",
       "        if (!display || display === 'none') {{\n",
       "            console.log([gd, 'removed!']);\n",
       "            Plotly.purge(gd);\n",
       "            observer.disconnect();\n",
       "        }}\n",
       "}});\n",
       "\n",
       "// Listen for the removal of the full notebook cells\n",
       "var notebookContainer = gd.closest('#notebook-container');\n",
       "if (notebookContainer) {{\n",
       "    x.observe(notebookContainer, {childList: true});\n",
       "}}\n",
       "\n",
       "// Listen for the clearing of the current output cell\n",
       "var outputEl = gd.closest('.output');\n",
       "if (outputEl) {{\n",
       "    x.observe(outputEl, {childList: true});\n",
       "}}\n",
       "\n",
       "                        })                };                });            </script>        </div>"
      ]
     },
     "metadata": {},
     "output_type": "display_data"
    }
   ],
   "source": [
    "import chart_studio.plotly as py\n",
    "import plotly.graph_objs as go \n",
    "\n",
    "import numpy as np\n",
    "\n",
    "N=1000\n",
    "random_x = np.random.randn(N)\n",
    "random_y = np.random.randn(N)\n",
    "\n",
    "trace = go.Scatter(\n",
    "    x = random_x,\n",
    "    y = random_y,\n",
    "    mode = 'markers'\n",
    ")\n",
    "\n",
    "data = [trace]\n",
    "\n",
    "plotly.offline.iplot(data, filename='basic-scatter')"
   ]
  },
  {
   "cell_type": "code",
   "execution_count": 57,
   "id": "valid-parcel",
   "metadata": {},
   "outputs": [
    {
     "name": "stderr",
     "output_type": "stream",
     "text": [
      "/Users/yukaizhuo/opt/anaconda3/envs/datasci/lib/python3.8/site-packages/plotly/offline/offline.py:562: UserWarning:\n",
      "\n",
      "Your filename `basic-scatter` didn't end with .html. Adding .html to the end of your file.\n",
      "\n"
     ]
    },
    {
     "data": {
      "text/plain": [
       "'basic-scatter.html'"
      ]
     },
     "execution_count": 57,
     "metadata": {},
     "output_type": "execute_result"
    }
   ],
   "source": [
    "#把圖畫在 html，這樣可以直接給別人\n",
    "plotly.offline.plot(data, filename='basic-scatter')"
   ]
  },
  {
   "cell_type": "code",
   "execution_count": 60,
   "id": "welsh-african",
   "metadata": {},
   "outputs": [
    {
     "data": {
      "application/vnd.plotly.v1+json": {
       "config": {
        "linkText": "Export to plot.ly",
        "plotlyServerURL": "https://plot.ly",
        "showLink": false
       },
       "data": [
        {
         "mode": "markers",
         "name": "setosa",
         "type": "scatter",
         "x": [
          5.1,
          4.9,
          4.7,
          4.6,
          5,
          5.4,
          4.6,
          5,
          4.4,
          4.9,
          5.4,
          4.8,
          4.8,
          4.3,
          5.8,
          5.7,
          5.4,
          5.1,
          5.7,
          5.1,
          5.4,
          5.1,
          4.6,
          5.1,
          4.8,
          5,
          5,
          5.2,
          5.2,
          4.7,
          4.8,
          5.4,
          5.2,
          5.5,
          4.9,
          5,
          5.5,
          4.9,
          4.4,
          5.1,
          5,
          4.5,
          4.4,
          5,
          5.1,
          4.8,
          5.1,
          4.6,
          5.3,
          5
         ],
         "y": [
          0.2,
          0.2,
          0.2,
          0.2,
          0.2,
          0.4,
          0.3,
          0.2,
          0.2,
          0.1,
          0.2,
          0.2,
          0.1,
          0.1,
          0.2,
          0.4,
          0.4,
          0.3,
          0.3,
          0.3,
          0.2,
          0.4,
          0.2,
          0.5,
          0.2,
          0.2,
          0.4,
          0.2,
          0.2,
          0.2,
          0.2,
          0.4,
          0.1,
          0.2,
          0.2,
          0.2,
          0.2,
          0.1,
          0.2,
          0.2,
          0.3,
          0.3,
          0.2,
          0.6,
          0.4,
          0.3,
          0.2,
          0.2,
          0.2,
          0.2
         ]
        },
        {
         "mode": "markers",
         "name": "versicolor",
         "type": "scatter",
         "x": [
          7,
          6.4,
          6.9,
          5.5,
          6.5,
          5.7,
          6.3,
          4.9,
          6.6,
          5.2,
          5,
          5.9,
          6,
          6.1,
          5.6,
          6.7,
          5.6,
          5.8,
          6.2,
          5.6,
          5.9,
          6.1,
          6.3,
          6.1,
          6.4,
          6.6,
          6.8,
          6.7,
          6,
          5.7,
          5.5,
          5.5,
          5.8,
          6,
          5.4,
          6,
          6.7,
          6.3,
          5.6,
          5.5,
          5.5,
          6.1,
          5.8,
          5,
          5.6,
          5.7,
          5.7,
          6.2,
          5.1,
          5.7
         ],
         "y": [
          1.4,
          1.5,
          1.5,
          1.3,
          1.5,
          1.3,
          1.6,
          1,
          1.3,
          1.4,
          1,
          1.5,
          1,
          1.4,
          1.3,
          1.4,
          1.5,
          1,
          1.5,
          1.1,
          1.8,
          1.3,
          1.5,
          1.2,
          1.3,
          1.4,
          1.4,
          1.7,
          1.5,
          1,
          1.1,
          1,
          1.2,
          1.6,
          1.5,
          1.6,
          1.5,
          1.3,
          1.3,
          1.3,
          1.2,
          1.4,
          1.2,
          1,
          1.3,
          1.2,
          1.3,
          1.3,
          1.1,
          1.3
         ]
        },
        {
         "mode": "markers",
         "name": "virginica",
         "type": "scatter",
         "x": [
          6.3,
          5.8,
          7.1,
          6.3,
          6.5,
          7.6,
          4.9,
          7.3,
          6.7,
          7.2,
          6.5,
          6.4,
          6.8,
          5.7,
          5.8,
          6.4,
          6.5,
          7.7,
          7.7,
          6,
          6.9,
          5.6,
          7.7,
          6.3,
          6.7,
          7.2,
          6.2,
          6.1,
          6.4,
          7.2,
          7.4,
          7.9,
          6.4,
          6.3,
          6.1,
          7.7,
          6.3,
          6.4,
          6,
          6.9,
          6.7,
          6.9,
          5.8,
          6.8,
          6.7,
          6.7,
          6.3,
          6.5,
          6.2,
          5.9
         ],
         "y": [
          2.5,
          1.9,
          2.1,
          1.8,
          2.2,
          2.1,
          1.7,
          1.8,
          1.8,
          2.5,
          2,
          1.9,
          2.1,
          2,
          2.4,
          2.3,
          1.8,
          2.2,
          2.3,
          1.5,
          2.3,
          2,
          2,
          1.8,
          2.1,
          1.8,
          1.8,
          1.8,
          2.1,
          1.6,
          1.9,
          2,
          2.2,
          1.5,
          1.4,
          2.3,
          2.4,
          1.8,
          1.8,
          2.1,
          2.4,
          2.3,
          1.9,
          2.3,
          2.5,
          2.3,
          1.9,
          2,
          2.3,
          1.8
         ]
        }
       ],
       "layout": {
        "template": {
         "data": {
          "bar": [
           {
            "error_x": {
             "color": "#2a3f5f"
            },
            "error_y": {
             "color": "#2a3f5f"
            },
            "marker": {
             "line": {
              "color": "#E5ECF6",
              "width": 0.5
             },
             "pattern": {
              "fillmode": "overlay",
              "size": 10,
              "solidity": 0.2
             }
            },
            "type": "bar"
           }
          ],
          "barpolar": [
           {
            "marker": {
             "line": {
              "color": "#E5ECF6",
              "width": 0.5
             },
             "pattern": {
              "fillmode": "overlay",
              "size": 10,
              "solidity": 0.2
             }
            },
            "type": "barpolar"
           }
          ],
          "carpet": [
           {
            "aaxis": {
             "endlinecolor": "#2a3f5f",
             "gridcolor": "white",
             "linecolor": "white",
             "minorgridcolor": "white",
             "startlinecolor": "#2a3f5f"
            },
            "baxis": {
             "endlinecolor": "#2a3f5f",
             "gridcolor": "white",
             "linecolor": "white",
             "minorgridcolor": "white",
             "startlinecolor": "#2a3f5f"
            },
            "type": "carpet"
           }
          ],
          "choropleth": [
           {
            "colorbar": {
             "outlinewidth": 0,
             "ticks": ""
            },
            "type": "choropleth"
           }
          ],
          "contour": [
           {
            "colorbar": {
             "outlinewidth": 0,
             "ticks": ""
            },
            "colorscale": [
             [
              0,
              "#0d0887"
             ],
             [
              0.1111111111111111,
              "#46039f"
             ],
             [
              0.2222222222222222,
              "#7201a8"
             ],
             [
              0.3333333333333333,
              "#9c179e"
             ],
             [
              0.4444444444444444,
              "#bd3786"
             ],
             [
              0.5555555555555556,
              "#d8576b"
             ],
             [
              0.6666666666666666,
              "#ed7953"
             ],
             [
              0.7777777777777778,
              "#fb9f3a"
             ],
             [
              0.8888888888888888,
              "#fdca26"
             ],
             [
              1,
              "#f0f921"
             ]
            ],
            "type": "contour"
           }
          ],
          "contourcarpet": [
           {
            "colorbar": {
             "outlinewidth": 0,
             "ticks": ""
            },
            "type": "contourcarpet"
           }
          ],
          "heatmap": [
           {
            "colorbar": {
             "outlinewidth": 0,
             "ticks": ""
            },
            "colorscale": [
             [
              0,
              "#0d0887"
             ],
             [
              0.1111111111111111,
              "#46039f"
             ],
             [
              0.2222222222222222,
              "#7201a8"
             ],
             [
              0.3333333333333333,
              "#9c179e"
             ],
             [
              0.4444444444444444,
              "#bd3786"
             ],
             [
              0.5555555555555556,
              "#d8576b"
             ],
             [
              0.6666666666666666,
              "#ed7953"
             ],
             [
              0.7777777777777778,
              "#fb9f3a"
             ],
             [
              0.8888888888888888,
              "#fdca26"
             ],
             [
              1,
              "#f0f921"
             ]
            ],
            "type": "heatmap"
           }
          ],
          "heatmapgl": [
           {
            "colorbar": {
             "outlinewidth": 0,
             "ticks": ""
            },
            "colorscale": [
             [
              0,
              "#0d0887"
             ],
             [
              0.1111111111111111,
              "#46039f"
             ],
             [
              0.2222222222222222,
              "#7201a8"
             ],
             [
              0.3333333333333333,
              "#9c179e"
             ],
             [
              0.4444444444444444,
              "#bd3786"
             ],
             [
              0.5555555555555556,
              "#d8576b"
             ],
             [
              0.6666666666666666,
              "#ed7953"
             ],
             [
              0.7777777777777778,
              "#fb9f3a"
             ],
             [
              0.8888888888888888,
              "#fdca26"
             ],
             [
              1,
              "#f0f921"
             ]
            ],
            "type": "heatmapgl"
           }
          ],
          "histogram": [
           {
            "marker": {
             "pattern": {
              "fillmode": "overlay",
              "size": 10,
              "solidity": 0.2
             }
            },
            "type": "histogram"
           }
          ],
          "histogram2d": [
           {
            "colorbar": {
             "outlinewidth": 0,
             "ticks": ""
            },
            "colorscale": [
             [
              0,
              "#0d0887"
             ],
             [
              0.1111111111111111,
              "#46039f"
             ],
             [
              0.2222222222222222,
              "#7201a8"
             ],
             [
              0.3333333333333333,
              "#9c179e"
             ],
             [
              0.4444444444444444,
              "#bd3786"
             ],
             [
              0.5555555555555556,
              "#d8576b"
             ],
             [
              0.6666666666666666,
              "#ed7953"
             ],
             [
              0.7777777777777778,
              "#fb9f3a"
             ],
             [
              0.8888888888888888,
              "#fdca26"
             ],
             [
              1,
              "#f0f921"
             ]
            ],
            "type": "histogram2d"
           }
          ],
          "histogram2dcontour": [
           {
            "colorbar": {
             "outlinewidth": 0,
             "ticks": ""
            },
            "colorscale": [
             [
              0,
              "#0d0887"
             ],
             [
              0.1111111111111111,
              "#46039f"
             ],
             [
              0.2222222222222222,
              "#7201a8"
             ],
             [
              0.3333333333333333,
              "#9c179e"
             ],
             [
              0.4444444444444444,
              "#bd3786"
             ],
             [
              0.5555555555555556,
              "#d8576b"
             ],
             [
              0.6666666666666666,
              "#ed7953"
             ],
             [
              0.7777777777777778,
              "#fb9f3a"
             ],
             [
              0.8888888888888888,
              "#fdca26"
             ],
             [
              1,
              "#f0f921"
             ]
            ],
            "type": "histogram2dcontour"
           }
          ],
          "mesh3d": [
           {
            "colorbar": {
             "outlinewidth": 0,
             "ticks": ""
            },
            "type": "mesh3d"
           }
          ],
          "parcoords": [
           {
            "line": {
             "colorbar": {
              "outlinewidth": 0,
              "ticks": ""
             }
            },
            "type": "parcoords"
           }
          ],
          "pie": [
           {
            "automargin": true,
            "type": "pie"
           }
          ],
          "scatter": [
           {
            "marker": {
             "colorbar": {
              "outlinewidth": 0,
              "ticks": ""
             }
            },
            "type": "scatter"
           }
          ],
          "scatter3d": [
           {
            "line": {
             "colorbar": {
              "outlinewidth": 0,
              "ticks": ""
             }
            },
            "marker": {
             "colorbar": {
              "outlinewidth": 0,
              "ticks": ""
             }
            },
            "type": "scatter3d"
           }
          ],
          "scattercarpet": [
           {
            "marker": {
             "colorbar": {
              "outlinewidth": 0,
              "ticks": ""
             }
            },
            "type": "scattercarpet"
           }
          ],
          "scattergeo": [
           {
            "marker": {
             "colorbar": {
              "outlinewidth": 0,
              "ticks": ""
             }
            },
            "type": "scattergeo"
           }
          ],
          "scattergl": [
           {
            "marker": {
             "colorbar": {
              "outlinewidth": 0,
              "ticks": ""
             }
            },
            "type": "scattergl"
           }
          ],
          "scattermapbox": [
           {
            "marker": {
             "colorbar": {
              "outlinewidth": 0,
              "ticks": ""
             }
            },
            "type": "scattermapbox"
           }
          ],
          "scatterpolar": [
           {
            "marker": {
             "colorbar": {
              "outlinewidth": 0,
              "ticks": ""
             }
            },
            "type": "scatterpolar"
           }
          ],
          "scatterpolargl": [
           {
            "marker": {
             "colorbar": {
              "outlinewidth": 0,
              "ticks": ""
             }
            },
            "type": "scatterpolargl"
           }
          ],
          "scatterternary": [
           {
            "marker": {
             "colorbar": {
              "outlinewidth": 0,
              "ticks": ""
             }
            },
            "type": "scatterternary"
           }
          ],
          "surface": [
           {
            "colorbar": {
             "outlinewidth": 0,
             "ticks": ""
            },
            "colorscale": [
             [
              0,
              "#0d0887"
             ],
             [
              0.1111111111111111,
              "#46039f"
             ],
             [
              0.2222222222222222,
              "#7201a8"
             ],
             [
              0.3333333333333333,
              "#9c179e"
             ],
             [
              0.4444444444444444,
              "#bd3786"
             ],
             [
              0.5555555555555556,
              "#d8576b"
             ],
             [
              0.6666666666666666,
              "#ed7953"
             ],
             [
              0.7777777777777778,
              "#fb9f3a"
             ],
             [
              0.8888888888888888,
              "#fdca26"
             ],
             [
              1,
              "#f0f921"
             ]
            ],
            "type": "surface"
           }
          ],
          "table": [
           {
            "cells": {
             "fill": {
              "color": "#EBF0F8"
             },
             "line": {
              "color": "white"
             }
            },
            "header": {
             "fill": {
              "color": "#C8D4E3"
             },
             "line": {
              "color": "white"
             }
            },
            "type": "table"
           }
          ]
         },
         "layout": {
          "annotationdefaults": {
           "arrowcolor": "#2a3f5f",
           "arrowhead": 0,
           "arrowwidth": 1
          },
          "autotypenumbers": "strict",
          "coloraxis": {
           "colorbar": {
            "outlinewidth": 0,
            "ticks": ""
           }
          },
          "colorscale": {
           "diverging": [
            [
             0,
             "#8e0152"
            ],
            [
             0.1,
             "#c51b7d"
            ],
            [
             0.2,
             "#de77ae"
            ],
            [
             0.3,
             "#f1b6da"
            ],
            [
             0.4,
             "#fde0ef"
            ],
            [
             0.5,
             "#f7f7f7"
            ],
            [
             0.6,
             "#e6f5d0"
            ],
            [
             0.7,
             "#b8e186"
            ],
            [
             0.8,
             "#7fbc41"
            ],
            [
             0.9,
             "#4d9221"
            ],
            [
             1,
             "#276419"
            ]
           ],
           "sequential": [
            [
             0,
             "#0d0887"
            ],
            [
             0.1111111111111111,
             "#46039f"
            ],
            [
             0.2222222222222222,
             "#7201a8"
            ],
            [
             0.3333333333333333,
             "#9c179e"
            ],
            [
             0.4444444444444444,
             "#bd3786"
            ],
            [
             0.5555555555555556,
             "#d8576b"
            ],
            [
             0.6666666666666666,
             "#ed7953"
            ],
            [
             0.7777777777777778,
             "#fb9f3a"
            ],
            [
             0.8888888888888888,
             "#fdca26"
            ],
            [
             1,
             "#f0f921"
            ]
           ],
           "sequentialminus": [
            [
             0,
             "#0d0887"
            ],
            [
             0.1111111111111111,
             "#46039f"
            ],
            [
             0.2222222222222222,
             "#7201a8"
            ],
            [
             0.3333333333333333,
             "#9c179e"
            ],
            [
             0.4444444444444444,
             "#bd3786"
            ],
            [
             0.5555555555555556,
             "#d8576b"
            ],
            [
             0.6666666666666666,
             "#ed7953"
            ],
            [
             0.7777777777777778,
             "#fb9f3a"
            ],
            [
             0.8888888888888888,
             "#fdca26"
            ],
            [
             1,
             "#f0f921"
            ]
           ]
          },
          "colorway": [
           "#636efa",
           "#EF553B",
           "#00cc96",
           "#ab63fa",
           "#FFA15A",
           "#19d3f3",
           "#FF6692",
           "#B6E880",
           "#FF97FF",
           "#FECB52"
          ],
          "font": {
           "color": "#2a3f5f"
          },
          "geo": {
           "bgcolor": "white",
           "lakecolor": "white",
           "landcolor": "#E5ECF6",
           "showlakes": true,
           "showland": true,
           "subunitcolor": "white"
          },
          "hoverlabel": {
           "align": "left"
          },
          "hovermode": "closest",
          "mapbox": {
           "style": "light"
          },
          "paper_bgcolor": "white",
          "plot_bgcolor": "#E5ECF6",
          "polar": {
           "angularaxis": {
            "gridcolor": "white",
            "linecolor": "white",
            "ticks": ""
           },
           "bgcolor": "#E5ECF6",
           "radialaxis": {
            "gridcolor": "white",
            "linecolor": "white",
            "ticks": ""
           }
          },
          "scene": {
           "xaxis": {
            "backgroundcolor": "#E5ECF6",
            "gridcolor": "white",
            "gridwidth": 2,
            "linecolor": "white",
            "showbackground": true,
            "ticks": "",
            "zerolinecolor": "white"
           },
           "yaxis": {
            "backgroundcolor": "#E5ECF6",
            "gridcolor": "white",
            "gridwidth": 2,
            "linecolor": "white",
            "showbackground": true,
            "ticks": "",
            "zerolinecolor": "white"
           },
           "zaxis": {
            "backgroundcolor": "#E5ECF6",
            "gridcolor": "white",
            "gridwidth": 2,
            "linecolor": "white",
            "showbackground": true,
            "ticks": "",
            "zerolinecolor": "white"
           }
          },
          "shapedefaults": {
           "line": {
            "color": "#2a3f5f"
           }
          },
          "ternary": {
           "aaxis": {
            "gridcolor": "white",
            "linecolor": "white",
            "ticks": ""
           },
           "baxis": {
            "gridcolor": "white",
            "linecolor": "white",
            "ticks": ""
           },
           "bgcolor": "#E5ECF6",
           "caxis": {
            "gridcolor": "white",
            "linecolor": "white",
            "ticks": ""
           }
          },
          "title": {
           "x": 0.05
          },
          "xaxis": {
           "automargin": true,
           "gridcolor": "white",
           "linecolor": "white",
           "ticks": "",
           "title": {
            "standoff": 15
           },
           "zerolinecolor": "white",
           "zerolinewidth": 2
          },
          "yaxis": {
           "automargin": true,
           "gridcolor": "white",
           "linecolor": "white",
           "ticks": "",
           "title": {
            "standoff": 15
           },
           "zerolinecolor": "white",
           "zerolinewidth": 2
          }
         }
        }
       }
      },
      "text/html": [
       "<div>                            <div id=\"3a79a47d-a882-4695-bc30-859ac2f9fce9\" class=\"plotly-graph-div\" style=\"height:525px; width:100%;\"></div>            <script type=\"text/javascript\">                require([\"plotly\"], function(Plotly) {                    window.PLOTLYENV=window.PLOTLYENV || {};                                    if (document.getElementById(\"3a79a47d-a882-4695-bc30-859ac2f9fce9\")) {                    Plotly.newPlot(                        \"3a79a47d-a882-4695-bc30-859ac2f9fce9\",                        [{\"mode\":\"markers\",\"name\":\"setosa\",\"type\":\"scatter\",\"x\":[5.1,4.9,4.7,4.6,5.0,5.4,4.6,5.0,4.4,4.9,5.4,4.8,4.8,4.3,5.8,5.7,5.4,5.1,5.7,5.1,5.4,5.1,4.6,5.1,4.8,5.0,5.0,5.2,5.2,4.7,4.8,5.4,5.2,5.5,4.9,5.0,5.5,4.9,4.4,5.1,5.0,4.5,4.4,5.0,5.1,4.8,5.1,4.6,5.3,5.0],\"y\":[0.2,0.2,0.2,0.2,0.2,0.4,0.3,0.2,0.2,0.1,0.2,0.2,0.1,0.1,0.2,0.4,0.4,0.3,0.3,0.3,0.2,0.4,0.2,0.5,0.2,0.2,0.4,0.2,0.2,0.2,0.2,0.4,0.1,0.2,0.2,0.2,0.2,0.1,0.2,0.2,0.3,0.3,0.2,0.6,0.4,0.3,0.2,0.2,0.2,0.2]},{\"mode\":\"markers\",\"name\":\"versicolor\",\"type\":\"scatter\",\"x\":[7.0,6.4,6.9,5.5,6.5,5.7,6.3,4.9,6.6,5.2,5.0,5.9,6.0,6.1,5.6,6.7,5.6,5.8,6.2,5.6,5.9,6.1,6.3,6.1,6.4,6.6,6.8,6.7,6.0,5.7,5.5,5.5,5.8,6.0,5.4,6.0,6.7,6.3,5.6,5.5,5.5,6.1,5.8,5.0,5.6,5.7,5.7,6.2,5.1,5.7],\"y\":[1.4,1.5,1.5,1.3,1.5,1.3,1.6,1.0,1.3,1.4,1.0,1.5,1.0,1.4,1.3,1.4,1.5,1.0,1.5,1.1,1.8,1.3,1.5,1.2,1.3,1.4,1.4,1.7,1.5,1.0,1.1,1.0,1.2,1.6,1.5,1.6,1.5,1.3,1.3,1.3,1.2,1.4,1.2,1.0,1.3,1.2,1.3,1.3,1.1,1.3]},{\"mode\":\"markers\",\"name\":\"virginica\",\"type\":\"scatter\",\"x\":[6.3,5.8,7.1,6.3,6.5,7.6,4.9,7.3,6.7,7.2,6.5,6.4,6.8,5.7,5.8,6.4,6.5,7.7,7.7,6.0,6.9,5.6,7.7,6.3,6.7,7.2,6.2,6.1,6.4,7.2,7.4,7.9,6.4,6.3,6.1,7.7,6.3,6.4,6.0,6.9,6.7,6.9,5.8,6.8,6.7,6.7,6.3,6.5,6.2,5.9],\"y\":[2.5,1.9,2.1,1.8,2.2,2.1,1.7,1.8,1.8,2.5,2.0,1.9,2.1,2.0,2.4,2.3,1.8,2.2,2.3,1.5,2.3,2.0,2.0,1.8,2.1,1.8,1.8,1.8,2.1,1.6,1.9,2.0,2.2,1.5,1.4,2.3,2.4,1.8,1.8,2.1,2.4,2.3,1.9,2.3,2.5,2.3,1.9,2.0,2.3,1.8]}],                        {\"template\":{\"data\":{\"bar\":[{\"error_x\":{\"color\":\"#2a3f5f\"},\"error_y\":{\"color\":\"#2a3f5f\"},\"marker\":{\"line\":{\"color\":\"#E5ECF6\",\"width\":0.5},\"pattern\":{\"fillmode\":\"overlay\",\"size\":10,\"solidity\":0.2}},\"type\":\"bar\"}],\"barpolar\":[{\"marker\":{\"line\":{\"color\":\"#E5ECF6\",\"width\":0.5},\"pattern\":{\"fillmode\":\"overlay\",\"size\":10,\"solidity\":0.2}},\"type\":\"barpolar\"}],\"carpet\":[{\"aaxis\":{\"endlinecolor\":\"#2a3f5f\",\"gridcolor\":\"white\",\"linecolor\":\"white\",\"minorgridcolor\":\"white\",\"startlinecolor\":\"#2a3f5f\"},\"baxis\":{\"endlinecolor\":\"#2a3f5f\",\"gridcolor\":\"white\",\"linecolor\":\"white\",\"minorgridcolor\":\"white\",\"startlinecolor\":\"#2a3f5f\"},\"type\":\"carpet\"}],\"choropleth\":[{\"colorbar\":{\"outlinewidth\":0,\"ticks\":\"\"},\"type\":\"choropleth\"}],\"contour\":[{\"colorbar\":{\"outlinewidth\":0,\"ticks\":\"\"},\"colorscale\":[[0.0,\"#0d0887\"],[0.1111111111111111,\"#46039f\"],[0.2222222222222222,\"#7201a8\"],[0.3333333333333333,\"#9c179e\"],[0.4444444444444444,\"#bd3786\"],[0.5555555555555556,\"#d8576b\"],[0.6666666666666666,\"#ed7953\"],[0.7777777777777778,\"#fb9f3a\"],[0.8888888888888888,\"#fdca26\"],[1.0,\"#f0f921\"]],\"type\":\"contour\"}],\"contourcarpet\":[{\"colorbar\":{\"outlinewidth\":0,\"ticks\":\"\"},\"type\":\"contourcarpet\"}],\"heatmap\":[{\"colorbar\":{\"outlinewidth\":0,\"ticks\":\"\"},\"colorscale\":[[0.0,\"#0d0887\"],[0.1111111111111111,\"#46039f\"],[0.2222222222222222,\"#7201a8\"],[0.3333333333333333,\"#9c179e\"],[0.4444444444444444,\"#bd3786\"],[0.5555555555555556,\"#d8576b\"],[0.6666666666666666,\"#ed7953\"],[0.7777777777777778,\"#fb9f3a\"],[0.8888888888888888,\"#fdca26\"],[1.0,\"#f0f921\"]],\"type\":\"heatmap\"}],\"heatmapgl\":[{\"colorbar\":{\"outlinewidth\":0,\"ticks\":\"\"},\"colorscale\":[[0.0,\"#0d0887\"],[0.1111111111111111,\"#46039f\"],[0.2222222222222222,\"#7201a8\"],[0.3333333333333333,\"#9c179e\"],[0.4444444444444444,\"#bd3786\"],[0.5555555555555556,\"#d8576b\"],[0.6666666666666666,\"#ed7953\"],[0.7777777777777778,\"#fb9f3a\"],[0.8888888888888888,\"#fdca26\"],[1.0,\"#f0f921\"]],\"type\":\"heatmapgl\"}],\"histogram\":[{\"marker\":{\"pattern\":{\"fillmode\":\"overlay\",\"size\":10,\"solidity\":0.2}},\"type\":\"histogram\"}],\"histogram2d\":[{\"colorbar\":{\"outlinewidth\":0,\"ticks\":\"\"},\"colorscale\":[[0.0,\"#0d0887\"],[0.1111111111111111,\"#46039f\"],[0.2222222222222222,\"#7201a8\"],[0.3333333333333333,\"#9c179e\"],[0.4444444444444444,\"#bd3786\"],[0.5555555555555556,\"#d8576b\"],[0.6666666666666666,\"#ed7953\"],[0.7777777777777778,\"#fb9f3a\"],[0.8888888888888888,\"#fdca26\"],[1.0,\"#f0f921\"]],\"type\":\"histogram2d\"}],\"histogram2dcontour\":[{\"colorbar\":{\"outlinewidth\":0,\"ticks\":\"\"},\"colorscale\":[[0.0,\"#0d0887\"],[0.1111111111111111,\"#46039f\"],[0.2222222222222222,\"#7201a8\"],[0.3333333333333333,\"#9c179e\"],[0.4444444444444444,\"#bd3786\"],[0.5555555555555556,\"#d8576b\"],[0.6666666666666666,\"#ed7953\"],[0.7777777777777778,\"#fb9f3a\"],[0.8888888888888888,\"#fdca26\"],[1.0,\"#f0f921\"]],\"type\":\"histogram2dcontour\"}],\"mesh3d\":[{\"colorbar\":{\"outlinewidth\":0,\"ticks\":\"\"},\"type\":\"mesh3d\"}],\"parcoords\":[{\"line\":{\"colorbar\":{\"outlinewidth\":0,\"ticks\":\"\"}},\"type\":\"parcoords\"}],\"pie\":[{\"automargin\":true,\"type\":\"pie\"}],\"scatter\":[{\"marker\":{\"colorbar\":{\"outlinewidth\":0,\"ticks\":\"\"}},\"type\":\"scatter\"}],\"scatter3d\":[{\"line\":{\"colorbar\":{\"outlinewidth\":0,\"ticks\":\"\"}},\"marker\":{\"colorbar\":{\"outlinewidth\":0,\"ticks\":\"\"}},\"type\":\"scatter3d\"}],\"scattercarpet\":[{\"marker\":{\"colorbar\":{\"outlinewidth\":0,\"ticks\":\"\"}},\"type\":\"scattercarpet\"}],\"scattergeo\":[{\"marker\":{\"colorbar\":{\"outlinewidth\":0,\"ticks\":\"\"}},\"type\":\"scattergeo\"}],\"scattergl\":[{\"marker\":{\"colorbar\":{\"outlinewidth\":0,\"ticks\":\"\"}},\"type\":\"scattergl\"}],\"scattermapbox\":[{\"marker\":{\"colorbar\":{\"outlinewidth\":0,\"ticks\":\"\"}},\"type\":\"scattermapbox\"}],\"scatterpolar\":[{\"marker\":{\"colorbar\":{\"outlinewidth\":0,\"ticks\":\"\"}},\"type\":\"scatterpolar\"}],\"scatterpolargl\":[{\"marker\":{\"colorbar\":{\"outlinewidth\":0,\"ticks\":\"\"}},\"type\":\"scatterpolargl\"}],\"scatterternary\":[{\"marker\":{\"colorbar\":{\"outlinewidth\":0,\"ticks\":\"\"}},\"type\":\"scatterternary\"}],\"surface\":[{\"colorbar\":{\"outlinewidth\":0,\"ticks\":\"\"},\"colorscale\":[[0.0,\"#0d0887\"],[0.1111111111111111,\"#46039f\"],[0.2222222222222222,\"#7201a8\"],[0.3333333333333333,\"#9c179e\"],[0.4444444444444444,\"#bd3786\"],[0.5555555555555556,\"#d8576b\"],[0.6666666666666666,\"#ed7953\"],[0.7777777777777778,\"#fb9f3a\"],[0.8888888888888888,\"#fdca26\"],[1.0,\"#f0f921\"]],\"type\":\"surface\"}],\"table\":[{\"cells\":{\"fill\":{\"color\":\"#EBF0F8\"},\"line\":{\"color\":\"white\"}},\"header\":{\"fill\":{\"color\":\"#C8D4E3\"},\"line\":{\"color\":\"white\"}},\"type\":\"table\"}]},\"layout\":{\"annotationdefaults\":{\"arrowcolor\":\"#2a3f5f\",\"arrowhead\":0,\"arrowwidth\":1},\"autotypenumbers\":\"strict\",\"coloraxis\":{\"colorbar\":{\"outlinewidth\":0,\"ticks\":\"\"}},\"colorscale\":{\"diverging\":[[0,\"#8e0152\"],[0.1,\"#c51b7d\"],[0.2,\"#de77ae\"],[0.3,\"#f1b6da\"],[0.4,\"#fde0ef\"],[0.5,\"#f7f7f7\"],[0.6,\"#e6f5d0\"],[0.7,\"#b8e186\"],[0.8,\"#7fbc41\"],[0.9,\"#4d9221\"],[1,\"#276419\"]],\"sequential\":[[0.0,\"#0d0887\"],[0.1111111111111111,\"#46039f\"],[0.2222222222222222,\"#7201a8\"],[0.3333333333333333,\"#9c179e\"],[0.4444444444444444,\"#bd3786\"],[0.5555555555555556,\"#d8576b\"],[0.6666666666666666,\"#ed7953\"],[0.7777777777777778,\"#fb9f3a\"],[0.8888888888888888,\"#fdca26\"],[1.0,\"#f0f921\"]],\"sequentialminus\":[[0.0,\"#0d0887\"],[0.1111111111111111,\"#46039f\"],[0.2222222222222222,\"#7201a8\"],[0.3333333333333333,\"#9c179e\"],[0.4444444444444444,\"#bd3786\"],[0.5555555555555556,\"#d8576b\"],[0.6666666666666666,\"#ed7953\"],[0.7777777777777778,\"#fb9f3a\"],[0.8888888888888888,\"#fdca26\"],[1.0,\"#f0f921\"]]},\"colorway\":[\"#636efa\",\"#EF553B\",\"#00cc96\",\"#ab63fa\",\"#FFA15A\",\"#19d3f3\",\"#FF6692\",\"#B6E880\",\"#FF97FF\",\"#FECB52\"],\"font\":{\"color\":\"#2a3f5f\"},\"geo\":{\"bgcolor\":\"white\",\"lakecolor\":\"white\",\"landcolor\":\"#E5ECF6\",\"showlakes\":true,\"showland\":true,\"subunitcolor\":\"white\"},\"hoverlabel\":{\"align\":\"left\"},\"hovermode\":\"closest\",\"mapbox\":{\"style\":\"light\"},\"paper_bgcolor\":\"white\",\"plot_bgcolor\":\"#E5ECF6\",\"polar\":{\"angularaxis\":{\"gridcolor\":\"white\",\"linecolor\":\"white\",\"ticks\":\"\"},\"bgcolor\":\"#E5ECF6\",\"radialaxis\":{\"gridcolor\":\"white\",\"linecolor\":\"white\",\"ticks\":\"\"}},\"scene\":{\"xaxis\":{\"backgroundcolor\":\"#E5ECF6\",\"gridcolor\":\"white\",\"gridwidth\":2,\"linecolor\":\"white\",\"showbackground\":true,\"ticks\":\"\",\"zerolinecolor\":\"white\"},\"yaxis\":{\"backgroundcolor\":\"#E5ECF6\",\"gridcolor\":\"white\",\"gridwidth\":2,\"linecolor\":\"white\",\"showbackground\":true,\"ticks\":\"\",\"zerolinecolor\":\"white\"},\"zaxis\":{\"backgroundcolor\":\"#E5ECF6\",\"gridcolor\":\"white\",\"gridwidth\":2,\"linecolor\":\"white\",\"showbackground\":true,\"ticks\":\"\",\"zerolinecolor\":\"white\"}},\"shapedefaults\":{\"line\":{\"color\":\"#2a3f5f\"}},\"ternary\":{\"aaxis\":{\"gridcolor\":\"white\",\"linecolor\":\"white\",\"ticks\":\"\"},\"baxis\":{\"gridcolor\":\"white\",\"linecolor\":\"white\",\"ticks\":\"\"},\"bgcolor\":\"#E5ECF6\",\"caxis\":{\"gridcolor\":\"white\",\"linecolor\":\"white\",\"ticks\":\"\"}},\"title\":{\"x\":0.05},\"xaxis\":{\"automargin\":true,\"gridcolor\":\"white\",\"linecolor\":\"white\",\"ticks\":\"\",\"title\":{\"standoff\":15},\"zerolinecolor\":\"white\",\"zerolinewidth\":2},\"yaxis\":{\"automargin\":true,\"gridcolor\":\"white\",\"linecolor\":\"white\",\"ticks\":\"\",\"title\":{\"standoff\":15},\"zerolinecolor\":\"white\",\"zerolinewidth\":2}}}},                        {\"responsive\": true}                    ).then(function(){\n",
       "                            \n",
       "var gd = document.getElementById('3a79a47d-a882-4695-bc30-859ac2f9fce9');\n",
       "var x = new MutationObserver(function (mutations, observer) {{\n",
       "        var display = window.getComputedStyle(gd).display;\n",
       "        if (!display || display === 'none') {{\n",
       "            console.log([gd, 'removed!']);\n",
       "            Plotly.purge(gd);\n",
       "            observer.disconnect();\n",
       "        }}\n",
       "}});\n",
       "\n",
       "// Listen for the removal of the full notebook cells\n",
       "var notebookContainer = gd.closest('#notebook-container');\n",
       "if (notebookContainer) {{\n",
       "    x.observe(notebookContainer, {childList: true});\n",
       "}}\n",
       "\n",
       "// Listen for the clearing of the current output cell\n",
       "var outputEl = gd.closest('.output');\n",
       "if (outputEl) {{\n",
       "    x.observe(outputEl, {childList: true});\n",
       "}}\n",
       "\n",
       "                        })                };                });            </script>        </div>"
      ]
     },
     "metadata": {},
     "output_type": "display_data"
    }
   ],
   "source": [
    "#比較複雜的畫圖\n",
    "trace0 = go.Scatter(\n",
    "    x = iris_data[iris_data['target']==0]['sepal length (cm)'],\n",
    "    y = iris_data[iris_data['target']==0]['petal width (cm)'],\n",
    "    mode = 'markers',\n",
    "    name = 'setosa'\n",
    ")\n",
    "trace1 = go.Scatter(\n",
    "    x = iris_data[iris_data['target']==1]['sepal length (cm)'],\n",
    "    y = iris_data[iris_data['target']==1]['petal width (cm)'],\n",
    "    mode = 'markers',\n",
    "    name = 'versicolor'\n",
    ")\n",
    "trace2 = go.Scatter(\n",
    "    x = iris_data[iris_data['target']==2]['sepal length (cm)'],\n",
    "    y = iris_data[iris_data['target']==2]['petal width (cm)'],\n",
    "    mode = 'markers',\n",
    "    name = 'virginica'\n",
    ")\n",
    "\n",
    "data = [trace0, trace1, trace2]\n",
    "plotly.offline.iplot(data, filename='basic-scaatter')"
   ]
  },
  {
   "cell_type": "code",
   "execution_count": null,
   "id": "loaded-reggae",
   "metadata": {},
   "outputs": [],
   "source": []
  }
 ],
 "metadata": {
  "kernelspec": {
   "display_name": "Python 3",
   "language": "python",
   "name": "python3"
  },
  "language_info": {
   "codemirror_mode": {
    "name": "ipython",
    "version": 3
   },
   "file_extension": ".py",
   "mimetype": "text/x-python",
   "name": "python",
   "nbconvert_exporter": "python",
   "pygments_lexer": "ipython3",
   "version": "3.8.8"
  }
 },
 "nbformat": 4,
 "nbformat_minor": 5
}
